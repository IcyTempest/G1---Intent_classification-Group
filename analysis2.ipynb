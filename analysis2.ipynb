{
 "cells": [
  {
   "cell_type": "code",
   "execution_count": 52,
   "metadata": {},
   "outputs": [
    {
     "ename": "IndexError",
     "evalue": "list index out of range",
     "output_type": "error",
     "traceback": [
      "\u001b[0;31m---------------------------------------------------------------------------\u001b[0m",
      "\u001b[0;31mIndexError\u001b[0m                                Traceback (most recent call last)",
      "File \u001b[0;32m~/Desktop/G2---Intent_classification-Group/generate_detail.py:126\u001b[0m, in \u001b[0;36m<module>\u001b[0;34m\u001b[0m\n\u001b[1;32m    110\u001b[0m         f\u001b[39m.\u001b[39mwrite(\n\u001b[1;32m    111\u001b[0m             generate_markdown_table(\n\u001b[1;32m    112\u001b[0m                 [\n\u001b[0;32m   (...)\u001b[0m\n\u001b[1;32m    121\u001b[0m             )\n\u001b[1;32m    122\u001b[0m         )\n\u001b[1;32m    125\u001b[0m \u001b[39mif\u001b[39;00m \u001b[39m__name__\u001b[39m \u001b[39m==\u001b[39m \u001b[39m\"\u001b[39m\u001b[39m__main__\u001b[39m\u001b[39m\"\u001b[39m:\n\u001b[0;32m--> 126\u001b[0m     main()\n",
      "File \u001b[0;32m~/Desktop/G2---Intent_classification-Group/generate_detail.py:96\u001b[0m, in \u001b[0;36mmain\u001b[0;34m()\u001b[0m\n\u001b[1;32m     95\u001b[0m \u001b[39mdef\u001b[39;00m \u001b[39mmain\u001b[39m():\n\u001b[0;32m---> 96\u001b[0m     words_count, entities_count, entity_types_count, max_length \u001b[39m=\u001b[39m collect_stats(\n\u001b[1;32m     97\u001b[0m         \u001b[39m\"\u001b[39;49m\u001b[39mentity-tag\u001b[39;49m\u001b[39m\"\u001b[39;49m\n\u001b[1;32m     98\u001b[0m     )\n\u001b[1;32m    100\u001b[0m     \u001b[39mwith\u001b[39;00m \u001b[39mopen\u001b[39m(\u001b[39m\"\u001b[39m\u001b[39mstats.md\u001b[39m\u001b[39m\"\u001b[39m, \u001b[39m\"\u001b[39m\u001b[39mw\u001b[39m\u001b[39m\"\u001b[39m) \u001b[39mas\u001b[39;00m f:\n\u001b[1;32m    101\u001b[0m         f\u001b[39m.\u001b[39mwrite(\u001b[39m\"\u001b[39m\u001b[39m# Entity Tagging Dataset\u001b[39m\u001b[39m\\n\u001b[39;00m\u001b[39m\\n\u001b[39;00m\u001b[39m\"\u001b[39m)\n",
      "File \u001b[0;32m~/Desktop/G2---Intent_classification-Group/generate_detail.py:87\u001b[0m, in \u001b[0;36mcollect_stats\u001b[0;34m(directory)\u001b[0m\n\u001b[1;32m     84\u001b[0m \u001b[39mfor\u001b[39;00m word \u001b[39min\u001b[39;00m segments:\n\u001b[1;32m     85\u001b[0m     count_into(words_count, word[\u001b[39m\"\u001b[39m\u001b[39mtext\u001b[39m\u001b[39m\"\u001b[39m])\n\u001b[0;32m---> 87\u001b[0m \u001b[39mfor\u001b[39;00m entity \u001b[39min\u001b[39;00m collect_entities(segments):\n\u001b[1;32m     88\u001b[0m     count_into(\n\u001b[1;32m     89\u001b[0m         entities_count, entity[\u001b[39m\"\u001b[39m\u001b[39mvalue\u001b[39m\u001b[39m\"\u001b[39m] \u001b[39m+\u001b[39m \u001b[39m\"\u001b[39m\u001b[39m:\u001b[39m\u001b[39m\"\u001b[39m \u001b[39m+\u001b[39m entity[\u001b[39m\"\u001b[39m\u001b[39mtype_code\u001b[39m\u001b[39m\"\u001b[39m]\n\u001b[1;32m     90\u001b[0m     )\n\u001b[1;32m     91\u001b[0m     count_into(entity_types_count, entity[\u001b[39m\"\u001b[39m\u001b[39mtype_code\u001b[39m\u001b[39m\"\u001b[39m])\n",
      "File \u001b[0;32m~/Desktop/G2---Intent_classification-Group/generate_detail.py:52\u001b[0m, in \u001b[0;36mcollect_entities\u001b[0;34m(segments)\u001b[0m\n\u001b[1;32m     50\u001b[0m prev \u001b[39m=\u001b[39m \u001b[39mnext\u001b[39m(iter_entities)\n\u001b[1;32m     51\u001b[0m entity_value \u001b[39m=\u001b[39m prev[\u001b[39m\"\u001b[39m\u001b[39mtext\u001b[39m\u001b[39m\"\u001b[39m]\n\u001b[0;32m---> 52\u001b[0m prev_entity_code \u001b[39m=\u001b[39m prev[\u001b[39m\"\u001b[39;49m\u001b[39mentity\u001b[39;49m\u001b[39m\"\u001b[39;49m]\u001b[39m.\u001b[39;49msplit(\u001b[39m\"\u001b[39;49m\u001b[39m-\u001b[39;49m\u001b[39m\"\u001b[39;49m)[\u001b[39m1\u001b[39;49m]\n\u001b[1;32m     53\u001b[0m \u001b[39mfor\u001b[39;00m entity \u001b[39min\u001b[39;00m iter_entities:\n\u001b[1;32m     54\u001b[0m     curr_marker, curr_entity_code \u001b[39m=\u001b[39m entity[\u001b[39m\"\u001b[39m\u001b[39mentity\u001b[39m\u001b[39m\"\u001b[39m]\u001b[39m.\u001b[39msplit(\u001b[39m\"\u001b[39m\u001b[39m-\u001b[39m\u001b[39m\"\u001b[39m)\n",
      "\u001b[0;31mIndexError\u001b[0m: list index out of range"
     ]
    },
    {
     "ename": "IndexError",
     "evalue": "list index out of range",
     "output_type": "error",
     "traceback": [
      "\u001b[0;31m---------------------------------------------------------------------------\u001b[0m",
      "\u001b[0;31mIndexError\u001b[0m                                Traceback (most recent call last)",
      "\u001b[1;32m/Users/chhunheangpin/Desktop/G2---Intent_classification-Group/analysis2.ipynb Cell 1\u001b[0m in \u001b[0;36m<cell line: 15>\u001b[0;34m()\u001b[0m\n\u001b[1;32m     <a href='vscode-notebook-cell:/Users/chhunheangpin/Desktop/G2---Intent_classification-Group/analysis2.ipynb#W0sZmlsZQ%3D%3D?line=11'>12</a>\u001b[0m \u001b[39m# parse dataset\u001b[39;00m\n\u001b[1;32m     <a href='vscode-notebook-cell:/Users/chhunheangpin/Desktop/G2---Intent_classification-Group/analysis2.ipynb#W0sZmlsZQ%3D%3D?line=12'>13</a>\u001b[0m get_ipython()\u001b[39m.\u001b[39mrun_line_magic(\u001b[39m'\u001b[39m\u001b[39mrun\u001b[39m\u001b[39m'\u001b[39m, \u001b[39m'\u001b[39m\u001b[39m\"\u001b[39m\u001b[39mgenerate_detail.py\u001b[39m\u001b[39m\"\u001b[39m\u001b[39m'\u001b[39m)\n\u001b[0;32m---> <a href='vscode-notebook-cell:/Users/chhunheangpin/Desktop/G2---Intent_classification-Group/analysis2.ipynb#W0sZmlsZQ%3D%3D?line=14'>15</a>\u001b[0m words_count_data, entities_count_data, entity_types_count_data, max_length \u001b[39m=\u001b[39m collect_stats(\n\u001b[1;32m     <a href='vscode-notebook-cell:/Users/chhunheangpin/Desktop/G2---Intent_classification-Group/analysis2.ipynb#W0sZmlsZQ%3D%3D?line=15'>16</a>\u001b[0m     \u001b[39m\"\u001b[39;49m\u001b[39mentity-tag\u001b[39;49m\u001b[39m\"\u001b[39;49m\n\u001b[1;32m     <a href='vscode-notebook-cell:/Users/chhunheangpin/Desktop/G2---Intent_classification-Group/analysis2.ipynb#W0sZmlsZQ%3D%3D?line=16'>17</a>\u001b[0m )\n",
      "File \u001b[0;32m~/Desktop/G2---Intent_classification-Group/generate_detail.py:87\u001b[0m, in \u001b[0;36mcollect_stats\u001b[0;34m(directory)\u001b[0m\n\u001b[1;32m     84\u001b[0m \u001b[39mfor\u001b[39;00m word \u001b[39min\u001b[39;00m segments:\n\u001b[1;32m     85\u001b[0m     count_into(words_count, word[\u001b[39m\"\u001b[39m\u001b[39mtext\u001b[39m\u001b[39m\"\u001b[39m])\n\u001b[0;32m---> 87\u001b[0m \u001b[39mfor\u001b[39;00m entity \u001b[39min\u001b[39;00m collect_entities(segments):\n\u001b[1;32m     88\u001b[0m     count_into(\n\u001b[1;32m     89\u001b[0m         entities_count, entity[\u001b[39m\"\u001b[39m\u001b[39mvalue\u001b[39m\u001b[39m\"\u001b[39m] \u001b[39m+\u001b[39m \u001b[39m\"\u001b[39m\u001b[39m:\u001b[39m\u001b[39m\"\u001b[39m \u001b[39m+\u001b[39m entity[\u001b[39m\"\u001b[39m\u001b[39mtype_code\u001b[39m\u001b[39m\"\u001b[39m]\n\u001b[1;32m     90\u001b[0m     )\n\u001b[1;32m     91\u001b[0m     count_into(entity_types_count, entity[\u001b[39m\"\u001b[39m\u001b[39mtype_code\u001b[39m\u001b[39m\"\u001b[39m])\n",
      "File \u001b[0;32m~/Desktop/G2---Intent_classification-Group/generate_detail.py:52\u001b[0m, in \u001b[0;36mcollect_entities\u001b[0;34m(segments)\u001b[0m\n\u001b[1;32m     50\u001b[0m prev \u001b[39m=\u001b[39m \u001b[39mnext\u001b[39m(iter_entities)\n\u001b[1;32m     51\u001b[0m entity_value \u001b[39m=\u001b[39m prev[\u001b[39m\"\u001b[39m\u001b[39mtext\u001b[39m\u001b[39m\"\u001b[39m]\n\u001b[0;32m---> 52\u001b[0m prev_entity_code \u001b[39m=\u001b[39m prev[\u001b[39m\"\u001b[39;49m\u001b[39mentity\u001b[39;49m\u001b[39m\"\u001b[39;49m]\u001b[39m.\u001b[39;49msplit(\u001b[39m\"\u001b[39;49m\u001b[39m-\u001b[39;49m\u001b[39m\"\u001b[39;49m)[\u001b[39m1\u001b[39;49m]\n\u001b[1;32m     53\u001b[0m \u001b[39mfor\u001b[39;00m entity \u001b[39min\u001b[39;00m iter_entities:\n\u001b[1;32m     54\u001b[0m     curr_marker, curr_entity_code \u001b[39m=\u001b[39m entity[\u001b[39m\"\u001b[39m\u001b[39mentity\u001b[39m\u001b[39m\"\u001b[39m]\u001b[39m.\u001b[39msplit(\u001b[39m\"\u001b[39m\u001b[39m-\u001b[39m\u001b[39m\"\u001b[39m)\n",
      "\u001b[0;31mIndexError\u001b[0m: list index out of range"
     ]
    }
   ],
   "source": [
    "import pandas as pd\n",
    "import seaborn as sns\n",
    "sns.set_palette('Reds')\n",
    "\n",
    "import numpy as np\n",
    "import matplotlib.pyplot as plt\n",
    "from matplotlib.axes._axes import _log as matplotlib_axes_logger\n",
    "import os\n",
    "plt.rcParams[\"figure.figsize\"] = (16, 10)\n",
    "matplotlib_axes_logger.setLevel('ERROR')\n",
    "\n",
    "# parse dataset\n",
    "%run \"generate_detail.py\"\n",
    "\n",
    "words_count_data, entities_count_data, entity_types_count_data, max_length = collect_stats(\n",
    "    \"entity-tag\"\n",
    ")\n"
   ]
  },
  {
   "cell_type": "code",
   "execution_count": 51,
   "metadata": {},
   "outputs": [
    {
     "name": "stdout",
     "output_type": "stream",
     "text": [
      "POS : 53 files.\n",
      "datasets : 53 files.\n",
      "entity-tag : 53 files.\n",
      "segments : 53 files.\n"
     ]
    }
   ],
   "source": [
    "pos = os.listdir('POS')\n",
    "dataset = os.listdir('datasets')\n",
    "entity = os.listdir('entity-tag')\n",
    "segment = os.listdir('segments')\n",
    "\n",
    "# count = 0\n",
    "# for i in dataset:\n",
    "#     if i not in pos:\n",
    "#         count = count+1\n",
    "#         print(i)\n",
    "# print(count)         \n",
    "            \n",
    "\n",
    "print(\"POS : {} files.\".format(len(pos)))\n",
    "print(\"datasets : {} files.\".format(len(dataset)))\n",
    "print(\"entity-tag : {} files.\".format(len(entity)))\n",
    "print(\"segments : {} files.\".format(len(segment)))"
   ]
  },
  {
   "cell_type": "code",
   "execution_count": 50,
   "metadata": {},
   "outputs": [
    {
     "name": "stdout",
     "output_type": "stream",
     "text": [
      "0\n"
     ]
    }
   ],
   "source": []
  },
  {
   "cell_type": "code",
   "execution_count": null,
   "metadata": {},
   "outputs": [],
   "source": []
  },
  {
   "cell_type": "code",
   "execution_count": null,
   "metadata": {},
   "outputs": [],
   "source": []
  }
 ],
 "metadata": {
  "kernelspec": {
   "display_name": "Python 3.10.2 64-bit",
   "language": "python",
   "name": "python3"
  },
  "language_info": {
   "codemirror_mode": {
    "name": "ipython",
    "version": 3
   },
   "file_extension": ".py",
   "mimetype": "text/x-python",
   "name": "python",
   "nbconvert_exporter": "python",
   "pygments_lexer": "ipython3",
   "version": "3.10.2"
  },
  "orig_nbformat": 4,
  "vscode": {
   "interpreter": {
    "hash": "aee8b7b246df8f9039afb4144a1f6fd8d2ca17a180786b69acc140d282b71a49"
   }
  }
 },
 "nbformat": 4,
 "nbformat_minor": 2
}
