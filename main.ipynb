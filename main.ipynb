{
 "cells": [
  {
   "cell_type": "code",
   "execution_count": 2,
   "outputs": [],
   "source": [
    "import pandas as pd\n",
    "import os"
   ],
   "metadata": {
    "collapsed": false,
    "pycharm": {
     "name": "#%%\n"
    }
   }
  },
  {
   "cell_type": "code",
   "execution_count": 34,
   "outputs": [],
   "source": [
    "files = [f for f in os.listdir(\"datasets/\")]\n",
    "\n",
    "df = pd.concat([pd.read_csv(\"datasets/{}\".format(f)) for f in files], axis=0, ignore_index=True)\n",
    "\n",
    "df.to_csv(\"all_data/all_data_dataset.csv\", index=False)"
   ],
   "metadata": {
    "collapsed": false,
    "pycharm": {
     "name": "#%%\n"
    }
   }
  },
  {
   "cell_type": "code",
   "execution_count": 35,
   "outputs": [
    {
     "data": {
      "text/plain": "                                            Question               Intent\n0       តើCADTបានប្រកាសថាមានការប្រកួតប្រជែងអ្វីខ្លះ?  AskAboutCompetition\n1           តើCADTបានប្រកាសថាមានCompetitionអ្វីខ្លះ?  AskAboutCompetition\n2  តើCADTបានបង្កើតនូវកម្មវិធីការប្រកួតប្រជែងអ្វីខ...  AskAboutCompetition\n3     តើCADTបានបង្កើតនូវកម្មវិធីCompetitionអ្វីខ្លះ?  AskAboutCompetition\n4   តើCADTបានhostនូវកម្មវិធីការប្រកួតប្រជែងអ្វីខ្លះ?  AskAboutCompetition",
      "text/html": "<div>\n<style scoped>\n    .dataframe tbody tr th:only-of-type {\n        vertical-align: middle;\n    }\n\n    .dataframe tbody tr th {\n        vertical-align: top;\n    }\n\n    .dataframe thead th {\n        text-align: right;\n    }\n</style>\n<table border=\"1\" class=\"dataframe\">\n  <thead>\n    <tr style=\"text-align: right;\">\n      <th></th>\n      <th>Question</th>\n      <th>Intent</th>\n    </tr>\n  </thead>\n  <tbody>\n    <tr>\n      <th>0</th>\n      <td>តើCADTបានប្រកាសថាមានការប្រកួតប្រជែងអ្វីខ្លះ?</td>\n      <td>AskAboutCompetition</td>\n    </tr>\n    <tr>\n      <th>1</th>\n      <td>តើCADTបានប្រកាសថាមានCompetitionអ្វីខ្លះ?</td>\n      <td>AskAboutCompetition</td>\n    </tr>\n    <tr>\n      <th>2</th>\n      <td>តើCADTបានបង្កើតនូវកម្មវិធីការប្រកួតប្រជែងអ្វីខ...</td>\n      <td>AskAboutCompetition</td>\n    </tr>\n    <tr>\n      <th>3</th>\n      <td>តើCADTបានបង្កើតនូវកម្មវិធីCompetitionអ្វីខ្លះ?</td>\n      <td>AskAboutCompetition</td>\n    </tr>\n    <tr>\n      <th>4</th>\n      <td>តើCADTបានhostនូវកម្មវិធីការប្រកួតប្រជែងអ្វីខ្លះ?</td>\n      <td>AskAboutCompetition</td>\n    </tr>\n  </tbody>\n</table>\n</div>"
     },
     "execution_count": 35,
     "metadata": {},
     "output_type": "execute_result"
    }
   ],
   "source": [
    "data = pd.read_csv(\"all_data/all_data_dataset.csv\")\n",
    "data.head()"
   ],
   "metadata": {
    "collapsed": false,
    "pycharm": {
     "name": "#%%\n"
    }
   }
  },
  {
   "cell_type": "code",
   "execution_count": 36,
   "outputs": [
    {
     "data": {
      "text/plain": "                      Question\nIntent                        \nAskAboutCompetition        144\nAskAboutSchoolMajors       852\nAskWhereHRRoomIs          2520\nFindCurrentTime           1770\nFindTotalStudents          504\nListParkingSpace            81",
      "text/html": "<div>\n<style scoped>\n    .dataframe tbody tr th:only-of-type {\n        vertical-align: middle;\n    }\n\n    .dataframe tbody tr th {\n        vertical-align: top;\n    }\n\n    .dataframe thead th {\n        text-align: right;\n    }\n</style>\n<table border=\"1\" class=\"dataframe\">\n  <thead>\n    <tr style=\"text-align: right;\">\n      <th></th>\n      <th>Question</th>\n    </tr>\n    <tr>\n      <th>Intent</th>\n      <th></th>\n    </tr>\n  </thead>\n  <tbody>\n    <tr>\n      <th>AskAboutCompetition</th>\n      <td>144</td>\n    </tr>\n    <tr>\n      <th>AskAboutSchoolMajors</th>\n      <td>852</td>\n    </tr>\n    <tr>\n      <th>AskWhereHRRoomIs</th>\n      <td>2520</td>\n    </tr>\n    <tr>\n      <th>FindCurrentTime</th>\n      <td>1770</td>\n    </tr>\n    <tr>\n      <th>FindTotalStudents</th>\n      <td>504</td>\n    </tr>\n    <tr>\n      <th>ListParkingSpace</th>\n      <td>81</td>\n    </tr>\n  </tbody>\n</table>\n</div>"
     },
     "execution_count": 36,
     "metadata": {},
     "output_type": "execute_result"
    }
   ],
   "source": [
    "data.groupby(data[\"Intent\"]).count()"
   ],
   "metadata": {
    "collapsed": false,
    "pycharm": {
     "name": "#%%\n"
    }
   }
  },
  {
   "cell_type": "code",
   "execution_count": 36,
   "outputs": [],
   "source": [],
   "metadata": {
    "collapsed": false,
    "pycharm": {
     "name": "#%%\n"
    }
   }
  },
  {
   "cell_type": "code",
   "execution_count": null,
   "outputs": [],
   "source": [],
   "metadata": {
    "collapsed": false,
    "pycharm": {
     "name": "#%%\n"
    }
   }
  }
 ],
 "metadata": {
  "kernelspec": {
   "display_name": "Python 3",
   "language": "python",
   "name": "python3"
  },
  "language_info": {
   "codemirror_mode": {
    "name": "ipython",
    "version": 2
   },
   "file_extension": ".py",
   "mimetype": "text/x-python",
   "name": "python",
   "nbconvert_exporter": "python",
   "pygments_lexer": "ipython2",
   "version": "2.7.6"
  }
 },
 "nbformat": 4,
 "nbformat_minor": 0
}