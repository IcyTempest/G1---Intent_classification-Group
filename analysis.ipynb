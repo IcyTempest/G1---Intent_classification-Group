{
 "cells": [
  {
   "cell_type": "code",
   "execution_count": 79,
   "outputs": [],
   "source": [
    "import re\n",
    "\n",
    "import pandas as pd\n",
    "import numpy as np\n",
    "import os\n"
   ],
   "metadata": {
    "collapsed": false,
    "pycharm": {
     "name": "#%%\n"
    }
   }
  },
  {
   "cell_type": "markdown",
   "source": [
    "## Concatenate Dataset into one File"
   ],
   "metadata": {
    "collapsed": false,
    "pycharm": {
     "name": "#%% md\n"
    }
   }
  },
  {
   "cell_type": "code",
   "execution_count": 80,
   "outputs": [],
   "source": [
    "def myConcat(direcToScan: str, outputFilename: str, outputDirec: str = \"all_data\"):\n",
    "    files = [f for f in os.listdir(\"{}/\".format(direcToScan))]\n",
    "\n",
    "    datasets = pd.concat([pd.read_csv(\"{}/{}\".format(direcToScan, f)) for f in files], axis=0, ignore_index=True)\n",
    "\n",
    "    datasets.to_csv(\"{}/{}.csv\".format(outputDirec, outputFilename), index=False)"
   ],
   "metadata": {
    "collapsed": false,
    "pycharm": {
     "name": "#%%\n"
    }
   }
  },
  {
   "cell_type": "code",
   "execution_count": 81,
   "outputs": [],
   "source": [
    "## Concatenate All Dataset into one File\n",
    "myConcat(direcToScan=\"datasets\", outputFilename=\"all_data_dataset\")\n",
    "\n",
    "## Concatenate All Entity-tag Dataset into one File\n",
    "myConcat(direcToScan=\"entity-tag\", outputFilename=\"all_entity_dataset\")"
   ],
   "metadata": {
    "collapsed": false,
    "pycharm": {
     "name": "#%%\n"
    }
   }
  },
  {
   "cell_type": "markdown",
   "source": [
    "## Find Amount of Sentences per intent as well as Total"
   ],
   "metadata": {
    "collapsed": false,
    "pycharm": {
     "name": "#%% md\n"
    }
   }
  },
  {
   "cell_type": "code",
   "execution_count": 82,
   "outputs": [
    {
     "data": {
      "text/plain": "                                            Question               Intent\n0       តើCADTបានប្រកាសថាមានការប្រកួតប្រជែងអ្វីខ្លះ?  AskAboutCompetition\n1           តើCADTបានប្រកាសថាមានCompetitionអ្វីខ្លះ?  AskAboutCompetition\n2  តើCADTបានបង្កើតនូវកម្មវិធីការប្រកួតប្រជែងអ្វីខ...  AskAboutCompetition\n3     តើCADTបានបង្កើតនូវកម្មវិធីCompetitionអ្វីខ្លះ?  AskAboutCompetition\n4   តើCADTបានhostនូវកម្មវិធីការប្រកួតប្រជែងអ្វីខ្លះ?  AskAboutCompetition",
      "text/html": "<div>\n<style scoped>\n    .dataframe tbody tr th:only-of-type {\n        vertical-align: middle;\n    }\n\n    .dataframe tbody tr th {\n        vertical-align: top;\n    }\n\n    .dataframe thead th {\n        text-align: right;\n    }\n</style>\n<table border=\"1\" class=\"dataframe\">\n  <thead>\n    <tr style=\"text-align: right;\">\n      <th></th>\n      <th>Question</th>\n      <th>Intent</th>\n    </tr>\n  </thead>\n  <tbody>\n    <tr>\n      <th>0</th>\n      <td>តើCADTបានប្រកាសថាមានការប្រកួតប្រជែងអ្វីខ្លះ?</td>\n      <td>AskAboutCompetition</td>\n    </tr>\n    <tr>\n      <th>1</th>\n      <td>តើCADTបានប្រកាសថាមានCompetitionអ្វីខ្លះ?</td>\n      <td>AskAboutCompetition</td>\n    </tr>\n    <tr>\n      <th>2</th>\n      <td>តើCADTបានបង្កើតនូវកម្មវិធីការប្រកួតប្រជែងអ្វីខ...</td>\n      <td>AskAboutCompetition</td>\n    </tr>\n    <tr>\n      <th>3</th>\n      <td>តើCADTបានបង្កើតនូវកម្មវិធីCompetitionអ្វីខ្លះ?</td>\n      <td>AskAboutCompetition</td>\n    </tr>\n    <tr>\n      <th>4</th>\n      <td>តើCADTបានhostនូវកម្មវិធីការប្រកួតប្រជែងអ្វីខ្លះ?</td>\n      <td>AskAboutCompetition</td>\n    </tr>\n  </tbody>\n</table>\n</div>"
     },
     "execution_count": 82,
     "metadata": {},
     "output_type": "execute_result"
    }
   ],
   "source": [
    "## Find Amount of Sentences\n",
    "data = pd.read_csv(\"all_data/all_data_dataset.csv\")\n",
    "data.head()"
   ],
   "metadata": {
    "collapsed": false,
    "pycharm": {
     "name": "#%%\n"
    }
   }
  },
  {
   "cell_type": "code",
   "execution_count": 83,
   "outputs": [
    {
     "data": {
      "text/plain": "                      Question\nIntent                        \nAskAboutCompetition        144\nAskAboutSchoolMajors       852\nAskWhereHRRoomIs          2520\nFindCurrentTime           1770\nFindTotalStudents          504\nListParkingSpace            81",
      "text/html": "<div>\n<style scoped>\n    .dataframe tbody tr th:only-of-type {\n        vertical-align: middle;\n    }\n\n    .dataframe tbody tr th {\n        vertical-align: top;\n    }\n\n    .dataframe thead th {\n        text-align: right;\n    }\n</style>\n<table border=\"1\" class=\"dataframe\">\n  <thead>\n    <tr style=\"text-align: right;\">\n      <th></th>\n      <th>Question</th>\n    </tr>\n    <tr>\n      <th>Intent</th>\n      <th></th>\n    </tr>\n  </thead>\n  <tbody>\n    <tr>\n      <th>AskAboutCompetition</th>\n      <td>144</td>\n    </tr>\n    <tr>\n      <th>AskAboutSchoolMajors</th>\n      <td>852</td>\n    </tr>\n    <tr>\n      <th>AskWhereHRRoomIs</th>\n      <td>2520</td>\n    </tr>\n    <tr>\n      <th>FindCurrentTime</th>\n      <td>1770</td>\n    </tr>\n    <tr>\n      <th>FindTotalStudents</th>\n      <td>504</td>\n    </tr>\n    <tr>\n      <th>ListParkingSpace</th>\n      <td>81</td>\n    </tr>\n  </tbody>\n</table>\n</div>"
     },
     "execution_count": 83,
     "metadata": {},
     "output_type": "execute_result"
    }
   ],
   "source": [
    "data.groupby(data[\"Intent\"]).count()"
   ],
   "metadata": {
    "collapsed": false,
    "pycharm": {
     "name": "#%%\n"
    }
   }
  },
  {
   "cell_type": "code",
   "execution_count": 84,
   "outputs": [
    {
     "data": {
      "text/plain": "5871"
     },
     "execution_count": 84,
     "metadata": {},
     "output_type": "execute_result"
    }
   ],
   "source": [
    "# Find Total\n",
    "data.Question.count()"
   ],
   "metadata": {
    "collapsed": false,
    "pycharm": {
     "name": "#%%\n"
    }
   }
  },
  {
   "cell_type": "markdown",
   "source": [
    "## Check amount of entities as well as for any errors"
   ],
   "metadata": {
    "collapsed": false,
    "pycharm": {
     "name": "#%% md\n"
    }
   }
  },
  {
   "cell_type": "code",
   "execution_count": 85,
   "outputs": [],
   "source": [
    "entityDataFrame = pd.read_csv(\"all_data/all_entity_dataset.csv\")\n",
    "entityFrame = pd.read_csv(\"Named Entity.csv\")"
   ],
   "metadata": {
    "collapsed": false,
    "pycharm": {
     "name": "#%%\n"
    }
   }
  },
  {
   "cell_type": "markdown",
   "source": [],
   "metadata": {
    "collapsed": false,
    "pycharm": {
     "name": "#%% md\n"
    }
   }
  },
  {
   "cell_type": "code",
   "execution_count": 86,
   "outputs": [
    {
     "name": "stdout",
     "output_type": "stream",
     "text": [
      "<class 'pandas.core.frame.DataFrame'>\n",
      "RangeIndex: 15 entries, 0 to 14\n",
      "Data columns (total 4 columns):\n",
      " #   Column        Non-Null Count  Dtype \n",
      "---  ------        --------------  ----- \n",
      " 0   Unnamed: 0    15 non-null     int64 \n",
      " 1   Named Entity  15 non-null     object\n",
      " 2   NE Code       15 non-null     object\n",
      " 3   Remarks       14 non-null     object\n",
      "dtypes: int64(1), object(3)\n",
      "memory usage: 608.0+ bytes\n"
     ]
    }
   ],
   "source": [
    "entityFrame.info()"
   ],
   "metadata": {
    "collapsed": false,
    "pycharm": {
     "name": "#%%\n"
    }
   }
  },
  {
   "cell_type": "markdown",
   "source": [],
   "metadata": {
    "collapsed": false,
    "pycharm": {
     "name": "#%% md\n"
    }
   }
  },
  {
   "cell_type": "code",
   "execution_count": 87,
   "outputs": [],
   "source": [
    "# Remove white space from column name and apply it to csv file\n",
    "entityFrame = entityFrame.rename(columns={entityFrame.columns.values[1]: entityFrame.columns.values[1].strip()})\n",
    "entityFrame.to_csv(\"Named Entity.csv\")"
   ],
   "metadata": {
    "collapsed": false,
    "pycharm": {
     "name": "#%%\n"
    }
   }
  },
  {
   "cell_type": "code",
   "execution_count": 90,
   "outputs": [
    {
     "data": {
      "text/plain": "  Intent  Amount\n0   ROOM    2520\n1  BUILD      48\n2    PER    3476\n3    GPE      90\n4    ORG    2130",
      "text/html": "<div>\n<style scoped>\n    .dataframe tbody tr th:only-of-type {\n        vertical-align: middle;\n    }\n\n    .dataframe tbody tr th {\n        vertical-align: top;\n    }\n\n    .dataframe thead th {\n        text-align: right;\n    }\n</style>\n<table border=\"1\" class=\"dataframe\">\n  <thead>\n    <tr style=\"text-align: right;\">\n      <th></th>\n      <th>Intent</th>\n      <th>Amount</th>\n    </tr>\n  </thead>\n  <tbody>\n    <tr>\n      <th>0</th>\n      <td>ROOM</td>\n      <td>2520</td>\n    </tr>\n    <tr>\n      <th>1</th>\n      <td>BUILD</td>\n      <td>48</td>\n    </tr>\n    <tr>\n      <th>2</th>\n      <td>PER</td>\n      <td>3476</td>\n    </tr>\n    <tr>\n      <th>3</th>\n      <td>GPE</td>\n      <td>90</td>\n    </tr>\n    <tr>\n      <th>4</th>\n      <td>ORG</td>\n      <td>2130</td>\n    </tr>\n  </tbody>\n</table>\n</div>"
     },
     "execution_count": 90,
     "metadata": {},
     "output_type": "execute_result"
    }
   ],
   "source": [
    "myDict = {}\n",
    "entityTag = entityFrame[\"NE Code\"].to_list()\n",
    "entitySentences = entityDataFrame[\"Question\"].to_list()\n",
    "\n",
    "for x in entityTag:\n",
    "    count = 0\n",
    "    for j in entitySentences:\n",
    "        sentence = j.split()\n",
    "        for c in range(len(sentence)):\n",
    "            # Matches /B-Word until space\n",
    "            if re.search(r\"/B-{}\\w*\".format(x), sentence[c]):\n",
    "                count += 1\n",
    "                split = sentence[c].rsplit(\"/B-\", maxsplit=1)[1]\n",
    "                myDict.update({split : count})\n",
    "\n",
    "entityAmount = pd.DataFrame(myDict.items(), columns=[\"Intent\", \"Amount\"])\n",
    "entityAmount"
   ],
   "metadata": {
    "collapsed": false,
    "pycharm": {
     "name": "#%%\n"
    }
   }
  },
  {
   "cell_type": "code",
   "execution_count": 91,
   "outputs": [
    {
     "data": {
      "text/plain": "  Intent  Amount Percentage\n0   ROOM    2520     30.49%\n1  BUILD      48      0.58%\n2    PER    3476     42.06%\n3    GPE      90      1.09%\n4    ORG    2130     25.77%",
      "text/html": "<div>\n<style scoped>\n    .dataframe tbody tr th:only-of-type {\n        vertical-align: middle;\n    }\n\n    .dataframe tbody tr th {\n        vertical-align: top;\n    }\n\n    .dataframe thead th {\n        text-align: right;\n    }\n</style>\n<table border=\"1\" class=\"dataframe\">\n  <thead>\n    <tr style=\"text-align: right;\">\n      <th></th>\n      <th>Intent</th>\n      <th>Amount</th>\n      <th>Percentage</th>\n    </tr>\n  </thead>\n  <tbody>\n    <tr>\n      <th>0</th>\n      <td>ROOM</td>\n      <td>2520</td>\n      <td>30.49%</td>\n    </tr>\n    <tr>\n      <th>1</th>\n      <td>BUILD</td>\n      <td>48</td>\n      <td>0.58%</td>\n    </tr>\n    <tr>\n      <th>2</th>\n      <td>PER</td>\n      <td>3476</td>\n      <td>42.06%</td>\n    </tr>\n    <tr>\n      <th>3</th>\n      <td>GPE</td>\n      <td>90</td>\n      <td>1.09%</td>\n    </tr>\n    <tr>\n      <th>4</th>\n      <td>ORG</td>\n      <td>2130</td>\n      <td>25.77%</td>\n    </tr>\n  </tbody>\n</table>\n</div>"
     },
     "execution_count": 91,
     "metadata": {},
     "output_type": "execute_result"
    }
   ],
   "source": [
    "## Calculate the percentage\n",
    "\n",
    "# Sum of Intent\n",
    "totalIntentTag = sum(myDict[x] for x in myDict)\n",
    "rise  = [ \"{0:.2f}%\".format(myDict[x]*100/totalIntentTag) for x in myDict]\n",
    "\n",
    "\n",
    "# array = np.asarray(rise)\n",
    "#\n",
    "# arrayV2 = np.fromiter((\"{0:.2f}%\".format(myDict[x]*100/totalIntentTag) for x in myDict), dtype=str)\n",
    "\n",
    "entityAmount[\"Percentage\"] = rise\n",
    "entityAmount"
   ],
   "metadata": {
    "collapsed": false,
    "pycharm": {
     "name": "#%%\n"
    }
   }
  },
  {
   "cell_type": "code",
   "execution_count": 89,
   "outputs": [],
   "source": [],
   "metadata": {
    "collapsed": false,
    "pycharm": {
     "name": "#%%\n"
    }
   }
  }
 ],
 "metadata": {
  "kernelspec": {
   "display_name": "Python 3",
   "language": "python",
   "name": "python3"
  },
  "language_info": {
   "codemirror_mode": {
    "name": "ipython",
    "version": 2
   },
   "file_extension": ".py",
   "mimetype": "text/x-python",
   "name": "python",
   "nbconvert_exporter": "python",
   "pygments_lexer": "ipython2",
   "version": "2.7.6"
  }
 },
 "nbformat": 4,
 "nbformat_minor": 0
}