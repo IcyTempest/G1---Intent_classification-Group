{
 "cells": [
  {
   "cell_type": "code",
   "execution_count": 29,
   "outputs": [],
   "source": [
    "import re\n",
    "\n",
    "import pandas as pd\n",
    "import numpy as np\n",
    "import os\n",
    "\n",
    "import seaborn as sns\n",
    "from matplotlib import pyplot as plt\n",
    "from imblearn.over_sampling import RandomOverSampler"
   ],
   "metadata": {
    "collapsed": false,
    "pycharm": {
     "name": "#%%\n"
    }
   }
  },
  {
   "cell_type": "markdown",
   "source": [
    "## Concatenate Dataset into one File"
   ],
   "metadata": {
    "collapsed": false,
    "pycharm": {
     "name": "#%% md\n"
    }
   }
  },
  {
   "cell_type": "code",
   "execution_count": 40,
   "outputs": [],
   "source": [
    "from typing import List, Dict\n",
    "import os\n",
    "\n",
    "\n",
    "def createDirec(directory: str):\n",
    "    try:\n",
    "        if not os.path.exists(directory):\n",
    "            os.makedirs(directory)\n",
    "        print(\"Success\")\n",
    "    except:\n",
    "        print(\"fail\")\n",
    "\n",
    "def eraseSpace(directory: str):\n",
    "    files = getFileNameFromDir(direc=directory)\n",
    "    for file in files:\n",
    "        realFile = open(\"{}/{}\".format(directory, file), mode=\"r\", encoding=\"UTF-8\")\n",
    "        data = [f for f in realFile if f.strip()]\n",
    "        realFile.close()\n",
    "        realFile = open(\"{}/{}\".format(directory, file), mode=\"w\", encoding=\"UTF-8\")\n",
    "        realFile.writelines(data)\n",
    "        realFile.close()\n",
    "\n",
    "\n",
    "def getFileNameFromDir(direc: str) -> List[str]:\n",
    "    return [f for f in os.listdir(\"{}/\".format(direc))]\n",
    "\n",
    "\n",
    "def restructureFile(direcToScan: str, f: str):\n",
    "    data = pd.read_csv(\"{}/{}\".format(direcToScan, f), encoding=\"UTF-8\")\n",
    "    data.rename(columns=({\"Questions\": \"Question\", \"Intents\": \"Intent\"}), inplace=True)\n",
    "    print(f)\n",
    "    data[\"Question\"].dropna(inplace=True)\n",
    "    if data.isnull().any().any():\n",
    "        print(data.columns())\n",
    "        print(data.isna().sum())\n",
    "        print(data.head())\n",
    "\n",
    "    data.to_csv(\"{}/{}\".format(direcToScan, f), encoding=\"UTF-8\", index=False)\n",
    "    return data\n",
    "\n",
    "\n",
    "def myConcat(direcToScan: str, outputFilename: str, outputDirec: str = \"all_data\"):\n",
    "    files = getFileNameFromDir(direc=direcToScan)\n",
    "\n",
    "    datasets = pd.concat([restructureFile(direcToScan=direcToScan, f=f) for f in files], axis=0, ignore_index=True)\n",
    "\n",
    "    datasets.to_csv(\"{}/{}.csv\".format(outputDirec, outputFilename), index=False)\n",
    "\n",
    "\n",
    "def myOversampling(fileName:str):\n",
    "\n",
    "    temp = pd.read_csv(\"all_data/{}.csv\".format(fileName))\n",
    "\n",
    "    y = temp[\"Intent\"]\n",
    "    X = temp.drop(\"Intent\", axis=1)\n",
    "\n",
    "    ros = RandomOverSampler(random_state=0)\n",
    "    ros.fit(X,y)\n",
    "    X_resampled, y_resampled = ros.fit_resample(X, y)\n",
    "\n",
    "    newTable = X_resampled\n",
    "    newTable[\"Intent\"] = y_resampled\n",
    "    createDirec(directory=\"oversampling\")\n",
    "    newTable.to_csv(\"oversampling/{}.csv\".format(fileName), index=False)\n",
    "    return newTable"
   ],
   "metadata": {
    "collapsed": false,
    "pycharm": {
     "name": "#%%\n"
    }
   }
  },
  {
   "cell_type": "code",
   "execution_count": 27,
   "outputs": [
    {
     "name": "stdout",
     "output_type": "stream",
     "text": [
      "AskAboutAcademicFee.csv\n",
      "AskAboutAccountantRoom.csv\n",
      "AskAboutAge.csv\n",
      "AskAboutCarParkingFee.csv\n",
      "AskAboutClubInfo.csv\n",
      "AskAboutCompetition.csv\n",
      "AskAboutCS_CourseInEachGen.csv\n",
      "AskAboutDormInfo.csv\n",
      "AskAboutEC_CourseInEachGen.csv\n",
      "AskAboutEnrollmentRequirement.csv\n",
      "AskaboutFemaleDressCode.csv\n",
      "AskAboutInterest.csv\n",
      "AskAboutLocation.csv\n",
      "AskaboutMaleDressCode.csv\n",
      "AskAboutMinistry.csv\n",
      "AskAboutMotocycleParkingFee.csv\n",
      "AskAboutParkingPrice.csv\n",
      "AskAboutProvince.csv\n",
      "AskAboutRegisterDate.csv\n",
      "AskAboutSchoolMajors.csv\n",
      "AskAboutStudyHour.csv\n",
      "AskAboutTN_CourseInEachGen.csv\n",
      "AskCurrentProject.csv\n",
      "AskHowToComplain.csv\n",
      "AskWhereHRRoomIs.csv\n",
      "AskWhetherJobAnnoucementExist.csv\n",
      "AskWhetherPoepleWorkonExactDate.csv\n",
      "AskWorkingDate.csv\n",
      "FindAnnouncementInfo.csv\n",
      "FindbusStationNearCADT.csv\n",
      "FindClub.csv\n",
      "FindClubRoom.csv\n",
      "FindCSInfo.csv\n",
      "FindCurrentTime.csv\n",
      "FindECInfo.csv\n",
      "FindEnrollmentLocation.csv\n",
      "FindResearcherRoom.csv\n",
      "FindTNInfo.csv\n",
      "FindTotalStudents.csv\n",
      "FindTSC.csv\n",
      "IsCanteenExist.csv\n",
      "IsExistDoorExit.csv\n",
      "IsFootballFieldExist.csv\n",
      "IsLibraryExist.csv\n",
      "IsMinistryExist.csv\n",
      "IsProvinceExist.csv\n",
      "ListClub.csv\n",
      "ListEvent.csv\n",
      "ListInstitutionRule.csv\n",
      "ListParkingSpace.csv\n",
      "Scholarship Info.csv\n",
      "SchoolBusInfo.csv\n",
      "SchoolMission.csv\n",
      "WhyShouldChooseCADT.csv\n",
      "AskAboutAcademicFee.csv\n",
      "AskAboutAccountantRoom.csv\n",
      "AskAboutAge.csv\n",
      "AskAboutCarParkingFee.csv\n",
      "AskAboutCompetition.csv\n",
      "AskAboutCS_CourseInEachGen.csv\n",
      "AskAboutDormInfo.csv\n",
      "AskAboutEC_CourseInEachGen.csv\n",
      "AskAboutEnrollmentRequirement.csv\n",
      "AskaboutFemaleDressCode.csv\n",
      "AskAboutInterest.csv\n",
      "AskAboutLocation.csv\n",
      "AskaboutMaleDressCode.csv\n",
      "AskAboutMinistry.csv\n",
      "AskAboutMotocycleParkingFee.csv\n",
      "AskAboutParkingPrice.csv\n",
      "AskAboutProvince.csv\n",
      "AskAboutRegisterDate.csv\n",
      "AskAboutSchoolMajors.csv\n",
      "AskAboutStudyHour.csv\n",
      "AskAboutTN_CourseInEachGen.csv\n",
      "AskHowToComplain.csv\n",
      "AskWhereHRRoomIs.csv\n",
      "AskWhetherJobAnnoucementExist.csv\n",
      "AskWhetherPoepleWorkonExactDate.csv\n",
      "AskWorkingDate.csv\n",
      "FindAnnouncementInfo.csv\n",
      "FindbusStationNearCADT.csv\n",
      "FindClub.csv\n",
      "FindClubRoom.csv\n",
      "FindCSInfo.csv\n",
      "FindCurrentTime.csv\n",
      "FindECInfo.csv\n",
      "FindEnrollmentLocation.csv\n",
      "FindResearcherRoom.csv\n",
      "FindTNInfo.csv\n",
      "FindTotalStudents.csv\n",
      "FindTSC.csv\n",
      "IsCanteenExist.csv\n",
      "IsExistDoorExit.csv\n",
      "IsFootballFieldExist.csv\n",
      "IsLibraryExist.csv\n",
      "IsMinistryExist.csv\n",
      "IsProvinceExist.csv\n",
      "ListClub.csv\n",
      "ListEvent.csv\n",
      "ListInstitutionRule.csv\n",
      "ListParkingSpace.csv\n",
      "ScholarshipInfo.csv\n",
      "SchoolBusInfo.csv\n",
      "SchoolMission.csv\n",
      "WhyShouldChooseCADT.csv\n",
      "AskAboutAcademicFee.csv\n",
      "AskAboutAccountantRoom.csv\n",
      "AskAboutAge.csv\n",
      "AskAboutCarParkingFee.csv\n",
      "AskAboutClubInfo.csv\n",
      "AskAboutCompetition.csv\n",
      "AskAboutCS_CourseInEachGen.csv\n",
      "AskAboutDormInfo.csv\n",
      "AskAboutEC_CourseInEachGen.csv\n",
      "AskAboutEnrollmentRequirement.csv\n",
      "AskaboutFemaleDressCode.csv\n",
      "AskAboutInterest.csv\n",
      "AskAboutLocation.csv\n",
      "AskaboutMaleDressCode.csv\n",
      "AskAboutMinistry.csv\n",
      "AskAboutMotocycleParkingFee.csv\n",
      "AskAboutParkingPrice.csv\n",
      "AskAboutProvince.csv\n",
      "AskAboutRegisterDate.csv\n",
      "AskAboutSchoolMajors.csv\n",
      "AskAboutStudyHour.csv\n",
      "AskAboutTN_CourseInEachGen.csv\n",
      "AskHowToComplain.csv\n",
      "AskWhereHRRoomIs.csv\n",
      "AskWhetherJobAnnoucementExist.csv\n",
      "AskWhetherPoepleWorkonExactDate.csv\n",
      "AskWorkingDate.csv\n",
      "FindAnnouncementInfo.csv\n",
      "FindbusStationNearCADT.csv\n",
      "FindClub.csv\n",
      "FindClubRoom.csv\n",
      "FindCSInfo.csv\n",
      "FindCurrentTime.csv\n",
      "FindECInfo.csv\n",
      "FindEnrollmentLocation.csv\n",
      "FindResearcherRoom.csv\n",
      "FindTNInfo.csv\n",
      "FindTotalStudents.csv\n",
      "FindTSC.csv\n",
      "IsCanteenExist.csv\n",
      "IsExistDoorExit.csv\n",
      "IsFootballFieldExist.csv\n",
      "IsLibraryExist.csv\n",
      "IsMinistryExist.csv\n",
      "IsProvinceExist.csv\n",
      "ListClub.csv\n",
      "ListEvent.csv\n",
      "ListInstitutionRule.csv\n",
      "ListParkingSpace.csv\n",
      "ScholarshipInfo.csv\n",
      "SchoolbusInfo.csv\n",
      "SchoolMission.csv\n",
      "WhyShouldChooseCADT.csv\n",
      "AskAboutAcademicFee.csv\n",
      "AskAboutAccountantRoom.csv\n",
      "AskAboutAge.csv\n",
      "AskAboutCarParkingFee.csv\n",
      "AskAboutClubInfo.csv\n",
      "AskAboutCompetition.csv\n",
      "AskAboutCS_CourseInEachGen.csv\n",
      "AskAboutDormInfo.csv\n",
      "AskAboutEC_CourseInEachGen.csv\n",
      "AskAboutEnrollmentRequirement.csv\n",
      "AskaboutFemaleDressCode.csv\n",
      "AskAboutInterest.csv\n",
      "AskAboutLocation.csv\n",
      "AskaboutMaleDressCode.csv\n",
      "AskAboutMinistry.csv\n",
      "AskAboutMotocycleParkingFee.csv\n",
      "AskAboutParkingPrice.csv\n",
      "AskAboutProvince.csv\n",
      "AskAboutRegisterDate.csv\n",
      "AskAboutSchoolMajors.csv\n",
      "AskAboutStudyHour.csv\n",
      "AskAboutTN_CourseInEachGen.csv\n",
      "AskHowToComplain.csv\n",
      "AskWhereHRRoomIs.csv\n",
      "AskWhetherJobAnnoucementExist.csv\n",
      "AskWhetherPoepleWorkonExactDate.csv\n",
      "AskWorkingDate.csv\n",
      "FindAnnouncementInfo.csv\n",
      "FindbusStationNearCADT.csv\n",
      "FindClub.csv\n",
      "FindClubRoom.csv\n",
      "FindCSInfo.csv\n",
      "FindCurrentTime.csv\n",
      "FindECInfo.csv\n",
      "FindEnrollmentLocation.csv\n",
      "FindResearcherRoom.csv\n",
      "FindTNInfo.csv\n",
      "FindTotalStudents.csv\n",
      "FindTSC.csv\n",
      "IsCanteenExist.csv\n",
      "IsExistDoorExit.csv\n",
      "IsFootballFieldExist.csv\n",
      "IsLibraryExist.csv\n",
      "IsMinistryExist.csv\n",
      "IsProvinceExist.csv\n",
      "ListClub.csv\n",
      "ListEvent.csv\n",
      "ListInstitutionRule.csv\n",
      "ListParkingSpace.csv\n",
      "ScholarshipInfo.csv\n",
      "SchoolbusInfo.csv\n",
      "SchoolMission.csv\n",
      "WhyShouldChooseCADT.csv\n"
     ]
    }
   ],
   "source": [
    "## Concatenate All Dataset into one File\n",
    "myConcat(direcToScan=\"datasets\", outputFilename=\"all_data_dataset\")\n",
    "\n",
    "## Concatenate All Entity-tag Dataset into one File\n",
    "myConcat(direcToScan=\"entity-tag\", outputFilename=\"all_entity_dataset\")\n",
    "\n",
    "## Concatenate All Segmentation Dataset into one File\n",
    "myConcat(direcToScan=\"segments\", outputFilename=\"all_segment_dataset\")\n",
    "\n",
    "## Concatenate All Segmentation Dataset into one File\n",
    "myConcat(direcToScan=\"POS/\", outputFilename=\"all_pos_dataset\")"
   ],
   "metadata": {
    "collapsed": false,
    "pycharm": {
     "name": "#%%\n"
    }
   }
  },
  {
   "cell_type": "markdown",
   "source": [
    "## Erase blank from files"
   ],
   "metadata": {
    "collapsed": false,
    "pycharm": {
     "name": "#%% md\n"
    }
   }
  },
  {
   "cell_type": "code",
   "execution_count": 4,
   "outputs": [
    {
     "name": "stdout",
     "output_type": "stream",
     "text": [
      "Success\n"
     ]
    }
   ],
   "source": [
    "try:\n",
    "    eraseSpace(directory=\"datasets\")\n",
    "    eraseSpace(directory=\"entity-tag\")\n",
    "    eraseSpace(directory=\"POS\")\n",
    "    eraseSpace(directory=\"segments\")\n",
    "    print(\"Success\")\n",
    "except:\n",
    "    print(\"fail\")\n"
   ],
   "metadata": {
    "collapsed": false,
    "pycharm": {
     "name": "#%%\n"
    }
   }
  },
  {
   "cell_type": "markdown",
   "source": [
    "## Applied OverSampling to DataSets"
   ],
   "metadata": {
    "collapsed": false,
    "pycharm": {
     "name": "#%% md\n"
    }
   }
  },
  {
   "cell_type": "markdown",
   "source": [],
   "metadata": {
    "collapsed": false,
    "pycharm": {
     "name": "#%% md\n"
    }
   }
  },
  {
   "cell_type": "code",
   "execution_count": 41,
   "outputs": [
    {
     "name": "stdout",
     "output_type": "stream",
     "text": [
      "Success\n"
     ]
    },
    {
     "data": {
      "text/plain": "                                                 Question               Intent\n0           តើ ប្រាប់ ពី តម្លៃ សិក្សា របស់ សាលា ស៉ីអេឌីធី  AskAboutAcademicFee\n1                តើ ប្រាប់ ពី តម្លៃ សិក្សា របស់ សាលា CADT  AskAboutAcademicFee\n2       តើ ខ្ញុំ ចង់ ដឹង ពី តម្លៃ ពី តម្លៃ សិក្សា របស់...  AskAboutAcademicFee\n3       តើ ខ្ញុំ ចង់ ដឹង ពី តម្លៃ ពី តម្លៃ សិក្សា របស់...  AskAboutAcademicFee\n4       តើ សូម ប្រាប់ ខ្ញុំ ពី តម្លៃ សិក្សា របស់ សាលា ...  AskAboutAcademicFee\n...                                                   ...                  ...\n172849  ចំណុច ល្អ អ្វី ខ្លះ ដែល សិស្សជនិស្សិត ជ្រើស រើ...  WhyShouldChooseCADT\n172850  មាន លក្ខណៈ ពិសេស អ្វី ខ្លះ ដែល សិស្សជនិស្សិត ជ...  WhyShouldChooseCADT\n172851  ហេតុ អ្វី ហេតុ ផល អ្វី ខ្លះ ដែល ដែល សិស្សជនិស្...  WhyShouldChooseCADT\n172852  មាន លក្ខណៈ ពិសេស អ្វី ខ្លះ ដែល យើង គូរ តែ ជ្រើ...  WhyShouldChooseCADT\n172853  មាន លក្ខណៈ ពិសេស អ្វី ខ្លះ ដែល សិស្សជនិស្សិត ជ...  WhyShouldChooseCADT\n\n[172854 rows x 2 columns]",
      "text/html": "<div>\n<style scoped>\n    .dataframe tbody tr th:only-of-type {\n        vertical-align: middle;\n    }\n\n    .dataframe tbody tr th {\n        vertical-align: top;\n    }\n\n    .dataframe thead th {\n        text-align: right;\n    }\n</style>\n<table border=\"1\" class=\"dataframe\">\n  <thead>\n    <tr style=\"text-align: right;\">\n      <th></th>\n      <th>Question</th>\n      <th>Intent</th>\n    </tr>\n  </thead>\n  <tbody>\n    <tr>\n      <th>0</th>\n      <td>តើ ប្រាប់ ពី តម្លៃ សិក្សា របស់ សាលា ស៉ីអេឌីធី</td>\n      <td>AskAboutAcademicFee</td>\n    </tr>\n    <tr>\n      <th>1</th>\n      <td>តើ ប្រាប់ ពី តម្លៃ សិក្សា របស់ សាលា CADT</td>\n      <td>AskAboutAcademicFee</td>\n    </tr>\n    <tr>\n      <th>2</th>\n      <td>តើ ខ្ញុំ ចង់ ដឹង ពី តម្លៃ ពី តម្លៃ សិក្សា របស់...</td>\n      <td>AskAboutAcademicFee</td>\n    </tr>\n    <tr>\n      <th>3</th>\n      <td>តើ ខ្ញុំ ចង់ ដឹង ពី តម្លៃ ពី តម្លៃ សិក្សា របស់...</td>\n      <td>AskAboutAcademicFee</td>\n    </tr>\n    <tr>\n      <th>4</th>\n      <td>តើ សូម ប្រាប់ ខ្ញុំ ពី តម្លៃ សិក្សា របស់ សាលា ...</td>\n      <td>AskAboutAcademicFee</td>\n    </tr>\n    <tr>\n      <th>...</th>\n      <td>...</td>\n      <td>...</td>\n    </tr>\n    <tr>\n      <th>172849</th>\n      <td>ចំណុច ល្អ អ្វី ខ្លះ ដែល សិស្សជនិស្សិត ជ្រើស រើ...</td>\n      <td>WhyShouldChooseCADT</td>\n    </tr>\n    <tr>\n      <th>172850</th>\n      <td>មាន លក្ខណៈ ពិសេស អ្វី ខ្លះ ដែល សិស្សជនិស្សិត ជ...</td>\n      <td>WhyShouldChooseCADT</td>\n    </tr>\n    <tr>\n      <th>172851</th>\n      <td>ហេតុ អ្វី ហេតុ ផល អ្វី ខ្លះ ដែល ដែល សិស្សជនិស្...</td>\n      <td>WhyShouldChooseCADT</td>\n    </tr>\n    <tr>\n      <th>172852</th>\n      <td>មាន លក្ខណៈ ពិសេស អ្វី ខ្លះ ដែល យើង គូរ តែ ជ្រើ...</td>\n      <td>WhyShouldChooseCADT</td>\n    </tr>\n    <tr>\n      <th>172853</th>\n      <td>មាន លក្ខណៈ ពិសេស អ្វី ខ្លះ ដែល សិស្សជនិស្សិត ជ...</td>\n      <td>WhyShouldChooseCADT</td>\n    </tr>\n  </tbody>\n</table>\n<p>172854 rows × 2 columns</p>\n</div>"
     },
     "execution_count": 41,
     "metadata": {},
     "output_type": "execute_result"
    }
   ],
   "source": [
    "newTable = myOversampling(fileName=\"all_segment_dataset\")\n",
    "newTable"
   ],
   "metadata": {
    "collapsed": false,
    "pycharm": {
     "name": "#%%\n"
    }
   }
  },
  {
   "cell_type": "markdown",
   "source": [
    "\n",
    "## Compare whether there's equal file or not"
   ],
   "metadata": {
    "collapsed": false,
    "pycharm": {
     "name": "#%% md\n"
    }
   }
  },
  {
   "cell_type": "code",
   "execution_count": 5,
   "outputs": [
    {
     "name": "stdout",
     "output_type": "stream",
     "text": [
      "equal\n"
     ]
    }
   ],
   "source": [
    "data = getFileNameFromDir(\"datasets\")\n",
    "seg = getFileNameFromDir(\"segments\")\n",
    "pos = getFileNameFromDir(\"pos\")\n",
    "ent = getFileNameFromDir(\"entity-tag\")\n",
    "if len(data) != len(seg) != len(pos) != len(ent):\n",
    "    print(\"not equal\")\n",
    "    for x in zip(data, seg, pos, ent):\n",
    "        if data != seg!= pos != ent:\n",
    "            print(\"data: {} \".format(data))\n",
    "else:\n",
    "    print(\"equal\")"
   ],
   "metadata": {
    "collapsed": false,
    "pycharm": {
     "name": "#%%\n"
    }
   }
  },
  {
   "cell_type": "markdown",
   "source": [
    "## Check for any null or space data"
   ],
   "metadata": {
    "collapsed": false,
    "pycharm": {
     "name": "#%% md\n"
    }
   }
  },
  {
   "cell_type": "code",
   "execution_count": 6,
   "outputs": [
    {
     "name": "stdout",
     "output_type": "stream",
     "text": [
      "No null sentence in any files detected\n"
     ]
    }
   ],
   "source": [
    "def checkNullOrSpace():\n",
    "    count: int = 0\n",
    "    checkDict: Dict[str, List[str]] = {\n",
    "        \"datasets\": getFileNameFromDir(\"datasets\"),\n",
    "        \"segments\": getFileNameFromDir(\"segments\"),\n",
    "        \"pos\": getFileNameFromDir(\"pos\"),\n",
    "        \"entity-tag\": getFileNameFromDir(\"entity-tag\"),\n",
    "    }\n",
    "\n",
    "    for direc, v in checkDict.items():\n",
    "        for filename in v:\n",
    "            data = pd.read_csv(\"{}/{}\".format(direc, filename))\n",
    "            if data.isnull().any().any():\n",
    "                print(\"{} file of direc {} have null at:\".format(filename, direc))\n",
    "                print(data[data[\"Question\"].isnull()])\n",
    "                count += 1\n",
    "\n",
    "    if count == 0:\n",
    "        print(\"No null sentence in any files detected\")\n",
    "\n",
    "\n",
    "checkNullOrSpace()"
   ],
   "metadata": {
    "collapsed": false,
    "pycharm": {
     "name": "#%%\n"
    }
   }
  },
  {
   "cell_type": "markdown",
   "source": [
    "## Compare Ner length, POS length, and SEG Length"
   ],
   "metadata": {
    "collapsed": false,
    "pycharm": {
     "name": "#%% md\n"
    }
   }
  },
  {
   "cell_type": "code",
   "execution_count": 7,
   "outputs": [],
   "source": [
    "from pandas import DataFrame\n",
    "\n",
    "\n",
    "# def findDiffLengthSentence(allSegDataset: DataFrame, allEntityDataset: DataFrame, allPosDataset: DataFrame):\n",
    "#     myTempDict = {}\n",
    "#     indexs = allEntityDataset.index.tolist()\n",
    "#     segs = allSegDataset[\"Question\"].to_list()\n",
    "#     tags = allSegDataset[\"Intent\"].to_list()\n",
    "#     ents = allEntityDataset[\"Question\"].to_list()\n",
    "#     poss = allPosDataset[\"Question\"].to_list()\n",
    "#\n",
    "#     for seg, tag, ent, pos, index in zip(segs, tags, ents, poss, indexs):\n",
    "#         if len(str(seg).split()) is not len(str(pos).split()) is not len(str(ent).split()):\n",
    "#             myTempDict.setdefault(\"index\", []).append(index)\n",
    "#             myTempDict.setdefault(\"intent\", []).append(tag)\n",
    "#             myTempDict.setdefault(\"length_seg\", []).append(len(str(seg).split()))\n",
    "#             myTempDict.setdefault(\"length_pos\", []).append(len(str(pos).split()))\n",
    "#             myTempDict.setdefault(\"length_ent\", []).append(len(str(ent).split()))\n",
    "#             myTempDict.setdefault(\"seg\", []).append(seg)\n",
    "#             myTempDict.setdefault(\"pos\", []).append(pos)\n",
    "#             myTempDict.setdefault(\"ent\", []).append(ent)\n",
    "#\n",
    "#     errorPd = pd.DataFrame.from_dict(myTempDict)\n",
    "#     errorPd.to_csv(\"all_data/diff_length_sentences.csv\", index=False)"
   ],
   "metadata": {
    "collapsed": false,
    "pycharm": {
     "name": "#%%\n"
    }
   }
  },
  {
   "cell_type": "code",
   "execution_count": 8,
   "outputs": [
    {
     "data": {
      "text/plain": "Question    0\nIntent      0\ndtype: int64"
     },
     "execution_count": 8,
     "metadata": {},
     "output_type": "execute_result"
    }
   ],
   "source": [
    "temp = pd.read_csv(\"POS/AskWhereHRRoomIs.csv\")\n",
    "# temp.head()\n",
    "temp.isna().sum()"
   ],
   "metadata": {
    "collapsed": false,
    "pycharm": {
     "name": "#%%\n"
    }
   }
  },
  {
   "cell_type": "code",
   "execution_count": 9,
   "outputs": [
    {
     "name": "stdout",
     "output_type": "stream",
     "text": [
      " AskAboutAcademicFee\n",
      "AskAboutAccountantRoom\n",
      "AskAboutAge\n",
      "AskAboutCarParkingFee\n"
     ]
    },
    {
     "ename": "FileNotFoundError",
     "evalue": "[Errno 2] No such file or directory: 'entity-tag/AskAboutClubInfo.csv'",
     "output_type": "error",
     "traceback": [
      "\u001B[1;31m---------------------------------------------------------------------------\u001B[0m",
      "\u001B[1;31mFileNotFoundError\u001B[0m                         Traceback (most recent call last)",
      "\u001B[1;32m~\\AppData\\Local\\Temp\\ipykernel_14272\\2399326696.py\u001B[0m in \u001B[0;36m<module>\u001B[1;34m\u001B[0m\n\u001B[0;32m      8\u001B[0m \u001B[1;32mfor\u001B[0m \u001B[0mfile\u001B[0m \u001B[1;32min\u001B[0m \u001B[0mallSegFileName\u001B[0m\u001B[1;33m:\u001B[0m\u001B[1;33m\u001B[0m\u001B[1;33m\u001B[0m\u001B[0m\n\u001B[0;32m      9\u001B[0m     \u001B[0mfile\u001B[0m \u001B[1;33m=\u001B[0m \u001B[0mfile\u001B[0m\u001B[1;33m.\u001B[0m\u001B[0mreplace\u001B[0m\u001B[1;33m(\u001B[0m\u001B[1;34m\" \"\u001B[0m\u001B[1;33m,\u001B[0m \u001B[1;34m\"\"\u001B[0m\u001B[1;33m)\u001B[0m\u001B[1;33m\u001B[0m\u001B[1;33m\u001B[0m\u001B[0m\n\u001B[1;32m---> 10\u001B[1;33m     \u001B[0mallEntityDataset\u001B[0m \u001B[1;33m=\u001B[0m \u001B[0mpd\u001B[0m\u001B[1;33m.\u001B[0m\u001B[0mread_csv\u001B[0m\u001B[1;33m(\u001B[0m\u001B[1;34m\"entity-tag/{}\"\u001B[0m\u001B[1;33m.\u001B[0m\u001B[0mformat\u001B[0m\u001B[1;33m(\u001B[0m\u001B[0mfile\u001B[0m\u001B[1;33m)\u001B[0m\u001B[1;33m)\u001B[0m\u001B[1;33m\u001B[0m\u001B[1;33m\u001B[0m\u001B[0m\n\u001B[0m\u001B[0;32m     11\u001B[0m     \u001B[0mallPosDataset\u001B[0m \u001B[1;33m=\u001B[0m \u001B[0mpd\u001B[0m\u001B[1;33m.\u001B[0m\u001B[0mread_csv\u001B[0m\u001B[1;33m(\u001B[0m\u001B[1;34m\"POS/{}\"\u001B[0m\u001B[1;33m.\u001B[0m\u001B[0mformat\u001B[0m\u001B[1;33m(\u001B[0m\u001B[0mfile\u001B[0m\u001B[1;33m)\u001B[0m\u001B[1;33m)\u001B[0m\u001B[1;33m\u001B[0m\u001B[1;33m\u001B[0m\u001B[0m\n\u001B[0;32m     12\u001B[0m     \u001B[0mallSegDataset\u001B[0m \u001B[1;33m=\u001B[0m \u001B[0mpd\u001B[0m\u001B[1;33m.\u001B[0m\u001B[0mread_csv\u001B[0m\u001B[1;33m(\u001B[0m\u001B[1;34m\"segments/{}\"\u001B[0m\u001B[1;33m.\u001B[0m\u001B[0mformat\u001B[0m\u001B[1;33m(\u001B[0m\u001B[0mfile\u001B[0m\u001B[1;33m)\u001B[0m\u001B[1;33m)\u001B[0m\u001B[1;33m\u001B[0m\u001B[1;33m\u001B[0m\u001B[0m\n",
      "\u001B[1;32mC:\\tools\\Anaconda\\envs\\venv\\lib\\site-packages\\pandas\\util\\_decorators.py\u001B[0m in \u001B[0;36mwrapper\u001B[1;34m(*args, **kwargs)\u001B[0m\n\u001B[0;32m    309\u001B[0m                     \u001B[0mstacklevel\u001B[0m\u001B[1;33m=\u001B[0m\u001B[0mstacklevel\u001B[0m\u001B[1;33m,\u001B[0m\u001B[1;33m\u001B[0m\u001B[1;33m\u001B[0m\u001B[0m\n\u001B[0;32m    310\u001B[0m                 )\n\u001B[1;32m--> 311\u001B[1;33m             \u001B[1;32mreturn\u001B[0m \u001B[0mfunc\u001B[0m\u001B[1;33m(\u001B[0m\u001B[1;33m*\u001B[0m\u001B[0margs\u001B[0m\u001B[1;33m,\u001B[0m \u001B[1;33m**\u001B[0m\u001B[0mkwargs\u001B[0m\u001B[1;33m)\u001B[0m\u001B[1;33m\u001B[0m\u001B[1;33m\u001B[0m\u001B[0m\n\u001B[0m\u001B[0;32m    312\u001B[0m \u001B[1;33m\u001B[0m\u001B[0m\n\u001B[0;32m    313\u001B[0m         \u001B[1;32mreturn\u001B[0m \u001B[0mwrapper\u001B[0m\u001B[1;33m\u001B[0m\u001B[1;33m\u001B[0m\u001B[0m\n",
      "\u001B[1;32mC:\\tools\\Anaconda\\envs\\venv\\lib\\site-packages\\pandas\\io\\parsers\\readers.py\u001B[0m in \u001B[0;36mread_csv\u001B[1;34m(filepath_or_buffer, sep, delimiter, header, names, index_col, usecols, squeeze, prefix, mangle_dupe_cols, dtype, engine, converters, true_values, false_values, skipinitialspace, skiprows, skipfooter, nrows, na_values, keep_default_na, na_filter, verbose, skip_blank_lines, parse_dates, infer_datetime_format, keep_date_col, date_parser, dayfirst, cache_dates, iterator, chunksize, compression, thousands, decimal, lineterminator, quotechar, quoting, doublequote, escapechar, comment, encoding, encoding_errors, dialect, error_bad_lines, warn_bad_lines, on_bad_lines, delim_whitespace, low_memory, memory_map, float_precision, storage_options)\u001B[0m\n\u001B[0;32m    584\u001B[0m     \u001B[0mkwds\u001B[0m\u001B[1;33m.\u001B[0m\u001B[0mupdate\u001B[0m\u001B[1;33m(\u001B[0m\u001B[0mkwds_defaults\u001B[0m\u001B[1;33m)\u001B[0m\u001B[1;33m\u001B[0m\u001B[1;33m\u001B[0m\u001B[0m\n\u001B[0;32m    585\u001B[0m \u001B[1;33m\u001B[0m\u001B[0m\n\u001B[1;32m--> 586\u001B[1;33m     \u001B[1;32mreturn\u001B[0m \u001B[0m_read\u001B[0m\u001B[1;33m(\u001B[0m\u001B[0mfilepath_or_buffer\u001B[0m\u001B[1;33m,\u001B[0m \u001B[0mkwds\u001B[0m\u001B[1;33m)\u001B[0m\u001B[1;33m\u001B[0m\u001B[1;33m\u001B[0m\u001B[0m\n\u001B[0m\u001B[0;32m    587\u001B[0m \u001B[1;33m\u001B[0m\u001B[0m\n\u001B[0;32m    588\u001B[0m \u001B[1;33m\u001B[0m\u001B[0m\n",
      "\u001B[1;32mC:\\tools\\Anaconda\\envs\\venv\\lib\\site-packages\\pandas\\io\\parsers\\readers.py\u001B[0m in \u001B[0;36m_read\u001B[1;34m(filepath_or_buffer, kwds)\u001B[0m\n\u001B[0;32m    480\u001B[0m \u001B[1;33m\u001B[0m\u001B[0m\n\u001B[0;32m    481\u001B[0m     \u001B[1;31m# Create the parser.\u001B[0m\u001B[1;33m\u001B[0m\u001B[1;33m\u001B[0m\u001B[1;33m\u001B[0m\u001B[0m\n\u001B[1;32m--> 482\u001B[1;33m     \u001B[0mparser\u001B[0m \u001B[1;33m=\u001B[0m \u001B[0mTextFileReader\u001B[0m\u001B[1;33m(\u001B[0m\u001B[0mfilepath_or_buffer\u001B[0m\u001B[1;33m,\u001B[0m \u001B[1;33m**\u001B[0m\u001B[0mkwds\u001B[0m\u001B[1;33m)\u001B[0m\u001B[1;33m\u001B[0m\u001B[1;33m\u001B[0m\u001B[0m\n\u001B[0m\u001B[0;32m    483\u001B[0m \u001B[1;33m\u001B[0m\u001B[0m\n\u001B[0;32m    484\u001B[0m     \u001B[1;32mif\u001B[0m \u001B[0mchunksize\u001B[0m \u001B[1;32mor\u001B[0m \u001B[0miterator\u001B[0m\u001B[1;33m:\u001B[0m\u001B[1;33m\u001B[0m\u001B[1;33m\u001B[0m\u001B[0m\n",
      "\u001B[1;32mC:\\tools\\Anaconda\\envs\\venv\\lib\\site-packages\\pandas\\io\\parsers\\readers.py\u001B[0m in \u001B[0;36m__init__\u001B[1;34m(self, f, engine, **kwds)\u001B[0m\n\u001B[0;32m    809\u001B[0m             \u001B[0mself\u001B[0m\u001B[1;33m.\u001B[0m\u001B[0moptions\u001B[0m\u001B[1;33m[\u001B[0m\u001B[1;34m\"has_index_names\"\u001B[0m\u001B[1;33m]\u001B[0m \u001B[1;33m=\u001B[0m \u001B[0mkwds\u001B[0m\u001B[1;33m[\u001B[0m\u001B[1;34m\"has_index_names\"\u001B[0m\u001B[1;33m]\u001B[0m\u001B[1;33m\u001B[0m\u001B[1;33m\u001B[0m\u001B[0m\n\u001B[0;32m    810\u001B[0m \u001B[1;33m\u001B[0m\u001B[0m\n\u001B[1;32m--> 811\u001B[1;33m         \u001B[0mself\u001B[0m\u001B[1;33m.\u001B[0m\u001B[0m_engine\u001B[0m \u001B[1;33m=\u001B[0m \u001B[0mself\u001B[0m\u001B[1;33m.\u001B[0m\u001B[0m_make_engine\u001B[0m\u001B[1;33m(\u001B[0m\u001B[0mself\u001B[0m\u001B[1;33m.\u001B[0m\u001B[0mengine\u001B[0m\u001B[1;33m)\u001B[0m\u001B[1;33m\u001B[0m\u001B[1;33m\u001B[0m\u001B[0m\n\u001B[0m\u001B[0;32m    812\u001B[0m \u001B[1;33m\u001B[0m\u001B[0m\n\u001B[0;32m    813\u001B[0m     \u001B[1;32mdef\u001B[0m \u001B[0mclose\u001B[0m\u001B[1;33m(\u001B[0m\u001B[0mself\u001B[0m\u001B[1;33m)\u001B[0m\u001B[1;33m:\u001B[0m\u001B[1;33m\u001B[0m\u001B[1;33m\u001B[0m\u001B[0m\n",
      "\u001B[1;32mC:\\tools\\Anaconda\\envs\\venv\\lib\\site-packages\\pandas\\io\\parsers\\readers.py\u001B[0m in \u001B[0;36m_make_engine\u001B[1;34m(self, engine)\u001B[0m\n\u001B[0;32m   1038\u001B[0m             )\n\u001B[0;32m   1039\u001B[0m         \u001B[1;31m# error: Too many arguments for \"ParserBase\"\u001B[0m\u001B[1;33m\u001B[0m\u001B[1;33m\u001B[0m\u001B[1;33m\u001B[0m\u001B[0m\n\u001B[1;32m-> 1040\u001B[1;33m         \u001B[1;32mreturn\u001B[0m \u001B[0mmapping\u001B[0m\u001B[1;33m[\u001B[0m\u001B[0mengine\u001B[0m\u001B[1;33m]\u001B[0m\u001B[1;33m(\u001B[0m\u001B[0mself\u001B[0m\u001B[1;33m.\u001B[0m\u001B[0mf\u001B[0m\u001B[1;33m,\u001B[0m \u001B[1;33m**\u001B[0m\u001B[0mself\u001B[0m\u001B[1;33m.\u001B[0m\u001B[0moptions\u001B[0m\u001B[1;33m)\u001B[0m  \u001B[1;31m# type: ignore[call-arg]\u001B[0m\u001B[1;33m\u001B[0m\u001B[1;33m\u001B[0m\u001B[0m\n\u001B[0m\u001B[0;32m   1041\u001B[0m \u001B[1;33m\u001B[0m\u001B[0m\n\u001B[0;32m   1042\u001B[0m     \u001B[1;32mdef\u001B[0m \u001B[0m_failover_to_python\u001B[0m\u001B[1;33m(\u001B[0m\u001B[0mself\u001B[0m\u001B[1;33m)\u001B[0m\u001B[1;33m:\u001B[0m\u001B[1;33m\u001B[0m\u001B[1;33m\u001B[0m\u001B[0m\n",
      "\u001B[1;32mC:\\tools\\Anaconda\\envs\\venv\\lib\\site-packages\\pandas\\io\\parsers\\c_parser_wrapper.py\u001B[0m in \u001B[0;36m__init__\u001B[1;34m(self, src, **kwds)\u001B[0m\n\u001B[0;32m     49\u001B[0m \u001B[1;33m\u001B[0m\u001B[0m\n\u001B[0;32m     50\u001B[0m         \u001B[1;31m# open handles\u001B[0m\u001B[1;33m\u001B[0m\u001B[1;33m\u001B[0m\u001B[1;33m\u001B[0m\u001B[0m\n\u001B[1;32m---> 51\u001B[1;33m         \u001B[0mself\u001B[0m\u001B[1;33m.\u001B[0m\u001B[0m_open_handles\u001B[0m\u001B[1;33m(\u001B[0m\u001B[0msrc\u001B[0m\u001B[1;33m,\u001B[0m \u001B[0mkwds\u001B[0m\u001B[1;33m)\u001B[0m\u001B[1;33m\u001B[0m\u001B[1;33m\u001B[0m\u001B[0m\n\u001B[0m\u001B[0;32m     52\u001B[0m         \u001B[1;32massert\u001B[0m \u001B[0mself\u001B[0m\u001B[1;33m.\u001B[0m\u001B[0mhandles\u001B[0m \u001B[1;32mis\u001B[0m \u001B[1;32mnot\u001B[0m \u001B[1;32mNone\u001B[0m\u001B[1;33m\u001B[0m\u001B[1;33m\u001B[0m\u001B[0m\n\u001B[0;32m     53\u001B[0m \u001B[1;33m\u001B[0m\u001B[0m\n",
      "\u001B[1;32mC:\\tools\\Anaconda\\envs\\venv\\lib\\site-packages\\pandas\\io\\parsers\\base_parser.py\u001B[0m in \u001B[0;36m_open_handles\u001B[1;34m(self, src, kwds)\u001B[0m\n\u001B[0;32m    227\u001B[0m             \u001B[0mmemory_map\u001B[0m\u001B[1;33m=\u001B[0m\u001B[0mkwds\u001B[0m\u001B[1;33m.\u001B[0m\u001B[0mget\u001B[0m\u001B[1;33m(\u001B[0m\u001B[1;34m\"memory_map\"\u001B[0m\u001B[1;33m,\u001B[0m \u001B[1;32mFalse\u001B[0m\u001B[1;33m)\u001B[0m\u001B[1;33m,\u001B[0m\u001B[1;33m\u001B[0m\u001B[1;33m\u001B[0m\u001B[0m\n\u001B[0;32m    228\u001B[0m             \u001B[0mstorage_options\u001B[0m\u001B[1;33m=\u001B[0m\u001B[0mkwds\u001B[0m\u001B[1;33m.\u001B[0m\u001B[0mget\u001B[0m\u001B[1;33m(\u001B[0m\u001B[1;34m\"storage_options\"\u001B[0m\u001B[1;33m,\u001B[0m \u001B[1;32mNone\u001B[0m\u001B[1;33m)\u001B[0m\u001B[1;33m,\u001B[0m\u001B[1;33m\u001B[0m\u001B[1;33m\u001B[0m\u001B[0m\n\u001B[1;32m--> 229\u001B[1;33m             \u001B[0merrors\u001B[0m\u001B[1;33m=\u001B[0m\u001B[0mkwds\u001B[0m\u001B[1;33m.\u001B[0m\u001B[0mget\u001B[0m\u001B[1;33m(\u001B[0m\u001B[1;34m\"encoding_errors\"\u001B[0m\u001B[1;33m,\u001B[0m \u001B[1;34m\"strict\"\u001B[0m\u001B[1;33m)\u001B[0m\u001B[1;33m,\u001B[0m\u001B[1;33m\u001B[0m\u001B[1;33m\u001B[0m\u001B[0m\n\u001B[0m\u001B[0;32m    230\u001B[0m         )\n\u001B[0;32m    231\u001B[0m \u001B[1;33m\u001B[0m\u001B[0m\n",
      "\u001B[1;32mC:\\tools\\Anaconda\\envs\\venv\\lib\\site-packages\\pandas\\io\\common.py\u001B[0m in \u001B[0;36mget_handle\u001B[1;34m(path_or_buf, mode, encoding, compression, memory_map, is_text, errors, storage_options)\u001B[0m\n\u001B[0;32m    705\u001B[0m                 \u001B[0mencoding\u001B[0m\u001B[1;33m=\u001B[0m\u001B[0mioargs\u001B[0m\u001B[1;33m.\u001B[0m\u001B[0mencoding\u001B[0m\u001B[1;33m,\u001B[0m\u001B[1;33m\u001B[0m\u001B[1;33m\u001B[0m\u001B[0m\n\u001B[0;32m    706\u001B[0m                 \u001B[0merrors\u001B[0m\u001B[1;33m=\u001B[0m\u001B[0merrors\u001B[0m\u001B[1;33m,\u001B[0m\u001B[1;33m\u001B[0m\u001B[1;33m\u001B[0m\u001B[0m\n\u001B[1;32m--> 707\u001B[1;33m                 \u001B[0mnewline\u001B[0m\u001B[1;33m=\u001B[0m\u001B[1;34m\"\"\u001B[0m\u001B[1;33m,\u001B[0m\u001B[1;33m\u001B[0m\u001B[1;33m\u001B[0m\u001B[0m\n\u001B[0m\u001B[0;32m    708\u001B[0m             )\n\u001B[0;32m    709\u001B[0m         \u001B[1;32melse\u001B[0m\u001B[1;33m:\u001B[0m\u001B[1;33m\u001B[0m\u001B[1;33m\u001B[0m\u001B[0m\n",
      "\u001B[1;31mFileNotFoundError\u001B[0m: [Errno 2] No such file or directory: 'entity-tag/AskAboutClubInfo.csv'"
     ]
    }
   ],
   "source": [
    "allSegFileName = getFileNameFromDir(direc=\"segments\")\n",
    "# allPosFileName = getFileNameFromDir(direc=\"pos\")\n",
    "# allEntityFileName = getFileNameFromDir(direc=\"entity-tag\")\n",
    "\n",
    "myTempDict = {}\n",
    "ree = \"\"\n",
    "# Loop Through each file name to read csv\n",
    "for file in allSegFileName:\n",
    "    file = file.replace(\" \", \"\")\n",
    "    allEntityDataset = pd.read_csv(\"entity-tag/{}\".format(file))\n",
    "    allPosDataset = pd.read_csv(\"POS/{}\".format(file))\n",
    "    allSegDataset = pd.read_csv(\"segments/{}\".format(file))\n",
    "    if allEntityDataset[\"Intent\"][0] != ree:\n",
    "        ree = allEntityDataset[\"Intent\"][0]\n",
    "        print(ree)\n",
    "\n",
    "    indexs = allEntityDataset.index.tolist()\n",
    "    segs = allSegDataset[\"Question\"].to_list()\n",
    "    tags = allSegDataset[\"Intent\"].to_list()\n",
    "    ents = allEntityDataset[\"Question\"].to_list()\n",
    "    poss = allPosDataset[\"Question\"].to_list()\n",
    "\n",
    "    # loop through the csv to find wrong sentence length\n",
    "    for seg, tag, ent, pos, index in zip(segs, tags, ents, poss, indexs):\n",
    "        lengthEnt = len(str(ent).split())\n",
    "        lengthSeg = len(str(seg).split())\n",
    "        lengthPos = len(str(seg).split())\n",
    "        if lengthSeg != lengthPos or lengthSeg!= lengthEnt:\n",
    "            myTempDict.setdefault(\"index\", []).append(index)\n",
    "            myTempDict.setdefault(\"intent\", []).append(tag)\n",
    "            myTempDict.setdefault(\"length_seg\", []).append(len(str(seg).split()))\n",
    "            myTempDict.setdefault(\"length_pos\", []).append(len(str(pos).split()))\n",
    "            myTempDict.setdefault(\"length_ent\", []).append(len(str(ent).split()))\n",
    "            myTempDict.setdefault(\"seg\", []).append(seg)\n",
    "            myTempDict.setdefault(\"pos\", []).append(pos)\n",
    "            myTempDict.setdefault(\"ent\", []).append(ent)\n",
    "\n",
    "errorPd = pd.DataFrame.from_dict(myTempDict)\n",
    "errorPd.to_csv(\"all_data/diff_length_sentences.csv\", index=False)"
   ],
   "metadata": {
    "collapsed": false,
    "pycharm": {
     "name": "#%%\n"
    }
   }
  },
  {
   "cell_type": "code",
   "execution_count": 10,
   "outputs": [
    {
     "name": "stdout",
     "output_type": "stream",
     "text": [
      "length_seg:  93\n",
      "length_pos:  93\n",
      "length_ent:  93\n",
      "seg:  93\n",
      "pos:  93\n",
      "ent:  93\n",
      "    index              intent  length_seg  length_pos  length_ent  \\\n",
      "0     183   AskAboutStudyHour          15          15          14   \n",
      "1     199   AskAboutStudyHour          14          14          15   \n",
      "2     207   AskAboutStudyHour          15          15          14   \n",
      "3     215   AskAboutStudyHour          14          14          15   \n",
      "4     223   AskAboutStudyHour          15          15          16   \n",
      "..    ...                 ...         ...         ...         ...   \n",
      "88    711   AskAboutStudyHour          18          18          17   \n",
      "89   3146    AskHowToComplain          18          19          19   \n",
      "90      3  FindResearcherRoom          12          10          10   \n",
      "91      4  FindResearcherRoom          15          12          12   \n",
      "92      7  FindResearcherRoom          10          15          15   \n",
      "\n",
      "                                                  seg  \\\n",
      "0   នៅ វិទ្យាល័យ សុីអេដីឌី ពេល វេលា សិក្សា របស់ សិ...   \n",
      "1   នៅ សាលារៀន សុីអេដីឌី ម៉ោង រៀន របស់ សិស្ស នៅ ទី...   \n",
      "2   នៅ សាលារៀន សុីអេដីឌី ពេល វេលា សិក្សា របស់ សិស្...   \n",
      "3   នៅ សាលារៀន សុីអេដីឌី ការ សិក្សា របស់ សិស្ស នៅ ...   \n",
      "4   នៅ សាកល វិទ្យាល័យ CADT ម៉ោង រៀន របស់ សិស្ស នៅ ...   \n",
      "..                                                ...   \n",
      "88  សូម សួរ បន្តិច សាកល វិទ្យាល័យ CADT ពេល វេលា សិ...   \n",
      "89  សុខលាភ និង សាមឌីអត់ ពេញ ចិត្ត ទៅ លើ ការ ធ្វើ រ...   \n",
      "90  នៅ ណាហូវ បន្ទប់ គ្រូ ៗ research នៅ អាគារ Innov...   \n",
      "91  មាន ដឹង អត់ ថា នៅ ណា ទៅ ការិយាល័យ Research នៅ ...   \n",
      "92  នៅ ណាហូវ ការិយាល័យ Research នៅ អាគារ Innovatio...   \n",
      "\n",
      "                                                  pos  \\\n",
      "0   នៅ/verb វិទ្យាល័យ/noun សុីអេដីឌី/noun ពេល/noun...   \n",
      "1   នៅ/verb សាលារៀន/verb សុីអេដីឌី/noun ម៉ោង/noun ...   \n",
      "2   នៅ/verb សាលារៀន/verb សុីអេដីឌី/noun ពេល/noun វ...   \n",
      "3   នៅ/verb សាលារៀន/verb សុីអេដីឌី/noun ការ/noun ស...   \n",
      "4   នៅ/adp សាកល/adj វិទ្យាល័យ/noun CADT/noun ម៉ោង/...   \n",
      "..                                                ...   \n",
      "88  សូម/verb សួរ/verb បន្តិច/adj សាកល/adj វិទ្យាល័...   \n",
      "89  សុខលាភ/noun និង/conj សាមឌី/noun អត់/prt ពេញ/ve...   \n",
      "90  នៅ/adp ណាហូវ/noun បន្ទប់/noun researcher/noun ...   \n",
      "91  នៅ/adp ណាហូវ/noun បន្ទប់/noun គ្រូ/adj ៗ/punct...   \n",
      "92  មាន/verb ដឹង/verb អត់/prt ថា/conj នៅ/adp ណា/no...   \n",
      "\n",
      "                                                  ent  \n",
      "0   នៅ វិទ្យាល័យ/I-ORG សុីអេដីឌី/I-ORG ការ សិក្សា ...  \n",
      "1   នៅ សាលារៀន/B-ORG សុីអេដីឌី/I-ORG ពេល វេលា សិក្...  \n",
      "2   នៅ សាលារៀន/B-ORG សុីអេដីឌី/I-ORG ការ សិក្សា រប...  \n",
      "3   នៅ សាកល/B-ORG វិទ្យាល័យ/I-ORG CADT/I-ORG ម៉ោង ...  \n",
      "4   នៅ សាកល/B-ORG វិទ្យាល័យ/I-ORG CADT/I-ORG ពេល វ...  \n",
      "..                                                ...  \n",
      "88  សូម សួរ បន្តិច សាកល/B-ORG វិទ្យាល័យ/I-ORG CADT...  \n",
      "89  សុខលាភ/B-PER និង សាមឌី/B-PER អត់ ពេញ ចិត្ត ទៅ ...  \n",
      "90  នៅ ណាហូវ បន្ទប់ researcher នៅ អាគារ/B-BUILD In...  \n",
      "91  នៅ ណាហូវ បន្ទប់ គ្រូ ៗ research នៅ អាគារ/B-BUI...  \n",
      "92  មាន ដឹង អត់ ថា នៅ ណា ទៅ បន្ទប់ ស្រាវជ្រាវ នៅ អ...  \n",
      "\n",
      "[93 rows x 8 columns]\n"
     ]
    }
   ],
   "source": [
    "from pandas.errors import EmptyDataError\n",
    "\n",
    "try:\n",
    "    wrongSentence = pd.read_csv(\"all_data/diff_length_sentences.csv\")\n",
    "\n",
    "    print(\"length_seg: \", wrongSentence[\"length_seg\"].count())\n",
    "    print(\"length_pos: \", wrongSentence[\"length_pos\"].count())\n",
    "    print(\"length_ent: \", wrongSentence[\"length_ent\"].count())\n",
    "    print(\"seg: \", wrongSentence[\"seg\"].count())\n",
    "    print(\"pos: \", wrongSentence[\"pos\"].count())\n",
    "    print(\"ent: \", wrongSentence[\"ent\"].count())\n",
    "\n",
    "    print(wrongSentence)\n",
    "except EmptyDataError:\n",
    "    print(\"No Wrong Length Sentences\")\n"
   ],
   "metadata": {
    "collapsed": false,
    "pycharm": {
     "name": "#%%\n"
    }
   }
  },
  {
   "cell_type": "markdown",
   "source": [
    "## Find Amount of Sentences per intent as well as Total"
   ],
   "metadata": {
    "collapsed": false,
    "pycharm": {
     "name": "#%% md\n"
    }
   }
  },
  {
   "cell_type": "code",
   "execution_count": 11,
   "outputs": [
    {
     "data": {
      "text/plain": "                                            Question               Intent  \\\n0             តើប្រាប់ពីតម្លៃសិក្សារបស់សាលាស៉ីអេឌីធី  AskAboutAcademicFee   \n1                  តើប្រាប់ពីតម្លៃសិក្សារបស់សាលាCADT  AskAboutAcademicFee   \n2  តើខ្ញុំចង់ដឹងពីតម្លៃពីតម្លៃសិក្សារបស់សាលាស៉ីអេ...  AskAboutAcademicFee   \n3      តើខ្ញុំចង់ដឹងពីតម្លៃពីតម្លៃសិក្សារបស់សាលាCADT  AskAboutAcademicFee   \n4     តើសូមប្រាប់ខ្ញុំពីតម្លៃសិក្សារបស់សាលាស៉ីអេឌីធី  AskAboutAcademicFee   \n\n   Intent  \n0     NaN  \n1     NaN  \n2     NaN  \n3     NaN  \n4     NaN  ",
      "text/html": "<div>\n<style scoped>\n    .dataframe tbody tr th:only-of-type {\n        vertical-align: middle;\n    }\n\n    .dataframe tbody tr th {\n        vertical-align: top;\n    }\n\n    .dataframe thead th {\n        text-align: right;\n    }\n</style>\n<table border=\"1\" class=\"dataframe\">\n  <thead>\n    <tr style=\"text-align: right;\">\n      <th></th>\n      <th>Question</th>\n      <th>Intent</th>\n      <th>Intent</th>\n    </tr>\n  </thead>\n  <tbody>\n    <tr>\n      <th>0</th>\n      <td>តើប្រាប់ពីតម្លៃសិក្សារបស់សាលាស៉ីអេឌីធី</td>\n      <td>AskAboutAcademicFee</td>\n      <td>NaN</td>\n    </tr>\n    <tr>\n      <th>1</th>\n      <td>តើប្រាប់ពីតម្លៃសិក្សារបស់សាលាCADT</td>\n      <td>AskAboutAcademicFee</td>\n      <td>NaN</td>\n    </tr>\n    <tr>\n      <th>2</th>\n      <td>តើខ្ញុំចង់ដឹងពីតម្លៃពីតម្លៃសិក្សារបស់សាលាស៉ីអេ...</td>\n      <td>AskAboutAcademicFee</td>\n      <td>NaN</td>\n    </tr>\n    <tr>\n      <th>3</th>\n      <td>តើខ្ញុំចង់ដឹងពីតម្លៃពីតម្លៃសិក្សារបស់សាលាCADT</td>\n      <td>AskAboutAcademicFee</td>\n      <td>NaN</td>\n    </tr>\n    <tr>\n      <th>4</th>\n      <td>តើសូមប្រាប់ខ្ញុំពីតម្លៃសិក្សារបស់សាលាស៉ីអេឌីធី</td>\n      <td>AskAboutAcademicFee</td>\n      <td>NaN</td>\n    </tr>\n  </tbody>\n</table>\n</div>"
     },
     "execution_count": 11,
     "metadata": {},
     "output_type": "execute_result"
    }
   ],
   "source": [
    "## Find Amount of Sentences\n",
    "allDataset = pd.read_csv(\"all_data/all_data_dataset.csv\")\n",
    "allDataset.head()"
   ],
   "metadata": {
    "collapsed": false,
    "pycharm": {
     "name": "#%%\n"
    }
   }
  },
  {
   "cell_type": "code",
   "execution_count": 25,
   "outputs": [],
   "source": [
    "# For used to get Gradient color set\n",
    "\n",
    "def getPalleteAndArrangeValue(color: str, size, as_cmap:bool = False):\n",
    "    pal = sns.color_palette(color, len(size), as_cmap=as_cmap)\n",
    "\n",
    "    # First sort of list\n",
    "    rank = size.argsort()\n",
    "\n",
    "    # Second sort where we can now define which should have the brightest color\n",
    "    proper = rank.argsort()\n",
    "\n",
    "    # Convert the tuple to a list, also to arrange the the color according to the size of each index of the list\n",
    "    aray = np.array(pal)[proper]\n",
    "    return aray"
   ],
   "metadata": {
    "collapsed": false,
    "pycharm": {
     "name": "#%%\n"
    }
   }
  },
  {
   "cell_type": "markdown",
   "source": [
    "## Find sentences total per intent and Draw BarPlot"
   ],
   "metadata": {
    "collapsed": false,
    "pycharm": {
     "name": "#%% md\n"
    }
   }
  },
  {
   "cell_type": "code",
   "execution_count": 26,
   "outputs": [
    {
     "name": "stdout",
     "output_type": "stream",
     "text": [
      "Intent\n",
      "AskAboutAcademicFee       78\n",
      "AskAboutAge              120\n",
      "AskAboutClubInfo          63\n",
      "AskAboutCompetition      144\n",
      "AskAboutInterest         120\n",
      "AskAboutLocation         176\n",
      "AskAboutMinistry         105\n",
      "AskAboutParkingPrice      96\n",
      "AskAboutProvince         138\n",
      "AskAboutSchoolMajors     852\n",
      "AskWhereHRRoomIs        2520\n",
      "FindAnnouncementInfo      24\n",
      "FindCSInfo               512\n",
      "FindClub                  63\n",
      "FindClubRoom             105\n",
      "FindCurrentTime         1770\n",
      "FindECInfo               500\n",
      "FindTNInfo               512\n",
      "FindTotalStudents        504\n",
      "IsMinistryExist          336\n",
      "IsProvinceExist          138\n",
      "ListClub                  48\n",
      "ListParkingSpace          81\n",
      "dtype: int64\n",
      "-------------------------\n"
     ]
    },
    {
     "data": {
      "text/plain": "<Figure size 640x480 with 1 Axes>",
      "image/png": "[encoded data removed]"
     },
     "metadata": {},
     "output_type": "display_data"
    }
   ],
   "source": [
    "# plt.figure(figsize=(16,8))\n",
    "sns.set(style=\"whitegrid\", color_codes=True)\n",
    "\n",
    "dataCount = allDataset.groupby(\"Intent\").size()\n",
    "\n",
    "aray = getPalleteAndArrangeValue(color=\"Greens_d\", size=dataCount)\n",
    "\n",
    "ax = sns.barplot(x=dataCount.index.tolist(), y=dataCount.values.tolist(), palette=aray)\n",
    "\n",
    "plt.bar_label(ax.containers[0], padding=5, rotation=90)\n",
    "ax.set_xticklabels(ax.get_xticklabels(), rotation=90)\n",
    "\n",
    "print(dataCount)\n",
    "print(\"-------------------------\")\n",
    "plt.show()"
   ],
   "metadata": {
    "collapsed": false,
    "pycharm": {
     "name": "#%%\n"
    }
   }
  },
  {
   "cell_type": "code",
   "execution_count": 13,
   "outputs": [
    {
     "name": "stdout",
     "output_type": "stream",
     "text": [
      "Total Sentence length:  28347\n"
     ]
    }
   ],
   "source": [
    "# Find Total\n",
    "print(\"Total Sentence length: \", allDataset.Question.count())"
   ],
   "metadata": {
    "collapsed": false,
    "pycharm": {
     "name": "#%%\n"
    }
   }
  },
  {
   "cell_type": "markdown",
   "source": [
    "## Find Max Sentence Length"
   ],
   "metadata": {
    "collapsed": false,
    "pycharm": {
     "name": "#%% md\n"
    }
   }
  },
  {
   "cell_type": "code",
   "execution_count": 23,
   "outputs": [
    {
     "name": "stdout",
     "output_type": "stream",
     "text": [
      "count    25510.000000\n",
      "mean        15.363936\n",
      "std          3.714957\n",
      "min          5.000000\n",
      "25%         13.000000\n",
      "50%         15.000000\n",
      "75%         17.000000\n",
      "max         30.000000\n",
      "Name: Question_length, dtype: float64\n",
      "Max Sentence Length:  30\n"
     ]
    }
   ],
   "source": [
    "temp = pd.read_csv(\"all_data/all_segment_dataset.csv\")\n",
    "\n",
    "temp[\"Question_length\"] = temp[\"Question\"].apply(lambda x: len(x.split(\" \")))\n",
    "print(temp[\"Question_length\"].describe())\n",
    "\n",
    "max = temp[\"Question_length\"].max()\n",
    "\n",
    "print(\"Max Sentence Length: \", max)\n"
   ],
   "metadata": {
    "collapsed": false,
    "pycharm": {
     "name": "#%%\n"
    }
   }
  },
  {
   "cell_type": "markdown",
   "source": [
    "## Check amount of entities as well as for any errors"
   ],
   "metadata": {
    "collapsed": false,
    "pycharm": {
     "name": "#%% md\n"
    }
   }
  },
  {
   "cell_type": "code",
   "execution_count": 28,
   "outputs": [
    {
     "name": "stdout",
     "output_type": "stream",
     "text": [
      "<class 'pandas.core.frame.DataFrame'>\n",
      "RangeIndex: 16 entries, 0 to 15\n",
      "Data columns (total 3 columns):\n",
      " #   Column        Non-Null Count  Dtype \n",
      "---  ------        --------------  ----- \n",
      " 0   Named Entity  16 non-null     object\n",
      " 1   NE Code       16 non-null     object\n",
      " 2   Remarks       14 non-null     object\n",
      "dtypes: object(3)\n",
      "memory usage: 512.0+ bytes\n"
     ]
    }
   ],
   "source": [
    "entityDataFrame = pd.read_csv(\"all_data/all_entity_dataset.csv\")\n",
    "entityFrame = pd.read_csv(\"Named Entity.csv\")\n",
    "entityFrame.info()"
   ],
   "metadata": {
    "collapsed": false,
    "pycharm": {
     "name": "#%%\n"
    }
   }
  },
  {
   "cell_type": "code",
   "execution_count": 29,
   "outputs": [],
   "source": [
    "# Remove white space from column name and apply it to csv file\n",
    "# TODO: This is still experimenting, use with caution\n",
    "\n",
    "# entityFrame = entityFrame.rename(columns={entityFrame.columns.values[1]: \"Question\"})\n",
    "# entityFrame.to_csv(\"Named Entity.csv\", index=False)"
   ],
   "metadata": {
    "collapsed": false,
    "pycharm": {
     "name": "#%%\n"
    }
   }
  },
  {
   "cell_type": "code",
   "execution_count": 37,
   "outputs": [
    {
     "name": "stdout",
     "output_type": "stream",
     "text": [
      "  Intent  Amount\n",
      "2    PER    3735\n",
      "4    ORG    2559\n",
      "0   ROOM    2520\n",
      "5  MAJOR    1521\n",
      "3    GPE     669\n",
      "1  BUILD      48\n"
     ]
    },
    {
     "data": {
      "text/plain": "<Figure size 640x480 with 1 Axes>",
      "image/png": "[encoded data removed]"
     },
     "metadata": {},
     "output_type": "display_data"
    }
   ],
   "source": [
    "# Check total amount of entity number\n",
    "myDict = {}\n",
    "errorDict = {}\n",
    "\n",
    "entityTag = entityFrame[\"NE Code\"].to_list()\n",
    "entitySentences = entityDataFrame[\"Question\"].to_list()\n",
    "\n",
    "for x in entityTag:\n",
    "    count = 0\n",
    "    for index, row in entityDataFrame.iterrows():\n",
    "        sentence = row[\"Question\"].split()\n",
    "        for c in range(len(sentence)):\n",
    "            # Matches /B-Word until space\n",
    "            if re.search(r\"/B-{}$\".format(x), sentence[c]):\n",
    "                count += 1\n",
    "                split = sentence[c].rsplit(\"/B-\", maxsplit=1)[1]\n",
    "                myDict.update({split: count})\n",
    "\n",
    "            elif re.search(r\"/B-{}\\w\".format(x), sentence[c]):\n",
    "                split = sentence[c].rsplit(\"/B-\", maxsplit=1)[1]\n",
    "                errorDict.update({split:row[\"Intent\"]})\n",
    "\n",
    "\n",
    "entityAmount = pd.DataFrame(myDict.items(), columns=[\"Intent\", \"Amount\"])\n",
    "entityAmount.sort_values(by=[\"Amount\"], inplace=True, ascending=False)\n",
    "\n",
    "# color = sns.color_palette(\"crest\", as_cmap=True)\n",
    "\n",
    "color = getPalleteAndArrangeValue(\"crest\", entityAmount[\"Amount\"])\n",
    "\n",
    "# fig,wtf, ax = plt.subplot()\n",
    "# print(\"fig: \",fig)\n",
    "# print(\"wtf: \",wtf)\n",
    "# print(\"ax: \",ax)\n",
    "plt.pie(x= entityAmount[\"Amount\"], labels=entityAmount[\"Intent\"], colors=color, autopct=\"%.2f\")\n",
    "\n",
    "# for x in autoTexts:\n",
    "#     x.set_color(\"w\")\n",
    "\n",
    "\n",
    "print(entityAmount)\n",
    "plt.show()"
   ],
   "metadata": {
    "collapsed": false,
    "pycharm": {
     "name": "#%%\n"
    }
   }
  },
  {
   "cell_type": "code",
   "execution_count": null,
   "outputs": [],
   "source": [
    "## Calculate the percentage\n",
    "\n",
    "# Sum of Intent\n",
    "totalIntentTag = sum(myDict[x] for x in myDict)\n",
    "rise = [\"{0:.2f}%\".format(myDict[x] * 100 / totalIntentTag) for x in myDict]\n",
    "\n",
    "entityAmount[\"Percentage\"] = rise\n",
    "entityAmount\n"
   ],
   "metadata": {
    "collapsed": false,
    "pycharm": {
     "name": "#%%\n"
    }
   }
  },
  {
   "cell_type": "markdown",
   "source": [
    "## Count each word occurence"
   ],
   "metadata": {
    "collapsed": false,
    "pycharm": {
     "name": "#%% md\n"
    }
   }
  },
  {
   "cell_type": "code",
   "execution_count": null,
   "outputs": [],
   "source": [],
   "metadata": {
    "collapsed": false,
    "pycharm": {
     "name": "#%%\n"
    }
   }
  }
 ],
 "metadata": {
  "kernelspec": {
   "display_name": "Python 3",
   "language": "python",
   "name": "python3"
  },
  "language_info": {
   "codemirror_mode": {
    "name": "ipython",
    "version": 2
   },
   "file_extension": ".py",
   "mimetype": "text/x-python",
   "name": "python",
   "nbconvert_exporter": "python",
   "pygments_lexer": "ipython2",
   "version": "2.7.6"
  }
 },
 "nbformat": 4,
 "nbformat_minor": 0
}