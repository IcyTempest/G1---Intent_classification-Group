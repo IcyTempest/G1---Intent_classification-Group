{
 "cells": [
  {
   "cell_type": "code",
   "execution_count": 30,
   "outputs": [],
   "source": [
    "import re\n",
    "\n",
    "import pandas as pd\n",
    "import numpy as np\n",
    "import os\n",
    "\n",
    "import seaborn as sns\n",
    "from matplotlib import pyplot as plt\n"
   ],
   "metadata": {
    "collapsed": false,
    "pycharm": {
     "name": "#%%\n"
    }
   }
  },
  {
   "cell_type": "markdown",
   "source": [
    "## Concatenate Dataset into one File"
   ],
   "metadata": {
    "collapsed": false,
    "pycharm": {
     "name": "#%% md\n"
    }
   }
  },
  {
   "cell_type": "code",
   "execution_count": 31,
   "outputs": [],
   "source": [
    "from typing import List\n",
    "\n",
    "\n",
    "def eraseSpace(directory: str):\n",
    "    files = getFileNameFromDir(direc=directory)\n",
    "    for file in files:\n",
    "        realFile = open(\"{}/{}\".format(directory, file), mode=\"r\", encoding=\"UTF-8\")\n",
    "        data = [f for f in realFile if f.strip()]\n",
    "        realFile.close()\n",
    "        realFile = open(\"{}/{}\".format(directory, file), mode=\"w\", encoding=\"UTF-8\")\n",
    "        realFile.writelines(data)\n",
    "        realFile.close()\n",
    "\n",
    "\n",
    "def getFileNameFromDir(direc: str) -> List[str]:\n",
    "    return [f for f in os.listdir(\"{}/\".format(direc))]\n",
    "\n",
    "\n",
    "def myConcat(direcToScan: str, outputFilename: str, outputDirec: str = \"all_data\"):\n",
    "    files = getFileNameFromDir(direc=direcToScan)\n",
    "\n",
    "    # datasets = pd.concat([pd.read_csv(\"{}/{}\".format(direcToScan, f), encoding=\"UTF-8\") for f in files], axis=0, ignore_index=True)\n",
    "    df = []\n",
    "    for f in files:\n",
    "        print(\"direc: {}, file: {}\".format(direcToScan, f))\n",
    "        df.append(pd.read_csv(\"{}/{}\".format(direcToScan, f), encoding=\"UTF-8\"))\n",
    "\n",
    "    datasets = pd.concat(df, axis=0, ignore_index=True)\n",
    "    datasets.to_csv(\"{}/{}.csv\".format(outputDirec, outputFilename), index=False)"
   ],
   "metadata": {
    "collapsed": false,
    "pycharm": {
     "name": "#%%\n"
    }
   }
  },
  {
   "cell_type": "code",
   "execution_count": 32,
   "outputs": [
    {
     "name": "stdout",
     "output_type": "stream",
     "text": [
      "direc: datasets, file: AskAboutAcademicFee.csv\n",
      "direc: datasets, file: AskAboutAge.csv\n",
      "direc: datasets, file: AskAboutClubInfo.csv\n",
      "direc: datasets, file: AskAboutCompetition.csv\n",
      "direc: datasets, file: AskAboutInterest.csv\n",
      "direc: datasets, file: AskAboutLocation.csv\n",
      "direc: datasets, file: AskAboutMinistry.csv\n",
      "direc: datasets, file: AskAboutParkingPrice.csv\n",
      "direc: datasets, file: AskAboutProvince.csv\n",
      "direc: datasets, file: AskAboutSchoolMajors.csv\n",
      "direc: datasets, file: AskWhereHRRoomIs.csv\n",
      "direc: datasets, file: FindAnnouncementInfo.csv\n",
      "direc: datasets, file: FindClub.csv\n",
      "direc: datasets, file: FindClubRoom.csv\n",
      "direc: datasets, file: FindCSInfo.csv\n",
      "direc: datasets, file: FindCurrentTime.csv\n",
      "direc: datasets, file: FindECInfo.csv\n",
      "direc: datasets, file: FindTNInfo.csv\n",
      "direc: datasets, file: FindTotalStudents.csv\n",
      "direc: datasets, file: IsMinistryExist.csv\n",
      "direc: datasets, file: IsProvinceExist.csv\n",
      "direc: datasets, file: ListClub.csv\n",
      "direc: datasets, file: ListParkingSpace.csv\n",
      "direc: entity-tag, file: AskAboutAcademicFee.csv\n",
      "direc: entity-tag, file: AskAboutClubInfo.csv\n",
      "direc: entity-tag, file: AskAboutCompetition.csv\n",
      "direc: entity-tag, file: AskAboutInterest.csv\n",
      "direc: entity-tag, file: AskAboutLocation.csv\n",
      "direc: entity-tag, file: AskAboutMinistry.csv\n",
      "direc: entity-tag, file: AskAboutParkingPrice.csv\n",
      "direc: entity-tag, file: AskAboutProvince.csv\n",
      "direc: entity-tag, file: AskAboutSchoolMajors.csv\n",
      "direc: entity-tag, file: AskWhereHRRoomIs.csv\n",
      "direc: entity-tag, file: FindAnnouncementInfo.csv\n",
      "direc: entity-tag, file: FindClub.csv\n",
      "direc: entity-tag, file: FindClubRoom.csv\n",
      "direc: entity-tag, file: FindCSInfo.csv\n",
      "direc: entity-tag, file: FindCurrentTime.csv\n",
      "direc: entity-tag, file: FindECInfo.csv\n",
      "direc: entity-tag, file: FindTNInfo.csv\n",
      "direc: entity-tag, file: FindTotalStudents.csv\n",
      "direc: entity-tag, file: IsMinistryExist.csv\n",
      "direc: entity-tag, file: IsProvinceExist.csv\n",
      "direc: entity-tag, file: ListClub.csv\n",
      "direc: entity-tag, file: ListParkingSpace.csv\n",
      "direc: segments, file: AskAboutAcademicFee.csv\n",
      "direc: segments, file: AskAboutAge.csv\n",
      "direc: segments, file: AskAboutClubInfo.csv\n",
      "direc: segments, file: AskAboutCompetition .csv\n",
      "direc: segments, file: AskAboutInterest.csv\n",
      "direc: segments, file: AskAboutLocation.csv\n",
      "direc: segments, file: AskAboutMinistry.csv\n",
      "direc: segments, file: AskAboutParkingPrice.csv\n",
      "direc: segments, file: AskAboutProvince.csv\n",
      "direc: segments, file: AskAboutSchoolMajors.csv\n",
      "direc: segments, file: AskWhereHRRoomIs.csv\n",
      "direc: segments, file: FindAnnouncementInfo.csv\n",
      "direc: segments, file: FindClub.csv\n",
      "direc: segments, file: FindClubRoom.csv\n",
      "direc: segments, file: FindCSInfo.csv\n",
      "direc: segments, file: FindCurrentTime.csv\n",
      "direc: segments, file: FindECInfo.csv\n",
      "direc: segments, file: FindTNInfo.csv\n",
      "direc: segments, file: FindTotalStudents.csv\n",
      "direc: segments, file: IsMinistryExist.csv\n",
      "direc: segments, file: IsProvinceExist.csv\n",
      "direc: segments, file: ListClub.csv\n",
      "direc: segments, file: ListParkingSpace.csv\n",
      "direc: POS/, file: AskAboutAcademicFee.csv\n",
      "direc: POS/, file: AskAboutAge.csv\n",
      "direc: POS/, file: AskAboutClubInfo.csv\n",
      "direc: POS/, file: AskAboutCompetition.csv\n",
      "direc: POS/, file: AskAboutInterest.csv\n",
      "direc: POS/, file: AskAboutLocation.csv\n",
      "direc: POS/, file: AskAboutMinistry.csv\n",
      "direc: POS/, file: AskAboutParkingPrice.csv\n",
      "direc: POS/, file: AskAboutProvince - pos.csv\n",
      "direc: POS/, file: AskAboutSchoolMajors.csv\n",
      "direc: POS/, file: AskWhereHRRoomIs.csv\n",
      "direc: POS/, file: FindAnnouncementInfo.csv\n",
      "direc: POS/, file: FindClub.csv\n",
      "direc: POS/, file: FindClubRoom.csv\n",
      "direc: POS/, file: FindCSInfo.csv\n",
      "direc: POS/, file: FindCurrentTime.csv\n",
      "direc: POS/, file: FindECInfo.csv\n",
      "direc: POS/, file: FindTNInfo.csv\n",
      "direc: POS/, file: FindTotalStudents.csv\n",
      "direc: POS/, file: IsMinistryExist.csv\n",
      "direc: POS/, file: IsProvinceExist.csv\n",
      "direc: POS/, file: ListClub.csv\n",
      "direc: POS/, file: ListParkingSpace.csv\n"
     ]
    }
   ],
   "source": [
    "## Concatenate All Dataset into one File\n",
    "myConcat(direcToScan=\"datasets\", outputFilename=\"all_data_dataset\")\n",
    "\n",
    "## Concatenate All Entity-tag Dataset into one File\n",
    "myConcat(direcToScan=\"entity-tag\", outputFilename=\"all_entity_dataset\")\n",
    "\n",
    "## Concatenate All Segmentation Dataset into one File\n",
    "myConcat(direcToScan=\"segments\", outputFilename=\"all_segment_dataset\")\n",
    "\n",
    "## Concatenate All Segmentation Dataset into one File\n",
    "myConcat(direcToScan=\"POS/\", outputFilename=\"all_pos_dataset\")"
   ],
   "metadata": {
    "collapsed": false,
    "pycharm": {
     "name": "#%%\n"
    }
   }
  },
  {
   "cell_type": "markdown",
   "source": [
    "## Erase blank from files"
   ],
   "metadata": {
    "collapsed": false,
    "pycharm": {
     "name": "#%% md\n"
    }
   }
  },
  {
   "cell_type": "code",
   "execution_count": 33,
   "outputs": [
    {
     "name": "stdout",
     "output_type": "stream",
     "text": [
      "Success\n"
     ]
    }
   ],
   "source": [
    "try:\n",
    "    eraseSpace(directory=\"datasets\")\n",
    "    eraseSpace(directory=\"entity-tag\")\n",
    "    eraseSpace(directory=\"POS\")\n",
    "    eraseSpace(directory=\"segments\")\n",
    "    print(\"Success\")\n",
    "except:\n",
    "    print(\"fail\")\n"
   ],
   "metadata": {
    "collapsed": false,
    "pycharm": {
     "name": "#%%\n"
    }
   }
  },
  {
   "cell_type": "markdown",
   "source": [
    "## Compare Ner length, POS length, and SEG Length"
   ],
   "metadata": {
    "collapsed": false,
    "pycharm": {
     "name": "#%% md\n"
    }
   }
  },
  {
   "cell_type": "code",
   "execution_count": 45,
   "outputs": [
    {
     "name": "stderr",
     "output_type": "stream",
     "text": [
      "IOPub data rate exceeded.\n",
      "The notebook server will temporarily stop sending output\n",
      "to the client in order to avoid crashing it.\n",
      "To change this limit, set the config variable\n",
      "`--NotebookApp.iopub_data_rate_limit`.\n",
      "\n",
      "Current values:\n",
      "NotebookApp.iopub_data_rate_limit=1000000.0 (bytes/sec)\n",
      "NotebookApp.rate_limit_window=3.0 (secs)\n",
      "\n"
     ]
    }
   ],
   "source": [
    "allEntityDataset = pd.read_csv(\"all_data/all_entity_dataset.csv\")\n",
    "allPosDataset = pd.read_csv(\"all_data/all_pos_dataset.csv\")\n",
    "allSegDataset = pd.read_csv(\"all_data/all_segment_dataset.csv\")\n",
    "\n",
    "# error = [1 for seg, entity, ent, pos in\n",
    "#          zip(allSegDataset.items(), allEntityDataset[\"Question\"].items(), allPosDataset[\"Question\"].items()) if\n",
    "#          len(seg) != len(ent) != len(pos)]\n",
    "myDict = {}\n",
    "indexs = allEntityDataset.index.tolist()\n",
    "segs = allSegDataset[\"Question\"].to_list()\n",
    "tags = allSegDataset[\"Intent\"].to_list()\n",
    "ents = allEntityDataset[\"Question\"].to_list()\n",
    "poss = allPosDataset[\"Question\"].to_list()\n",
    "\n",
    "for seg, tag, ent, pos, index in zip(segs, tags, ents, poss, indexs):\n",
    "    if len(str(seg).split()) is not len(str(pos).split()) is not len(str(ent).split()):\n",
    "        myDict.setdefault(\"index\", []).append(index)\n",
    "        myDict.setdefault(\"intent\", []).append(tag)\n",
    "        myDict.setdefault(\"length_seg\", []).append(len(str(seg).split()))\n",
    "        myDict.setdefault(\"length_pos\", []).append(len(str(pos).split()))\n",
    "        myDict.setdefault(\"length_ent\", []).append(len(str(ent).split()))\n",
    "        myDict.setdefault(\"seg\", []).append(seg)\n",
    "        myDict.setdefault(\"pos\", []).append(pos)\n",
    "        myDict.setdefault(\"ent\", []).append(ent)\n"
   ],
   "metadata": {
    "collapsed": false,
    "pycharm": {
     "name": "#%%\n"
    }
   }
  },
  {
   "cell_type": "code",
   "execution_count": null,
   "outputs": [],
   "source": [],
   "metadata": {
    "collapsed": false,
    "pycharm": {
     "name": "#%%\n"
    }
   }
  },
  {
   "cell_type": "code",
   "execution_count": 46,
   "outputs": [
    {
     "name": "stdout",
     "output_type": "stream",
     "text": [
      "length_seg:  6415\n",
      "length_pos:  6415\n",
      "length_ent:  6415\n",
      "seg:  6415\n",
      "pos:  6415\n",
      "ent:  6415\n"
     ]
    },
    {
     "data": {
      "text/plain": "      index       intent  length_seg  length_pos  length_ent  \\\n0        78  AskAboutAge          13          14          15   \n1        79  AskAboutAge          14          15          12   \n2        82  AskAboutAge           7           8          13   \n3        83  AskAboutAge           8           9          14   \n4        87  AskAboutAge          14          15          14   \n...     ...          ...         ...         ...         ...   \n6410   8923     ListClub           1          16           7   \n6411   8924     ListClub           1          17           9   \n6412   8925     ListClub           1          10           9   \n6413   8926     ListClub           1           9           8   \n6414   8927     ListClub           1          12           8   \n\n                                                    seg  \\\n0     តើ ថូម៉ាស ប្រាប់ បន្ដិច បាន ទេ ថា ឯង មាន ព្រះជ...   \n1     តើ ថូម៉ាស ប្រាប់ បន្ដិច បាន ទេ ថា ឯង មាន ព្រះជ...   \n2                តើ ថូម៉ាស មាន ព្រះជន្ម ប៉ុន្មាន ហេីយ ?   \n3          តើ ថូម៉ាស មាន ព្រះជន្ម ប៉ុន្មាន ឆ្នាំ ហេីយ ?   \n4     តើ ថូម៉ាស ប្រាប់ បន្ដិច បាន ទេ ថា អ្នក មាន ព្រ...   \n...                                                 ...   \n6410                                                NaN   \n6411                                                NaN   \n6412                                                NaN   \n6413                                                NaN   \n6414                                                NaN   \n\n                                                    pos  \\\n0     តើ/prt ថូម៉ាស/noun ប្រាប់/verb បន្ដិច/adj បាន/...   \n1     តើ/prt ថូម៉ាស/noun ប្រាប់/verb បន្ដិច/adj បាន/...   \n2     តើ/prt ថូម៉ាស/noun មាន/verb ព្រះ/noun ជន្ម/nou...   \n3     តើ/prt ថូម៉ាស/noun មាន/verb ព្រះ/noun ជន្ម/nou...   \n4     តើ/prt ថូម៉ាស/noun ប្រាប់/verb បន្ដិច/adj បាន/...   \n...                                                 ...   \n6410  សូម/verb សួរ/verb បន្តិច/adj ថា/conj ក្លិប/nou...   \n6411  សូម/verb សួរ/verb បន្តិច/adj ថា/conj ក្លិប/nou...   \n6412  តើ/prt នៅ/adp សាលា/noun ស៊ីអេឌីធី/noun មាន/ver...   \n6413  តើ/prt នៅ/adp សាលា/noun ស៊ីអេឌីធី/noun មាន/ver...   \n6414  តើ/prt នៅ/adp សាលា/noun ស៊ីអេឌីធី/noun មាន/ver...   \n\n                                                    ent  \n0     អាច/verb រៀបរាប់/verb អំពី/adp ព័ត៌មាន/noun រប...  \n1     អាច/verb រៀបរាប់/verb អំពី/adp ព័ត៌មាន/noun រប...  \n2     អ្នក/pron អាច/verb ប្រាប់/verb អំពី/adp ព័ត៌មា...  \n3     អ្នក/pron អាច/verb ប្រាប់/verb អំពី/adp ព័ត៌មា...  \n4     អាច/verb រៀបរាប់/verb អំពី/adp ព័ត៌មាន/noun រប...  \n...                                                 ...  \n6410                    សូម ប្រាប់ ពី កន្លែង ដាក់ ឡាន ?  \n6411      សូម ប្រាប់ ពី កន្លែង សម្រាប់ ដាក់ ឡាន ម៉ូតូ ?  \n6412      សូម ប្រាប់ ពី កន្លែង សម្រាប់ ដាក់ យាន ជំនិះ ?  \n6413          សូម ប្រាប់ ពី កន្លែង សម្រាប់ ដាក់ ម៉ូតូ ?  \n6414            សូម ប្រាប់ ពី កន្លែង សម្រាប់ ដាក់ ឡាន ?  \n\n[6415 rows x 8 columns]",
      "text/html": "<div>\n<style scoped>\n    .dataframe tbody tr th:only-of-type {\n        vertical-align: middle;\n    }\n\n    .dataframe tbody tr th {\n        vertical-align: top;\n    }\n\n    .dataframe thead th {\n        text-align: right;\n    }\n</style>\n<table border=\"1\" class=\"dataframe\">\n  <thead>\n    <tr style=\"text-align: right;\">\n      <th></th>\n      <th>index</th>\n      <th>intent</th>\n      <th>length_seg</th>\n      <th>length_pos</th>\n      <th>length_ent</th>\n      <th>seg</th>\n      <th>pos</th>\n      <th>ent</th>\n    </tr>\n  </thead>\n  <tbody>\n    <tr>\n      <th>0</th>\n      <td>78</td>\n      <td>AskAboutAge</td>\n      <td>13</td>\n      <td>14</td>\n      <td>15</td>\n      <td>តើ ថូម៉ាស ប្រាប់ បន្ដិច បាន ទេ ថា ឯង មាន ព្រះជ...</td>\n      <td>តើ/prt ថូម៉ាស/noun ប្រាប់/verb បន្ដិច/adj បាន/...</td>\n      <td>អាច/verb រៀបរាប់/verb អំពី/adp ព័ត៌មាន/noun រប...</td>\n    </tr>\n    <tr>\n      <th>1</th>\n      <td>79</td>\n      <td>AskAboutAge</td>\n      <td>14</td>\n      <td>15</td>\n      <td>12</td>\n      <td>តើ ថូម៉ាស ប្រាប់ បន្ដិច បាន ទេ ថា ឯង មាន ព្រះជ...</td>\n      <td>តើ/prt ថូម៉ាស/noun ប្រាប់/verb បន្ដិច/adj បាន/...</td>\n      <td>អាច/verb រៀបរាប់/verb អំពី/adp ព័ត៌មាន/noun រប...</td>\n    </tr>\n    <tr>\n      <th>2</th>\n      <td>82</td>\n      <td>AskAboutAge</td>\n      <td>7</td>\n      <td>8</td>\n      <td>13</td>\n      <td>តើ ថូម៉ាស មាន ព្រះជន្ម ប៉ុន្មាន ហេីយ ?</td>\n      <td>តើ/prt ថូម៉ាស/noun មាន/verb ព្រះ/noun ជន្ម/nou...</td>\n      <td>អ្នក/pron អាច/verb ប្រាប់/verb អំពី/adp ព័ត៌មា...</td>\n    </tr>\n    <tr>\n      <th>3</th>\n      <td>83</td>\n      <td>AskAboutAge</td>\n      <td>8</td>\n      <td>9</td>\n      <td>14</td>\n      <td>តើ ថូម៉ាស មាន ព្រះជន្ម ប៉ុន្មាន ឆ្នាំ ហេីយ ?</td>\n      <td>តើ/prt ថូម៉ាស/noun មាន/verb ព្រះ/noun ជន្ម/nou...</td>\n      <td>អ្នក/pron អាច/verb ប្រាប់/verb អំពី/adp ព័ត៌មា...</td>\n    </tr>\n    <tr>\n      <th>4</th>\n      <td>87</td>\n      <td>AskAboutAge</td>\n      <td>14</td>\n      <td>15</td>\n      <td>14</td>\n      <td>តើ ថូម៉ាស ប្រាប់ បន្ដិច បាន ទេ ថា អ្នក មាន ព្រ...</td>\n      <td>តើ/prt ថូម៉ាស/noun ប្រាប់/verb បន្ដិច/adj បាន/...</td>\n      <td>អាច/verb រៀបរាប់/verb អំពី/adp ព័ត៌មាន/noun រប...</td>\n    </tr>\n    <tr>\n      <th>...</th>\n      <td>...</td>\n      <td>...</td>\n      <td>...</td>\n      <td>...</td>\n      <td>...</td>\n      <td>...</td>\n      <td>...</td>\n      <td>...</td>\n    </tr>\n    <tr>\n      <th>6410</th>\n      <td>8923</td>\n      <td>ListClub</td>\n      <td>1</td>\n      <td>16</td>\n      <td>7</td>\n      <td>NaN</td>\n      <td>សូម/verb សួរ/verb បន្តិច/adj ថា/conj ក្លិប/nou...</td>\n      <td>សូម ប្រាប់ ពី កន្លែង ដាក់ ឡាន ?</td>\n    </tr>\n    <tr>\n      <th>6411</th>\n      <td>8924</td>\n      <td>ListClub</td>\n      <td>1</td>\n      <td>17</td>\n      <td>9</td>\n      <td>NaN</td>\n      <td>សូម/verb សួរ/verb បន្តិច/adj ថា/conj ក្លិប/nou...</td>\n      <td>សូម ប្រាប់ ពី កន្លែង សម្រាប់ ដាក់ ឡាន ម៉ូតូ ?</td>\n    </tr>\n    <tr>\n      <th>6412</th>\n      <td>8925</td>\n      <td>ListClub</td>\n      <td>1</td>\n      <td>10</td>\n      <td>9</td>\n      <td>NaN</td>\n      <td>តើ/prt នៅ/adp សាលា/noun ស៊ីអេឌីធី/noun មាន/ver...</td>\n      <td>សូម ប្រាប់ ពី កន្លែង សម្រាប់ ដាក់ យាន ជំនិះ ?</td>\n    </tr>\n    <tr>\n      <th>6413</th>\n      <td>8926</td>\n      <td>ListClub</td>\n      <td>1</td>\n      <td>9</td>\n      <td>8</td>\n      <td>NaN</td>\n      <td>តើ/prt នៅ/adp សាលា/noun ស៊ីអេឌីធី/noun មាន/ver...</td>\n      <td>សូម ប្រាប់ ពី កន្លែង សម្រាប់ ដាក់ ម៉ូតូ ?</td>\n    </tr>\n    <tr>\n      <th>6414</th>\n      <td>8927</td>\n      <td>ListClub</td>\n      <td>1</td>\n      <td>12</td>\n      <td>8</td>\n      <td>NaN</td>\n      <td>តើ/prt នៅ/adp សាលា/noun ស៊ីអេឌីធី/noun មាន/ver...</td>\n      <td>សូម ប្រាប់ ពី កន្លែង សម្រាប់ ដាក់ ឡាន ?</td>\n    </tr>\n  </tbody>\n</table>\n<p>6415 rows × 8 columns</p>\n</div>"
     },
     "execution_count": 46,
     "metadata": {},
     "output_type": "execute_result"
    }
   ],
   "source": [
    "print(\"length_seg: \", len(myDict[\"length_seg\"]))\n",
    "print(\"length_pos: \", len(myDict[\"length_pos\"]))\n",
    "print(\"length_ent: \", len(myDict[\"length_ent\"]))\n",
    "print(\"seg: \", len(myDict[\"seg\"]))\n",
    "print(\"pos: \", len(myDict[\"pos\"]))\n",
    "print(\"ent: \", len(myDict[\"ent\"]))\n",
    "\n",
    "errorPd = pd.DataFrame.from_dict(myDict)\n",
    "errorPd.to_csv(\"all_data/diff_length_sentences.csv\")\n",
    "errorPd"
   ],
   "metadata": {
    "collapsed": false,
    "pycharm": {
     "name": "#%%\n"
    }
   }
  },
  {
   "cell_type": "markdown",
   "source": [
    "## Find Amount of Sentences per intent as well as Total"
   ],
   "metadata": {
    "collapsed": false,
    "pycharm": {
     "name": "#%% md\n"
    }
   }
  },
  {
   "cell_type": "code",
   "execution_count": 35,
   "outputs": [
    {
     "data": {
      "text/plain": "                                            Question               Intent  \\\n0             តើប្រាប់ពីតម្លៃសិក្សារបស់សាលាស៉ីអេឌីធី  AskAboutAcademicFee   \n1                  តើប្រាប់ពីតម្លៃសិក្សារបស់សាលាCADT  AskAboutAcademicFee   \n2  តើខ្ញុំចង់ដឹងពីតម្លៃពីតម្លៃសិក្សារបស់សាលាស៉ីអេ...  AskAboutAcademicFee   \n3      តើខ្ញុំចង់ដឹងពីតម្លៃពីតម្លៃសិក្សារបស់សាលាCADT  AskAboutAcademicFee   \n4     តើសូមប្រាប់ខ្ញុំពីតម្លៃសិក្សារបស់សាលាស៉ីអេឌីធី  AskAboutAcademicFee   \n\n  Questions  \n0       NaN  \n1       NaN  \n2       NaN  \n3       NaN  \n4       NaN  ",
      "text/html": "<div>\n<style scoped>\n    .dataframe tbody tr th:only-of-type {\n        vertical-align: middle;\n    }\n\n    .dataframe tbody tr th {\n        vertical-align: top;\n    }\n\n    .dataframe thead th {\n        text-align: right;\n    }\n</style>\n<table border=\"1\" class=\"dataframe\">\n  <thead>\n    <tr style=\"text-align: right;\">\n      <th></th>\n      <th>Question</th>\n      <th>Intent</th>\n      <th>Questions</th>\n    </tr>\n  </thead>\n  <tbody>\n    <tr>\n      <th>0</th>\n      <td>តើប្រាប់ពីតម្លៃសិក្សារបស់សាលាស៉ីអេឌីធី</td>\n      <td>AskAboutAcademicFee</td>\n      <td>NaN</td>\n    </tr>\n    <tr>\n      <th>1</th>\n      <td>តើប្រាប់ពីតម្លៃសិក្សារបស់សាលាCADT</td>\n      <td>AskAboutAcademicFee</td>\n      <td>NaN</td>\n    </tr>\n    <tr>\n      <th>2</th>\n      <td>តើខ្ញុំចង់ដឹងពីតម្លៃពីតម្លៃសិក្សារបស់សាលាស៉ីអេ...</td>\n      <td>AskAboutAcademicFee</td>\n      <td>NaN</td>\n    </tr>\n    <tr>\n      <th>3</th>\n      <td>តើខ្ញុំចង់ដឹងពីតម្លៃពីតម្លៃសិក្សារបស់សាលាCADT</td>\n      <td>AskAboutAcademicFee</td>\n      <td>NaN</td>\n    </tr>\n    <tr>\n      <th>4</th>\n      <td>តើសូមប្រាប់ខ្ញុំពីតម្លៃសិក្សារបស់សាលាស៉ីអេឌីធី</td>\n      <td>AskAboutAcademicFee</td>\n      <td>NaN</td>\n    </tr>\n  </tbody>\n</table>\n</div>"
     },
     "execution_count": 35,
     "metadata": {},
     "output_type": "execute_result"
    }
   ],
   "source": [
    "## Find Amount of Sentences\n",
    "allDataset = pd.read_csv(\"all_data/all_data_dataset.csv\")\n",
    "allDataset.head()"
   ],
   "metadata": {
    "collapsed": false,
    "pycharm": {
     "name": "#%%\n"
    }
   }
  },
  {
   "cell_type": "code",
   "execution_count": 36,
   "outputs": [
    {
     "name": "stdout",
     "output_type": "stream",
     "text": [
      "pal:  [(0.6445469691144432, 0.8528258362168397, 0.6308855568371139), (0.6043983083429451, 0.8318492887351019, 0.6030296039984622), (0.5642496475714469, 0.8108727412533641, 0.5751736511598103), (0.5277508650519032, 0.7918031526336025, 0.5498500576701268), (0.487602204280405, 0.7708266051518646, 0.5219941048314751), (0.44745354350890687, 0.7498500576701269, 0.4941381519928233), (0.4109547609893631, 0.7307804690503652, 0.4688145585031398), (0.370806100217865, 0.7098039215686275, 0.440958605664488), (0.3306574394463668, 0.6888273740868897, 0.41310265282583625), (0.2941586569268231, 0.669757785467128, 0.38777905933615275), (0.2540099961553249, 0.6487812379853902, 0.359923106497501), (0.2156247597078047, 0.6270767653466616, 0.33281045751633986), (0.21439446366782008, 0.5934486735870819, 0.32235294117647056), (0.213041138023837, 0.5564577726515443, 0.31084967320261436), (0.2116878123798539, 0.5194668717160067, 0.29934640522875816), (0.21045751633986928, 0.485838779956427, 0.28888888888888886), (0.2091041906958862, 0.4488478790208894, 0.27738562091503266), (0.20775086505190313, 0.4118569780853518, 0.26588235294117646), (0.2065205690119185, 0.3782288863257721, 0.2554248366013072), (0.20516724336793543, 0.34123798539023453, 0.24392156862745099), (0.20381391772395233, 0.30424708445469695, 0.23241830065359478), (0.2025836216839677, 0.27061899269511724, 0.2219607843137255), (0.20123029603998463, 0.23362809175957966, 0.2104575163398693)]\n",
      "[[0.64454697 0.85282584 0.63088556]\n",
      " [0.60439831 0.83184929 0.6030296 ]\n",
      " [0.56424965 0.81087274 0.57517365]\n",
      " [0.52775087 0.79180315 0.54985006]\n",
      " [0.4876022  0.77082661 0.5219941 ]\n",
      " [0.44745354 0.74985006 0.49413815]\n",
      " [0.41095476 0.73078047 0.46881456]\n",
      " [0.3708061  0.70980392 0.44095861]\n",
      " [0.33065744 0.68882737 0.41310265]\n",
      " [0.29415866 0.66975779 0.38777906]\n",
      " [0.25401    0.64878124 0.35992311]\n",
      " [0.21562476 0.62707677 0.33281046]\n",
      " [0.21439446 0.59344867 0.32235294]\n",
      " [0.21304114 0.55645777 0.31084967]\n",
      " [0.21168781 0.51946687 0.29934641]\n",
      " [0.21045752 0.48583878 0.28888889]\n",
      " [0.20910419 0.44884788 0.27738562]\n",
      " [0.20775087 0.41185698 0.26588235]\n",
      " [0.20652057 0.37822889 0.25542484]\n",
      " [0.20516724 0.34123799 0.24392157]\n",
      " [0.20381392 0.30424708 0.2324183 ]\n",
      " [0.20258362 0.27061899 0.22196078]\n",
      " [0.2012303  0.23362809 0.21045752]]\n",
      "proper  Intent\n",
      "AskAboutAcademicFee      4\n",
      "AskAboutAge             10\n",
      "AskAboutClubInfo         3\n",
      "AskAboutCompetition     13\n",
      "AskAboutInterest         9\n",
      "AskAboutLocation        14\n",
      "AskAboutMinistry         8\n",
      "AskAboutParkingPrice     6\n",
      "AskAboutProvince        12\n",
      "AskAboutSchoolMajors    20\n",
      "AskWhereHRRoomIs        22\n",
      "FindAnnouncementInfo     0\n",
      "FindCSInfo              18\n",
      "FindClub                 2\n",
      "FindClubRoom             7\n",
      "FindCurrentTime         21\n",
      "FindECInfo              16\n",
      "FindTNInfo              19\n",
      "FindTotalStudents       17\n",
      "IsMinistryExist         15\n",
      "IsProvinceExist         11\n",
      "ListClub                 1\n",
      "ListParkingSpace         5\n",
      "dtype: int64\n",
      "[[0.4876022  0.77082661 0.5219941 ]\n",
      " [0.25401    0.64878124 0.35992311]\n",
      " [0.52775087 0.79180315 0.54985006]\n",
      " [0.21304114 0.55645777 0.31084967]\n",
      " [0.29415866 0.66975779 0.38777906]\n",
      " [0.21168781 0.51946687 0.29934641]\n",
      " [0.33065744 0.68882737 0.41310265]\n",
      " [0.41095476 0.73078047 0.46881456]\n",
      " [0.21439446 0.59344867 0.32235294]\n",
      " [0.20381392 0.30424708 0.2324183 ]\n",
      " [0.2012303  0.23362809 0.21045752]\n",
      " [0.64454697 0.85282584 0.63088556]\n",
      " [0.20652057 0.37822889 0.25542484]\n",
      " [0.56424965 0.81087274 0.57517365]\n",
      " [0.3708061  0.70980392 0.44095861]\n",
      " [0.20258362 0.27061899 0.22196078]\n",
      " [0.20910419 0.44884788 0.27738562]\n",
      " [0.20516724 0.34123799 0.24392157]\n",
      " [0.20775087 0.41185698 0.26588235]\n",
      " [0.21045752 0.48583878 0.28888889]\n",
      " [0.21562476 0.62707677 0.33281046]\n",
      " [0.60439831 0.83184929 0.6030296 ]\n",
      " [0.44745354 0.74985006 0.49413815]]\n"
     ]
    },
    {
     "data": {
      "text/plain": "<Figure size 640x480 with 1 Axes>",
      "image/png": "[encoded data removed]"
     },
     "metadata": {},
     "output_type": "display_data"
    }
   ],
   "source": [
    "# plt.figure(figsize=(16,8))\n",
    "sns.set(style=\"whitegrid\",color_codes=True)\n",
    "\n",
    "dataCount = allDataset.groupby(\"Intent\").size()\n",
    "\n",
    "pal = sns.color_palette(\"Greens_d\", len(dataCount))\n",
    "\n",
    "print(\"pal: \",pal)\n",
    "rank = dataCount.argsort()\n",
    "proper = rank.argsort()\n",
    "aray =np.array(pal)\n",
    "print(aray)\n",
    "print(\"proper \", proper)\n",
    "print(aray[proper])\n",
    "ax = sns.barplot(x=dataCount.index.tolist(), y=dataCount.values.tolist(), palette=aray[proper])\n",
    "ax.set_xticklabels(ax.get_xticklabels(), rotation=40)\n",
    "plt.show()"
   ],
   "metadata": {
    "collapsed": false,
    "pycharm": {
     "name": "#%%\n"
    }
   }
  },
  {
   "cell_type": "code",
   "execution_count": 37,
   "outputs": [
    {
     "name": "stdout",
     "output_type": "stream",
     "text": [
      "Total Sentence length:  8153\n"
     ]
    }
   ],
   "source": [
    "# Find Total\n",
    "print(\"Total Sentence length: \", allDataset.Question.count())"
   ],
   "metadata": {
    "collapsed": false,
    "pycharm": {
     "name": "#%%\n"
    }
   }
  },
  {
   "cell_type": "markdown",
   "source": [
    "## Check amount of entities as well as for any errors"
   ],
   "metadata": {
    "collapsed": false,
    "pycharm": {
     "name": "#%% md\n"
    }
   }
  },
  {
   "cell_type": "code",
   "execution_count": 38,
   "outputs": [],
   "source": [
    "entityDataFrame = pd.read_csv(\"all_data/all_entity_dataset.csv\")\n",
    "entityFrame = pd.read_csv(\"Named Entity.csv\")"
   ],
   "metadata": {
    "collapsed": false,
    "pycharm": {
     "name": "#%%\n"
    }
   }
  },
  {
   "cell_type": "markdown",
   "source": [],
   "metadata": {
    "collapsed": false,
    "pycharm": {
     "name": "#%% md\n"
    }
   }
  },
  {
   "cell_type": "code",
   "execution_count": 39,
   "outputs": [
    {
     "name": "stdout",
     "output_type": "stream",
     "text": [
      "<class 'pandas.core.frame.DataFrame'>\n",
      "RangeIndex: 15 entries, 0 to 14\n",
      "Data columns (total 3 columns):\n",
      " #   Column        Non-Null Count  Dtype \n",
      "---  ------        --------------  ----- \n",
      " 0   Named Entity  15 non-null     object\n",
      " 1   NE Code       15 non-null     object\n",
      " 2   Remarks       14 non-null     object\n",
      "dtypes: object(3)\n",
      "memory usage: 488.0+ bytes\n"
     ]
    }
   ],
   "source": [
    "entityFrame.info()"
   ],
   "metadata": {
    "collapsed": false,
    "pycharm": {
     "name": "#%%\n"
    }
   }
  },
  {
   "cell_type": "markdown",
   "source": [],
   "metadata": {
    "collapsed": false,
    "pycharm": {
     "name": "#%% md\n"
    }
   }
  },
  {
   "cell_type": "code",
   "execution_count": 40,
   "outputs": [],
   "source": [
    "# Remove white space from column name and apply it to csv file\n",
    "# entityFrame = entityFrame.rename(columns={entityFrame.columns.values[1]: \"Question\"})\n",
    "# entityFrame.to_csv(\"Named Entity.csv\")"
   ],
   "metadata": {
    "collapsed": false,
    "pycharm": {
     "name": "#%%\n"
    }
   }
  },
  {
   "cell_type": "code",
   "execution_count": 41,
   "outputs": [
    {
     "ename": "KeyError",
     "evalue": "'NE Code'",
     "output_type": "error",
     "traceback": [
      "\u001B[1;31m---------------------------------------------------------------------------\u001B[0m",
      "\u001B[1;31mKeyError\u001B[0m                                  Traceback (most recent call last)",
      "\u001B[1;32mC:\\tools\\Anaconda\\envs\\venv\\lib\\site-packages\\pandas\\core\\indexes\\base.py\u001B[0m in \u001B[0;36mget_loc\u001B[1;34m(self, key, method, tolerance)\u001B[0m\n\u001B[0;32m   3360\u001B[0m             \u001B[1;32mtry\u001B[0m\u001B[1;33m:\u001B[0m\u001B[1;33m\u001B[0m\u001B[1;33m\u001B[0m\u001B[0m\n\u001B[1;32m-> 3361\u001B[1;33m                 \u001B[1;32mreturn\u001B[0m \u001B[0mself\u001B[0m\u001B[1;33m.\u001B[0m\u001B[0m_engine\u001B[0m\u001B[1;33m.\u001B[0m\u001B[0mget_loc\u001B[0m\u001B[1;33m(\u001B[0m\u001B[0mcasted_key\u001B[0m\u001B[1;33m)\u001B[0m\u001B[1;33m\u001B[0m\u001B[1;33m\u001B[0m\u001B[0m\n\u001B[0m\u001B[0;32m   3362\u001B[0m             \u001B[1;32mexcept\u001B[0m \u001B[0mKeyError\u001B[0m \u001B[1;32mas\u001B[0m \u001B[0merr\u001B[0m\u001B[1;33m:\u001B[0m\u001B[1;33m\u001B[0m\u001B[1;33m\u001B[0m\u001B[0m\n",
      "\u001B[1;32mC:\\tools\\Anaconda\\envs\\venv\\lib\\site-packages\\pandas\\_libs\\index.pyx\u001B[0m in \u001B[0;36mpandas._libs.index.IndexEngine.get_loc\u001B[1;34m()\u001B[0m\n",
      "\u001B[1;32mC:\\tools\\Anaconda\\envs\\venv\\lib\\site-packages\\pandas\\_libs\\index.pyx\u001B[0m in \u001B[0;36mpandas._libs.index.IndexEngine.get_loc\u001B[1;34m()\u001B[0m\n",
      "\u001B[1;32mpandas\\_libs\\hashtable_class_helper.pxi\u001B[0m in \u001B[0;36mpandas._libs.hashtable.PyObjectHashTable.get_item\u001B[1;34m()\u001B[0m\n",
      "\u001B[1;32mpandas\\_libs\\hashtable_class_helper.pxi\u001B[0m in \u001B[0;36mpandas._libs.hashtable.PyObjectHashTable.get_item\u001B[1;34m()\u001B[0m\n",
      "\u001B[1;31mKeyError\u001B[0m: 'NE Code'",
      "\nThe above exception was the direct cause of the following exception:\n",
      "\u001B[1;31mKeyError\u001B[0m                                  Traceback (most recent call last)",
      "\u001B[1;32m~\\AppData\\Local\\Temp\\ipykernel_20328\\862270445.py\u001B[0m in \u001B[0;36m<module>\u001B[1;34m\u001B[0m\n\u001B[0;32m      1\u001B[0m \u001B[0mmyDict\u001B[0m \u001B[1;33m=\u001B[0m \u001B[1;33m{\u001B[0m\u001B[1;33m}\u001B[0m\u001B[1;33m\u001B[0m\u001B[1;33m\u001B[0m\u001B[0m\n\u001B[1;32m----> 2\u001B[1;33m \u001B[0mentityTag\u001B[0m \u001B[1;33m=\u001B[0m \u001B[0mentityFrame\u001B[0m\u001B[1;33m[\u001B[0m\u001B[1;34m\"NE Code\"\u001B[0m\u001B[1;33m]\u001B[0m\u001B[1;33m.\u001B[0m\u001B[0mto_list\u001B[0m\u001B[1;33m(\u001B[0m\u001B[1;33m)\u001B[0m\u001B[1;33m\u001B[0m\u001B[1;33m\u001B[0m\u001B[0m\n\u001B[0m\u001B[0;32m      3\u001B[0m \u001B[0mentitySentences\u001B[0m \u001B[1;33m=\u001B[0m \u001B[0mentityDataFrame\u001B[0m\u001B[1;33m[\u001B[0m\u001B[1;34m\"Question\"\u001B[0m\u001B[1;33m]\u001B[0m\u001B[1;33m.\u001B[0m\u001B[0mto_list\u001B[0m\u001B[1;33m(\u001B[0m\u001B[1;33m)\u001B[0m\u001B[1;33m\u001B[0m\u001B[1;33m\u001B[0m\u001B[0m\n\u001B[0;32m      4\u001B[0m \u001B[1;33m\u001B[0m\u001B[0m\n\u001B[0;32m      5\u001B[0m \u001B[1;32mfor\u001B[0m \u001B[0mx\u001B[0m \u001B[1;32min\u001B[0m \u001B[0mentityTag\u001B[0m\u001B[1;33m:\u001B[0m\u001B[1;33m\u001B[0m\u001B[1;33m\u001B[0m\u001B[0m\n",
      "\u001B[1;32mC:\\tools\\Anaconda\\envs\\venv\\lib\\site-packages\\pandas\\core\\frame.py\u001B[0m in \u001B[0;36m__getitem__\u001B[1;34m(self, key)\u001B[0m\n\u001B[0;32m   3456\u001B[0m             \u001B[1;32mif\u001B[0m \u001B[0mself\u001B[0m\u001B[1;33m.\u001B[0m\u001B[0mcolumns\u001B[0m\u001B[1;33m.\u001B[0m\u001B[0mnlevels\u001B[0m \u001B[1;33m>\u001B[0m \u001B[1;36m1\u001B[0m\u001B[1;33m:\u001B[0m\u001B[1;33m\u001B[0m\u001B[1;33m\u001B[0m\u001B[0m\n\u001B[0;32m   3457\u001B[0m                 \u001B[1;32mreturn\u001B[0m \u001B[0mself\u001B[0m\u001B[1;33m.\u001B[0m\u001B[0m_getitem_multilevel\u001B[0m\u001B[1;33m(\u001B[0m\u001B[0mkey\u001B[0m\u001B[1;33m)\u001B[0m\u001B[1;33m\u001B[0m\u001B[1;33m\u001B[0m\u001B[0m\n\u001B[1;32m-> 3458\u001B[1;33m             \u001B[0mindexer\u001B[0m \u001B[1;33m=\u001B[0m \u001B[0mself\u001B[0m\u001B[1;33m.\u001B[0m\u001B[0mcolumns\u001B[0m\u001B[1;33m.\u001B[0m\u001B[0mget_loc\u001B[0m\u001B[1;33m(\u001B[0m\u001B[0mkey\u001B[0m\u001B[1;33m)\u001B[0m\u001B[1;33m\u001B[0m\u001B[1;33m\u001B[0m\u001B[0m\n\u001B[0m\u001B[0;32m   3459\u001B[0m             \u001B[1;32mif\u001B[0m \u001B[0mis_integer\u001B[0m\u001B[1;33m(\u001B[0m\u001B[0mindexer\u001B[0m\u001B[1;33m)\u001B[0m\u001B[1;33m:\u001B[0m\u001B[1;33m\u001B[0m\u001B[1;33m\u001B[0m\u001B[0m\n\u001B[0;32m   3460\u001B[0m                 \u001B[0mindexer\u001B[0m \u001B[1;33m=\u001B[0m \u001B[1;33m[\u001B[0m\u001B[0mindexer\u001B[0m\u001B[1;33m]\u001B[0m\u001B[1;33m\u001B[0m\u001B[1;33m\u001B[0m\u001B[0m\n",
      "\u001B[1;32mC:\\tools\\Anaconda\\envs\\venv\\lib\\site-packages\\pandas\\core\\indexes\\base.py\u001B[0m in \u001B[0;36mget_loc\u001B[1;34m(self, key, method, tolerance)\u001B[0m\n\u001B[0;32m   3361\u001B[0m                 \u001B[1;32mreturn\u001B[0m \u001B[0mself\u001B[0m\u001B[1;33m.\u001B[0m\u001B[0m_engine\u001B[0m\u001B[1;33m.\u001B[0m\u001B[0mget_loc\u001B[0m\u001B[1;33m(\u001B[0m\u001B[0mcasted_key\u001B[0m\u001B[1;33m)\u001B[0m\u001B[1;33m\u001B[0m\u001B[1;33m\u001B[0m\u001B[0m\n\u001B[0;32m   3362\u001B[0m             \u001B[1;32mexcept\u001B[0m \u001B[0mKeyError\u001B[0m \u001B[1;32mas\u001B[0m \u001B[0merr\u001B[0m\u001B[1;33m:\u001B[0m\u001B[1;33m\u001B[0m\u001B[1;33m\u001B[0m\u001B[0m\n\u001B[1;32m-> 3363\u001B[1;33m                 \u001B[1;32mraise\u001B[0m \u001B[0mKeyError\u001B[0m\u001B[1;33m(\u001B[0m\u001B[0mkey\u001B[0m\u001B[1;33m)\u001B[0m \u001B[1;32mfrom\u001B[0m \u001B[0merr\u001B[0m\u001B[1;33m\u001B[0m\u001B[1;33m\u001B[0m\u001B[0m\n\u001B[0m\u001B[0;32m   3364\u001B[0m \u001B[1;33m\u001B[0m\u001B[0m\n\u001B[0;32m   3365\u001B[0m         \u001B[1;32mif\u001B[0m \u001B[0mis_scalar\u001B[0m\u001B[1;33m(\u001B[0m\u001B[0mkey\u001B[0m\u001B[1;33m)\u001B[0m \u001B[1;32mand\u001B[0m \u001B[0misna\u001B[0m\u001B[1;33m(\u001B[0m\u001B[0mkey\u001B[0m\u001B[1;33m)\u001B[0m \u001B[1;32mand\u001B[0m \u001B[1;32mnot\u001B[0m \u001B[0mself\u001B[0m\u001B[1;33m.\u001B[0m\u001B[0mhasnans\u001B[0m\u001B[1;33m:\u001B[0m\u001B[1;33m\u001B[0m\u001B[1;33m\u001B[0m\u001B[0m\n",
      "\u001B[1;31mKeyError\u001B[0m: 'NE Code'"
     ]
    }
   ],
   "source": [
    "myDict = {}\n",
    "entityTag = entityFrame[\"NE Code\"].to_list()\n",
    "entitySentences = entityDataFrame[\"Question\"].to_list()\n",
    "\n",
    "for x in entityTag:\n",
    "    count = 0\n",
    "    for j in entitySentences:\n",
    "        sentence = j.split()\n",
    "        for c in range(len(sentence)):\n",
    "            # Matches /B-Word until space\n",
    "            if re.search(r\"/B-{}\\w*\".format(x), sentence[c]):\n",
    "                count += 1\n",
    "                split = sentence[c].rsplit(\"/B-\", maxsplit=1)[1]\n",
    "                myDict.update({split: count})\n",
    "\n",
    "entityAmount = pd.DataFrame(myDict.items(), columns=[\"Intent\", \"Amount\"])\n",
    "# entityAmount\n",
    "myDict"
   ],
   "metadata": {
    "collapsed": false,
    "pycharm": {
     "name": "#%%\n"
    }
   }
  },
  {
   "cell_type": "code",
   "execution_count": null,
   "outputs": [],
   "source": [
    "## Calculate the percentage\n",
    "\n",
    "# Sum of Intent\n",
    "totalIntentTag = sum(myDict[x] for x in myDict)\n",
    "rise = [\"{0:.2f}%\".format(myDict[x] * 100 / totalIntentTag) for x in myDict]\n",
    "\n",
    "# array = np.asarray(rise)\n",
    "#\n",
    "# arrayV2 = np.fromiter((\"{0:.2f}%\".format(myDict[x]*100/totalIntentTag) for x in myDict), dtype=str)\n",
    "\n",
    "entityAmount[\"Percentage\"] = rise\n",
    "entityAmount"
   ],
   "metadata": {
    "collapsed": false,
    "pycharm": {
     "name": "#%%\n"
    }
   }
  },
  {
   "cell_type": "markdown",
   "source": [
    "## Count each word occurence"
   ],
   "metadata": {
    "collapsed": false,
    "pycharm": {
     "name": "#%% md\n"
    }
   }
  },
  {
   "cell_type": "code",
   "execution_count": null,
   "outputs": [],
   "source": [],
   "metadata": {
    "collapsed": false,
    "pycharm": {
     "name": "#%%\n"
    }
   }
  },
  {
   "cell_type": "markdown",
   "source": [
    "## Find Different sentence length"
   ],
   "metadata": {
    "collapsed": false,
    "pycharm": {
     "name": "#%% md\n"
    }
   }
  },
  {
   "cell_type": "code",
   "execution_count": null,
   "outputs": [],
   "source": [
    "segmentData = pd.read_csv(\"all_data/all_segment_dataset.csv\")\n",
    "posData = pd.read_csv(\"all_data/all_pos_dataset.csv\")\n",
    "posData.drop(columns=[\"Intent\"], inplace=True)\n",
    "posData.rename(columns={\"Intents\": \"Intent\"}, inplace=True)\n",
    "\n",
    "different_length = [1 if len(str(input)) != len(str(output)) else 0 for input, output in\n",
    "                    zip(segmentData[\"Question\"].tolist(), posData[\"Question\"].tolist())]\n",
    "print(\"{} sentences have different length.\".format(sum(different_length)))"
   ],
   "metadata": {
    "collapsed": false,
    "pycharm": {
     "name": "#%%\n"
    }
   }
  },
  {
   "cell_type": "code",
   "execution_count": null,
   "outputs": [],
   "source": [],
   "metadata": {
    "collapsed": false,
    "pycharm": {
     "name": "#%%\n"
    }
   }
  },
  {
   "cell_type": "code",
   "execution_count": null,
   "outputs": [],
   "source": [
    "mydict = {}\n",
    "mydict.update({\"intent\": 1})"
   ],
   "metadata": {
    "collapsed": false,
    "pycharm": {
     "name": "#%%\n"
    }
   }
  },
  {
   "cell_type": "code",
   "execution_count": null,
   "outputs": [],
   "source": [],
   "metadata": {
    "collapsed": false,
    "pycharm": {
     "name": "#%%\n"
    }
   }
  }
 ],
 "metadata": {
  "kernelspec": {
   "display_name": "Python 3",
   "language": "python",
   "name": "python3"
  },
  "language_info": {
   "codemirror_mode": {
    "name": "ipython",
    "version": 2
   },
   "file_extension": ".py",
   "mimetype": "text/x-python",
   "name": "python",
   "nbconvert_exporter": "python",
   "pygments_lexer": "ipython2",
   "version": "2.7.6"
  }
 },
 "nbformat": 4,
 "nbformat_minor": 0
}