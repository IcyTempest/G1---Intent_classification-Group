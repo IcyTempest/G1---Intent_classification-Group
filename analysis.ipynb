{
 "cells": [
  {
   "cell_type": "code",
   "execution_count": 2,
   "metadata": {
    "collapsed": false,
    "pycharm": {
     "name": "#%%\n"
    }
   },
   "outputs": [],
   "source": [
    "import re\n",
    "\n",
    "import pandas as pd\n",
    "import numpy as np\n",
    "import os\n",
    "\n",
    "import seaborn as sns\n",
    "from matplotlib import pyplot as plt\n"
   ]
  },
  {
   "cell_type": "markdown",
   "metadata": {
    "collapsed": false,
    "pycharm": {
     "name": "#%% md\n"
    }
   },
   "source": [
    "## Concatenate Dataset into one File"
   ]
  },
  {
   "cell_type": "code",
   "execution_count": 3,
   "metadata": {
    "collapsed": false,
    "pycharm": {
     "name": "#%%\n"
    }
   },
   "outputs": [],
   "source": [
    "from typing import List, Dict\n",
    "\n",
    "\n",
    "def eraseSpace(directory: str):\n",
    "    files = getFileNameFromDir(direc=directory)\n",
    "    for file in files:\n",
    "        realFile = open(\"{}/{}\".format(directory, file), mode=\"r\", encoding=\"UTF-8\")\n",
    "        data = [f for f in realFile if f.strip()]\n",
    "        realFile.close()\n",
    "        realFile = open(\"{}/{}\".format(directory, file), mode=\"w\", encoding=\"UTF-8\")\n",
    "        realFile.writelines(data)\n",
    "        realFile.close()\n",
    "\n",
    "\n",
    "def getFileNameFromDir(direc: str) -> List[str]:\n",
    "    return [f for f in os.listdir(\"{}/\".format(direc))]\n",
    "\n",
    "\n",
    "def restructureFile(direcToScan: str, f: str):\n",
    "    data = pd.read_csv(\"{}/{}\".format(direcToScan, f), encoding=\"UTF-8\")\n",
    "    data.rename(columns=({\"Questions\": \"Question\", \"Intents\": \"Intent\"}), inplace=True)\n",
    "    print(f)\n",
    "    data[\"Question\"].dropna(inplace=True)\n",
    "    if data.isnull().any().any():\n",
    "        print(data.columns())\n",
    "        print(data.isna().sum())\n",
    "        print(data.head())\n",
    "\n",
    "    data.to_csv(\"{}/{}\".format(direcToScan, f), encoding=\"UTF-8\", index=False)\n",
    "    return data\n",
    "\n",
    "\n",
    "def myConcat(direcToScan: str, outputFilename: str, outputDirec: str = \"all_data\"):\n",
    "    files = getFileNameFromDir(direc=direcToScan)\n",
    "\n",
    "    datasets = pd.concat([restructureFile(direcToScan=direcToScan, f=f) for f in files], axis=0, ignore_index=True)\n",
    "\n",
    "    datasets.to_csv(\"{}/{}.csv\".format(outputDirec, outputFilename), index=False)"
   ]
  },
  {
   "cell_type": "code",
   "execution_count": 5,
   "metadata": {
    "collapsed": false,
    "pycharm": {
     "name": "#%%\n"
    }
   },
   "outputs": [
    {
     "name": "stdout",
     "output_type": "stream",
     "text": [
      "AskAboutAcademicFee.csv\n",
      "AskAboutAge.csv\n",
      "AskAboutClubInfo.csv\n",
      "AskAboutCompetition.csv\n",
      "AskAboutCS_CourseInEachGen.csv\n",
      "AskAboutEC_CourseInEachGen.csv\n",
      "AskAboutEnrollmentRequirement.csv\n",
      "AskAboutInterest.csv\n",
      "AskAboutLocation.csv\n",
      "AskAboutMinistry.csv\n",
      "AskAboutParkingPrice.csv\n",
      "AskAboutProvince.csv\n",
      "AskAboutRegisterDate.csv\n"
     ]
    },
    {
     "ename": "KeyError",
     "evalue": "'Question'",
     "output_type": "error",
     "traceback": [
      "\u001b[1;31m---------------------------------------------------------------------------\u001b[0m",
      "\u001b[1;31mKeyError\u001b[0m                                  Traceback (most recent call last)",
      "\u001b[1;32mC:\\tools\\Anaconda\\envs\\venv\\lib\\site-packages\\pandas\\core\\indexes\\base.py\u001b[0m in \u001b[0;36mget_loc\u001b[1;34m(self, key, method, tolerance)\u001b[0m\n\u001b[0;32m   3360\u001b[0m             \u001b[1;32mtry\u001b[0m\u001b[1;33m:\u001b[0m\u001b[1;33m\u001b[0m\u001b[1;33m\u001b[0m\u001b[0m\n\u001b[1;32m-> 3361\u001b[1;33m                 \u001b[1;32mreturn\u001b[0m \u001b[0mself\u001b[0m\u001b[1;33m.\u001b[0m\u001b[0m_engine\u001b[0m\u001b[1;33m.\u001b[0m\u001b[0mget_loc\u001b[0m\u001b[1;33m(\u001b[0m\u001b[0mcasted_key\u001b[0m\u001b[1;33m)\u001b[0m\u001b[1;33m\u001b[0m\u001b[1;33m\u001b[0m\u001b[0m\n\u001b[0m\u001b[0;32m   3362\u001b[0m             \u001b[1;32mexcept\u001b[0m \u001b[0mKeyError\u001b[0m \u001b[1;32mas\u001b[0m \u001b[0merr\u001b[0m\u001b[1;33m:\u001b[0m\u001b[1;33m\u001b[0m\u001b[1;33m\u001b[0m\u001b[0m\n",
      "\u001b[1;32mC:\\tools\\Anaconda\\envs\\venv\\lib\\site-packages\\pandas\\_libs\\index.pyx\u001b[0m in \u001b[0;36mpandas._libs.index.IndexEngine.get_loc\u001b[1;34m()\u001b[0m\n",
      "\u001b[1;32mC:\\tools\\Anaconda\\envs\\venv\\lib\\site-packages\\pandas\\_libs\\index.pyx\u001b[0m in \u001b[0;36mpandas._libs.index.IndexEngine.get_loc\u001b[1;34m()\u001b[0m\n",
      "\u001b[1;32mpandas\\_libs\\hashtable_class_helper.pxi\u001b[0m in \u001b[0;36mpandas._libs.hashtable.PyObjectHashTable.get_item\u001b[1;34m()\u001b[0m\n",
      "\u001b[1;32mpandas\\_libs\\hashtable_class_helper.pxi\u001b[0m in \u001b[0;36mpandas._libs.hashtable.PyObjectHashTable.get_item\u001b[1;34m()\u001b[0m\n",
      "\u001b[1;31mKeyError\u001b[0m: 'Question'",
      "\nThe above exception was the direct cause of the following exception:\n",
      "\u001b[1;31mKeyError\u001b[0m                                  Traceback (most recent call last)",
      "\u001b[1;32m~\\AppData\\Local\\Temp\\ipykernel_2852\\3111890849.py\u001b[0m in \u001b[0;36m<module>\u001b[1;34m\u001b[0m\n\u001b[0;32m      1\u001b[0m \u001b[1;31m## Concatenate All Dataset into one File\u001b[0m\u001b[1;33m\u001b[0m\u001b[1;33m\u001b[0m\u001b[1;33m\u001b[0m\u001b[0m\n\u001b[1;32m----> 2\u001b[1;33m \u001b[0mmyConcat\u001b[0m\u001b[1;33m(\u001b[0m\u001b[0mdirecToScan\u001b[0m\u001b[1;33m=\u001b[0m\u001b[1;34m\"datasets\"\u001b[0m\u001b[1;33m,\u001b[0m \u001b[0moutputFilename\u001b[0m\u001b[1;33m=\u001b[0m\u001b[1;34m\"all_data_dataset\"\u001b[0m\u001b[1;33m)\u001b[0m\u001b[1;33m\u001b[0m\u001b[1;33m\u001b[0m\u001b[0m\n\u001b[0m\u001b[0;32m      3\u001b[0m \u001b[1;33m\u001b[0m\u001b[0m\n\u001b[0;32m      4\u001b[0m \u001b[1;31m## Concatenate All Entity-tag Dataset into one File\u001b[0m\u001b[1;33m\u001b[0m\u001b[1;33m\u001b[0m\u001b[1;33m\u001b[0m\u001b[0m\n\u001b[0;32m      5\u001b[0m \u001b[0mmyConcat\u001b[0m\u001b[1;33m(\u001b[0m\u001b[0mdirecToScan\u001b[0m\u001b[1;33m=\u001b[0m\u001b[1;34m\"entity-tag\"\u001b[0m\u001b[1;33m,\u001b[0m \u001b[0moutputFilename\u001b[0m\u001b[1;33m=\u001b[0m\u001b[1;34m\"all_entity_dataset\"\u001b[0m\u001b[1;33m)\u001b[0m\u001b[1;33m\u001b[0m\u001b[1;33m\u001b[0m\u001b[0m\n",
      "\u001b[1;32m~\\AppData\\Local\\Temp\\ipykernel_2852\\2312264596.py\u001b[0m in \u001b[0;36mmyConcat\u001b[1;34m(direcToScan, outputFilename, outputDirec)\u001b[0m\n\u001b[0;32m     34\u001b[0m     \u001b[0mfiles\u001b[0m \u001b[1;33m=\u001b[0m \u001b[0mgetFileNameFromDir\u001b[0m\u001b[1;33m(\u001b[0m\u001b[0mdirec\u001b[0m\u001b[1;33m=\u001b[0m\u001b[0mdirecToScan\u001b[0m\u001b[1;33m)\u001b[0m\u001b[1;33m\u001b[0m\u001b[1;33m\u001b[0m\u001b[0m\n\u001b[0;32m     35\u001b[0m \u001b[1;33m\u001b[0m\u001b[0m\n\u001b[1;32m---> 36\u001b[1;33m     \u001b[0mdatasets\u001b[0m \u001b[1;33m=\u001b[0m \u001b[0mpd\u001b[0m\u001b[1;33m.\u001b[0m\u001b[0mconcat\u001b[0m\u001b[1;33m(\u001b[0m\u001b[1;33m[\u001b[0m\u001b[0mrestructureFile\u001b[0m\u001b[1;33m(\u001b[0m\u001b[0mdirecToScan\u001b[0m\u001b[1;33m=\u001b[0m\u001b[0mdirecToScan\u001b[0m\u001b[1;33m,\u001b[0m \u001b[0mf\u001b[0m\u001b[1;33m=\u001b[0m\u001b[0mf\u001b[0m\u001b[1;33m)\u001b[0m \u001b[1;32mfor\u001b[0m \u001b[0mf\u001b[0m \u001b[1;32min\u001b[0m \u001b[0mfiles\u001b[0m\u001b[1;33m]\u001b[0m\u001b[1;33m,\u001b[0m \u001b[0maxis\u001b[0m\u001b[1;33m=\u001b[0m\u001b[1;36m0\u001b[0m\u001b[1;33m,\u001b[0m \u001b[0mignore_index\u001b[0m\u001b[1;33m=\u001b[0m\u001b[1;32mTrue\u001b[0m\u001b[1;33m)\u001b[0m\u001b[1;33m\u001b[0m\u001b[1;33m\u001b[0m\u001b[0m\n\u001b[0m\u001b[0;32m     37\u001b[0m \u001b[1;33m\u001b[0m\u001b[0m\n\u001b[0;32m     38\u001b[0m     \u001b[0mdatasets\u001b[0m\u001b[1;33m.\u001b[0m\u001b[0mto_csv\u001b[0m\u001b[1;33m(\u001b[0m\u001b[1;34m\"{}/{}.csv\"\u001b[0m\u001b[1;33m.\u001b[0m\u001b[0mformat\u001b[0m\u001b[1;33m(\u001b[0m\u001b[0moutputDirec\u001b[0m\u001b[1;33m,\u001b[0m \u001b[0moutputFilename\u001b[0m\u001b[1;33m)\u001b[0m\u001b[1;33m,\u001b[0m \u001b[0mindex\u001b[0m\u001b[1;33m=\u001b[0m\u001b[1;32mFalse\u001b[0m\u001b[1;33m)\u001b[0m\u001b[1;33m\u001b[0m\u001b[1;33m\u001b[0m\u001b[0m\n",
      "\u001b[1;32m~\\AppData\\Local\\Temp\\ipykernel_2852\\2312264596.py\u001b[0m in \u001b[0;36m<listcomp>\u001b[1;34m(.0)\u001b[0m\n\u001b[0;32m     34\u001b[0m     \u001b[0mfiles\u001b[0m \u001b[1;33m=\u001b[0m \u001b[0mgetFileNameFromDir\u001b[0m\u001b[1;33m(\u001b[0m\u001b[0mdirec\u001b[0m\u001b[1;33m=\u001b[0m\u001b[0mdirecToScan\u001b[0m\u001b[1;33m)\u001b[0m\u001b[1;33m\u001b[0m\u001b[1;33m\u001b[0m\u001b[0m\n\u001b[0;32m     35\u001b[0m \u001b[1;33m\u001b[0m\u001b[0m\n\u001b[1;32m---> 36\u001b[1;33m     \u001b[0mdatasets\u001b[0m \u001b[1;33m=\u001b[0m \u001b[0mpd\u001b[0m\u001b[1;33m.\u001b[0m\u001b[0mconcat\u001b[0m\u001b[1;33m(\u001b[0m\u001b[1;33m[\u001b[0m\u001b[0mrestructureFile\u001b[0m\u001b[1;33m(\u001b[0m\u001b[0mdirecToScan\u001b[0m\u001b[1;33m=\u001b[0m\u001b[0mdirecToScan\u001b[0m\u001b[1;33m,\u001b[0m \u001b[0mf\u001b[0m\u001b[1;33m=\u001b[0m\u001b[0mf\u001b[0m\u001b[1;33m)\u001b[0m \u001b[1;32mfor\u001b[0m \u001b[0mf\u001b[0m \u001b[1;32min\u001b[0m \u001b[0mfiles\u001b[0m\u001b[1;33m]\u001b[0m\u001b[1;33m,\u001b[0m \u001b[0maxis\u001b[0m\u001b[1;33m=\u001b[0m\u001b[1;36m0\u001b[0m\u001b[1;33m,\u001b[0m \u001b[0mignore_index\u001b[0m\u001b[1;33m=\u001b[0m\u001b[1;32mTrue\u001b[0m\u001b[1;33m)\u001b[0m\u001b[1;33m\u001b[0m\u001b[1;33m\u001b[0m\u001b[0m\n\u001b[0m\u001b[0;32m     37\u001b[0m \u001b[1;33m\u001b[0m\u001b[0m\n\u001b[0;32m     38\u001b[0m     \u001b[0mdatasets\u001b[0m\u001b[1;33m.\u001b[0m\u001b[0mto_csv\u001b[0m\u001b[1;33m(\u001b[0m\u001b[1;34m\"{}/{}.csv\"\u001b[0m\u001b[1;33m.\u001b[0m\u001b[0mformat\u001b[0m\u001b[1;33m(\u001b[0m\u001b[0moutputDirec\u001b[0m\u001b[1;33m,\u001b[0m \u001b[0moutputFilename\u001b[0m\u001b[1;33m)\u001b[0m\u001b[1;33m,\u001b[0m \u001b[0mindex\u001b[0m\u001b[1;33m=\u001b[0m\u001b[1;32mFalse\u001b[0m\u001b[1;33m)\u001b[0m\u001b[1;33m\u001b[0m\u001b[1;33m\u001b[0m\u001b[0m\n",
      "\u001b[1;32m~\\AppData\\Local\\Temp\\ipykernel_2852\\2312264596.py\u001b[0m in \u001b[0;36mrestructureFile\u001b[1;34m(direcToScan, f)\u001b[0m\n\u001b[0;32m     21\u001b[0m     \u001b[0mdata\u001b[0m\u001b[1;33m.\u001b[0m\u001b[0mrename\u001b[0m\u001b[1;33m(\u001b[0m\u001b[0mcolumns\u001b[0m\u001b[1;33m=\u001b[0m\u001b[1;33m(\u001b[0m\u001b[1;33m{\u001b[0m\u001b[1;34m\"Questions\"\u001b[0m\u001b[1;33m:\u001b[0m \u001b[1;34m\"Question\"\u001b[0m\u001b[1;33m,\u001b[0m \u001b[1;34m\"Intents\"\u001b[0m\u001b[1;33m:\u001b[0m \u001b[1;34m\"Intent\"\u001b[0m\u001b[1;33m}\u001b[0m\u001b[1;33m)\u001b[0m\u001b[1;33m,\u001b[0m \u001b[0minplace\u001b[0m\u001b[1;33m=\u001b[0m\u001b[1;32mTrue\u001b[0m\u001b[1;33m)\u001b[0m\u001b[1;33m\u001b[0m\u001b[1;33m\u001b[0m\u001b[0m\n\u001b[0;32m     22\u001b[0m     \u001b[0mprint\u001b[0m\u001b[1;33m(\u001b[0m\u001b[0mf\u001b[0m\u001b[1;33m)\u001b[0m\u001b[1;33m\u001b[0m\u001b[1;33m\u001b[0m\u001b[0m\n\u001b[1;32m---> 23\u001b[1;33m     \u001b[0mdata\u001b[0m\u001b[1;33m[\u001b[0m\u001b[1;34m\"Question\"\u001b[0m\u001b[1;33m]\u001b[0m\u001b[1;33m.\u001b[0m\u001b[0mdropna\u001b[0m\u001b[1;33m(\u001b[0m\u001b[0minplace\u001b[0m\u001b[1;33m=\u001b[0m\u001b[1;32mTrue\u001b[0m\u001b[1;33m)\u001b[0m\u001b[1;33m\u001b[0m\u001b[1;33m\u001b[0m\u001b[0m\n\u001b[0m\u001b[0;32m     24\u001b[0m     \u001b[1;32mif\u001b[0m \u001b[0mdata\u001b[0m\u001b[1;33m.\u001b[0m\u001b[0misnull\u001b[0m\u001b[1;33m(\u001b[0m\u001b[1;33m)\u001b[0m\u001b[1;33m.\u001b[0m\u001b[0many\u001b[0m\u001b[1;33m(\u001b[0m\u001b[1;33m)\u001b[0m\u001b[1;33m.\u001b[0m\u001b[0many\u001b[0m\u001b[1;33m(\u001b[0m\u001b[1;33m)\u001b[0m\u001b[1;33m:\u001b[0m\u001b[1;33m\u001b[0m\u001b[1;33m\u001b[0m\u001b[0m\n\u001b[0;32m     25\u001b[0m         \u001b[0mprint\u001b[0m\u001b[1;33m(\u001b[0m\u001b[0mdata\u001b[0m\u001b[1;33m.\u001b[0m\u001b[0mcolumns\u001b[0m\u001b[1;33m(\u001b[0m\u001b[1;33m)\u001b[0m\u001b[1;33m)\u001b[0m\u001b[1;33m\u001b[0m\u001b[1;33m\u001b[0m\u001b[0m\n",
      "\u001b[1;32mC:\\tools\\Anaconda\\envs\\venv\\lib\\site-packages\\pandas\\core\\frame.py\u001b[0m in \u001b[0;36m__getitem__\u001b[1;34m(self, key)\u001b[0m\n\u001b[0;32m   3456\u001b[0m             \u001b[1;32mif\u001b[0m \u001b[0mself\u001b[0m\u001b[1;33m.\u001b[0m\u001b[0mcolumns\u001b[0m\u001b[1;33m.\u001b[0m\u001b[0mnlevels\u001b[0m \u001b[1;33m>\u001b[0m \u001b[1;36m1\u001b[0m\u001b[1;33m:\u001b[0m\u001b[1;33m\u001b[0m\u001b[1;33m\u001b[0m\u001b[0m\n\u001b[0;32m   3457\u001b[0m                 \u001b[1;32mreturn\u001b[0m \u001b[0mself\u001b[0m\u001b[1;33m.\u001b[0m\u001b[0m_getitem_multilevel\u001b[0m\u001b[1;33m(\u001b[0m\u001b[0mkey\u001b[0m\u001b[1;33m)\u001b[0m\u001b[1;33m\u001b[0m\u001b[1;33m\u001b[0m\u001b[0m\n\u001b[1;32m-> 3458\u001b[1;33m             \u001b[0mindexer\u001b[0m \u001b[1;33m=\u001b[0m \u001b[0mself\u001b[0m\u001b[1;33m.\u001b[0m\u001b[0mcolumns\u001b[0m\u001b[1;33m.\u001b[0m\u001b[0mget_loc\u001b[0m\u001b[1;33m(\u001b[0m\u001b[0mkey\u001b[0m\u001b[1;33m)\u001b[0m\u001b[1;33m\u001b[0m\u001b[1;33m\u001b[0m\u001b[0m\n\u001b[0m\u001b[0;32m   3459\u001b[0m             \u001b[1;32mif\u001b[0m \u001b[0mis_integer\u001b[0m\u001b[1;33m(\u001b[0m\u001b[0mindexer\u001b[0m\u001b[1;33m)\u001b[0m\u001b[1;33m:\u001b[0m\u001b[1;33m\u001b[0m\u001b[1;33m\u001b[0m\u001b[0m\n\u001b[0;32m   3460\u001b[0m                 \u001b[0mindexer\u001b[0m \u001b[1;33m=\u001b[0m \u001b[1;33m[\u001b[0m\u001b[0mindexer\u001b[0m\u001b[1;33m]\u001b[0m\u001b[1;33m\u001b[0m\u001b[1;33m\u001b[0m\u001b[0m\n",
      "\u001b[1;32mC:\\tools\\Anaconda\\envs\\venv\\lib\\site-packages\\pandas\\core\\indexes\\base.py\u001b[0m in \u001b[0;36mget_loc\u001b[1;34m(self, key, method, tolerance)\u001b[0m\n\u001b[0;32m   3361\u001b[0m                 \u001b[1;32mreturn\u001b[0m \u001b[0mself\u001b[0m\u001b[1;33m.\u001b[0m\u001b[0m_engine\u001b[0m\u001b[1;33m.\u001b[0m\u001b[0mget_loc\u001b[0m\u001b[1;33m(\u001b[0m\u001b[0mcasted_key\u001b[0m\u001b[1;33m)\u001b[0m\u001b[1;33m\u001b[0m\u001b[1;33m\u001b[0m\u001b[0m\n\u001b[0;32m   3362\u001b[0m             \u001b[1;32mexcept\u001b[0m \u001b[0mKeyError\u001b[0m \u001b[1;32mas\u001b[0m \u001b[0merr\u001b[0m\u001b[1;33m:\u001b[0m\u001b[1;33m\u001b[0m\u001b[1;33m\u001b[0m\u001b[0m\n\u001b[1;32m-> 3363\u001b[1;33m                 \u001b[1;32mraise\u001b[0m \u001b[0mKeyError\u001b[0m\u001b[1;33m(\u001b[0m\u001b[0mkey\u001b[0m\u001b[1;33m)\u001b[0m \u001b[1;32mfrom\u001b[0m \u001b[0merr\u001b[0m\u001b[1;33m\u001b[0m\u001b[1;33m\u001b[0m\u001b[0m\n\u001b[0m\u001b[0;32m   3364\u001b[0m \u001b[1;33m\u001b[0m\u001b[0m\n\u001b[0;32m   3365\u001b[0m         \u001b[1;32mif\u001b[0m \u001b[0mis_scalar\u001b[0m\u001b[1;33m(\u001b[0m\u001b[0mkey\u001b[0m\u001b[1;33m)\u001b[0m \u001b[1;32mand\u001b[0m \u001b[0misna\u001b[0m\u001b[1;33m(\u001b[0m\u001b[0mkey\u001b[0m\u001b[1;33m)\u001b[0m \u001b[1;32mand\u001b[0m \u001b[1;32mnot\u001b[0m \u001b[0mself\u001b[0m\u001b[1;33m.\u001b[0m\u001b[0mhasnans\u001b[0m\u001b[1;33m:\u001b[0m\u001b[1;33m\u001b[0m\u001b[1;33m\u001b[0m\u001b[0m\n",
      "\u001b[1;31mKeyError\u001b[0m: 'Question'"
     ]
    }
   ],
   "source": [
    "## Concatenate All Dataset into one File\n",
    "myConcat(direcToScan=\"datasets\", outputFilename=\"all_data_dataset\")\n",
    "\n",
    "## Concatenate All Entity-tag Dataset into one File\n",
    "myConcat(direcToScan=\"entity-tag\", outputFilename=\"all_entity_dataset\")\n",
    "\n",
    "## Concatenate All Segmentation Dataset into one File\n",
    "myConcat(direcToScan=\"segments\", outputFilename=\"all_segment_dataset\")\n",
    "\n",
    "## Concatenate All Segmentation Dataset into one File\n",
    "myConcat(direcToScan=\"POS/\", outputFilename=\"all_pos_dataset\")"
   ]
  },
  {
   "cell_type": "markdown",
   "metadata": {
    "collapsed": false,
    "pycharm": {
     "name": "#%% md\n"
    }
   },
   "source": [
    "## Erase blank from files"
   ]
  },
  {
   "cell_type": "code",
   "execution_count": 18,
   "metadata": {
    "collapsed": false,
    "pycharm": {
     "name": "#%%\n"
    }
   },
   "outputs": [
    {
     "name": "stdout",
     "output_type": "stream",
     "text": [
      "Success\n"
     ]
    }
   ],
   "source": [
    "try:\n",
    "    eraseSpace(directory=\"datasets\")\n",
    "    eraseSpace(directory=\"entity-tag\")\n",
    "    eraseSpace(directory=\"POS\")\n",
    "    eraseSpace(directory=\"segments\")\n",
    "    print(\"Success\")\n",
    "except:\n",
    "    print(\"fail\")\n"
   ]
  },
  {
   "cell_type": "markdown",
   "metadata": {
    "collapsed": false,
    "pycharm": {
     "name": "#%% md\n"
    }
   },
   "source": [
    "## Compare whether there's equal file or not"
   ]
  },
  {
   "cell_type": "code",
   "execution_count": 31,
   "metadata": {
    "collapsed": false,
    "pycharm": {
     "name": "#%%\n"
    }
   },
   "outputs": [
    {
     "name": "stdout",
     "output_type": "stream",
     "text": [
      "equal\n"
     ]
    }
   ],
   "source": [
    "data = getFileNameFromDir(\"datasets\")\n",
    "seg = getFileNameFromDir(\"segments\")\n",
    "pos = getFileNameFromDir(\"pos\")\n",
    "ent = getFileNameFromDir(\"entity-tag\")\n",
    "if len(data) != len(seg) != len(pos) != len(ent):\n",
    "    print(\"not equal\")\n",
    "    for x in zip(data, seg, pos, ent):\n",
    "        if data != seg!= pos != ent:\n",
    "            print(\"data: {} \".format(data))\n",
    "else:\n",
    "    print(\"equal\")"
   ]
  },
  {
   "cell_type": "markdown",
   "metadata": {
    "collapsed": false,
    "pycharm": {
     "name": "#%% md\n"
    }
   },
   "source": [
    "## Check for any null or space data"
   ]
  },
  {
   "cell_type": "code",
   "execution_count": 19,
   "metadata": {
    "collapsed": false,
    "pycharm": {
     "name": "#%%\n"
    }
   },
   "outputs": [
    {
     "name": "stdout",
     "output_type": "stream",
     "text": [
      "AskAboutRegisterDate.csv file of direc datasets have null at:\n"
     ]
    },
    {
     "ename": "KeyError",
     "evalue": "'Question'",
     "output_type": "error",
     "traceback": [
      "\u001b[1;31m---------------------------------------------------------------------------\u001b[0m",
      "\u001b[1;31mKeyError\u001b[0m                                  Traceback (most recent call last)",
      "\u001b[1;32mC:\\tools\\Anaconda\\envs\\venv\\lib\\site-packages\\pandas\\core\\indexes\\base.py\u001b[0m in \u001b[0;36mget_loc\u001b[1;34m(self, key, method, tolerance)\u001b[0m\n\u001b[0;32m   3360\u001b[0m             \u001b[1;32mtry\u001b[0m\u001b[1;33m:\u001b[0m\u001b[1;33m\u001b[0m\u001b[1;33m\u001b[0m\u001b[0m\n\u001b[1;32m-> 3361\u001b[1;33m                 \u001b[1;32mreturn\u001b[0m \u001b[0mself\u001b[0m\u001b[1;33m.\u001b[0m\u001b[0m_engine\u001b[0m\u001b[1;33m.\u001b[0m\u001b[0mget_loc\u001b[0m\u001b[1;33m(\u001b[0m\u001b[0mcasted_key\u001b[0m\u001b[1;33m)\u001b[0m\u001b[1;33m\u001b[0m\u001b[1;33m\u001b[0m\u001b[0m\n\u001b[0m\u001b[0;32m   3362\u001b[0m             \u001b[1;32mexcept\u001b[0m \u001b[0mKeyError\u001b[0m \u001b[1;32mas\u001b[0m \u001b[0merr\u001b[0m\u001b[1;33m:\u001b[0m\u001b[1;33m\u001b[0m\u001b[1;33m\u001b[0m\u001b[0m\n",
      "\u001b[1;32mC:\\tools\\Anaconda\\envs\\venv\\lib\\site-packages\\pandas\\_libs\\index.pyx\u001b[0m in \u001b[0;36mpandas._libs.index.IndexEngine.get_loc\u001b[1;34m()\u001b[0m\n",
      "\u001b[1;32mC:\\tools\\Anaconda\\envs\\venv\\lib\\site-packages\\pandas\\_libs\\index.pyx\u001b[0m in \u001b[0;36mpandas._libs.index.IndexEngine.get_loc\u001b[1;34m()\u001b[0m\n",
      "\u001b[1;32mpandas\\_libs\\hashtable_class_helper.pxi\u001b[0m in \u001b[0;36mpandas._libs.hashtable.PyObjectHashTable.get_item\u001b[1;34m()\u001b[0m\n",
      "\u001b[1;32mpandas\\_libs\\hashtable_class_helper.pxi\u001b[0m in \u001b[0;36mpandas._libs.hashtable.PyObjectHashTable.get_item\u001b[1;34m()\u001b[0m\n",
      "\u001b[1;31mKeyError\u001b[0m: 'Question'",
      "\nThe above exception was the direct cause of the following exception:\n",
      "\u001b[1;31mKeyError\u001b[0m                                  Traceback (most recent call last)",
      "\u001b[1;32m~\\AppData\\Local\\Temp\\ipykernel_3612\\410068893.py\u001b[0m in \u001b[0;36m<module>\u001b[1;34m\u001b[0m\n\u001b[0;32m     20\u001b[0m \u001b[1;33m\u001b[0m\u001b[0m\n\u001b[0;32m     21\u001b[0m \u001b[1;33m\u001b[0m\u001b[0m\n\u001b[1;32m---> 22\u001b[1;33m \u001b[0mcheckNullOrSpace\u001b[0m\u001b[1;33m(\u001b[0m\u001b[1;33m)\u001b[0m\u001b[1;33m\u001b[0m\u001b[1;33m\u001b[0m\u001b[0m\n\u001b[0m",
      "\u001b[1;32m~\\AppData\\Local\\Temp\\ipykernel_3612\\410068893.py\u001b[0m in \u001b[0;36mcheckNullOrSpace\u001b[1;34m()\u001b[0m\n\u001b[0;32m     13\u001b[0m             \u001b[1;32mif\u001b[0m \u001b[0mdata\u001b[0m\u001b[1;33m.\u001b[0m\u001b[0misnull\u001b[0m\u001b[1;33m(\u001b[0m\u001b[1;33m)\u001b[0m\u001b[1;33m.\u001b[0m\u001b[0many\u001b[0m\u001b[1;33m(\u001b[0m\u001b[1;33m)\u001b[0m\u001b[1;33m.\u001b[0m\u001b[0many\u001b[0m\u001b[1;33m(\u001b[0m\u001b[1;33m)\u001b[0m\u001b[1;33m:\u001b[0m\u001b[1;33m\u001b[0m\u001b[1;33m\u001b[0m\u001b[0m\n\u001b[0;32m     14\u001b[0m                 \u001b[0mprint\u001b[0m\u001b[1;33m(\u001b[0m\u001b[1;34m\"{} file of direc {} have null at:\"\u001b[0m\u001b[1;33m.\u001b[0m\u001b[0mformat\u001b[0m\u001b[1;33m(\u001b[0m\u001b[0mfilename\u001b[0m\u001b[1;33m,\u001b[0m \u001b[0mdirec\u001b[0m\u001b[1;33m)\u001b[0m\u001b[1;33m)\u001b[0m\u001b[1;33m\u001b[0m\u001b[1;33m\u001b[0m\u001b[0m\n\u001b[1;32m---> 15\u001b[1;33m                 \u001b[0mprint\u001b[0m\u001b[1;33m(\u001b[0m\u001b[0mdata\u001b[0m\u001b[1;33m[\u001b[0m\u001b[0mdata\u001b[0m\u001b[1;33m[\u001b[0m\u001b[1;34m\"Question\"\u001b[0m\u001b[1;33m]\u001b[0m\u001b[1;33m.\u001b[0m\u001b[0misnull\u001b[0m\u001b[1;33m(\u001b[0m\u001b[1;33m)\u001b[0m\u001b[1;33m]\u001b[0m\u001b[1;33m)\u001b[0m\u001b[1;33m\u001b[0m\u001b[1;33m\u001b[0m\u001b[0m\n\u001b[0m\u001b[0;32m     16\u001b[0m                 \u001b[0mcount\u001b[0m \u001b[1;33m+=\u001b[0m \u001b[1;36m1\u001b[0m\u001b[1;33m\u001b[0m\u001b[1;33m\u001b[0m\u001b[0m\n\u001b[0;32m     17\u001b[0m \u001b[1;33m\u001b[0m\u001b[0m\n",
      "\u001b[1;32mC:\\tools\\Anaconda\\envs\\venv\\lib\\site-packages\\pandas\\core\\frame.py\u001b[0m in \u001b[0;36m__getitem__\u001b[1;34m(self, key)\u001b[0m\n\u001b[0;32m   3456\u001b[0m             \u001b[1;32mif\u001b[0m \u001b[0mself\u001b[0m\u001b[1;33m.\u001b[0m\u001b[0mcolumns\u001b[0m\u001b[1;33m.\u001b[0m\u001b[0mnlevels\u001b[0m \u001b[1;33m>\u001b[0m \u001b[1;36m1\u001b[0m\u001b[1;33m:\u001b[0m\u001b[1;33m\u001b[0m\u001b[1;33m\u001b[0m\u001b[0m\n\u001b[0;32m   3457\u001b[0m                 \u001b[1;32mreturn\u001b[0m \u001b[0mself\u001b[0m\u001b[1;33m.\u001b[0m\u001b[0m_getitem_multilevel\u001b[0m\u001b[1;33m(\u001b[0m\u001b[0mkey\u001b[0m\u001b[1;33m)\u001b[0m\u001b[1;33m\u001b[0m\u001b[1;33m\u001b[0m\u001b[0m\n\u001b[1;32m-> 3458\u001b[1;33m             \u001b[0mindexer\u001b[0m \u001b[1;33m=\u001b[0m \u001b[0mself\u001b[0m\u001b[1;33m.\u001b[0m\u001b[0mcolumns\u001b[0m\u001b[1;33m.\u001b[0m\u001b[0mget_loc\u001b[0m\u001b[1;33m(\u001b[0m\u001b[0mkey\u001b[0m\u001b[1;33m)\u001b[0m\u001b[1;33m\u001b[0m\u001b[1;33m\u001b[0m\u001b[0m\n\u001b[0m\u001b[0;32m   3459\u001b[0m             \u001b[1;32mif\u001b[0m \u001b[0mis_integer\u001b[0m\u001b[1;33m(\u001b[0m\u001b[0mindexer\u001b[0m\u001b[1;33m)\u001b[0m\u001b[1;33m:\u001b[0m\u001b[1;33m\u001b[0m\u001b[1;33m\u001b[0m\u001b[0m\n\u001b[0;32m   3460\u001b[0m                 \u001b[0mindexer\u001b[0m \u001b[1;33m=\u001b[0m \u001b[1;33m[\u001b[0m\u001b[0mindexer\u001b[0m\u001b[1;33m]\u001b[0m\u001b[1;33m\u001b[0m\u001b[1;33m\u001b[0m\u001b[0m\n",
      "\u001b[1;32mC:\\tools\\Anaconda\\envs\\venv\\lib\\site-packages\\pandas\\core\\indexes\\base.py\u001b[0m in \u001b[0;36mget_loc\u001b[1;34m(self, key, method, tolerance)\u001b[0m\n\u001b[0;32m   3361\u001b[0m                 \u001b[1;32mreturn\u001b[0m \u001b[0mself\u001b[0m\u001b[1;33m.\u001b[0m\u001b[0m_engine\u001b[0m\u001b[1;33m.\u001b[0m\u001b[0mget_loc\u001b[0m\u001b[1;33m(\u001b[0m\u001b[0mcasted_key\u001b[0m\u001b[1;33m)\u001b[0m\u001b[1;33m\u001b[0m\u001b[1;33m\u001b[0m\u001b[0m\n\u001b[0;32m   3362\u001b[0m             \u001b[1;32mexcept\u001b[0m \u001b[0mKeyError\u001b[0m \u001b[1;32mas\u001b[0m \u001b[0merr\u001b[0m\u001b[1;33m:\u001b[0m\u001b[1;33m\u001b[0m\u001b[1;33m\u001b[0m\u001b[0m\n\u001b[1;32m-> 3363\u001b[1;33m                 \u001b[1;32mraise\u001b[0m \u001b[0mKeyError\u001b[0m\u001b[1;33m(\u001b[0m\u001b[0mkey\u001b[0m\u001b[1;33m)\u001b[0m \u001b[1;32mfrom\u001b[0m \u001b[0merr\u001b[0m\u001b[1;33m\u001b[0m\u001b[1;33m\u001b[0m\u001b[0m\n\u001b[0m\u001b[0;32m   3364\u001b[0m \u001b[1;33m\u001b[0m\u001b[0m\n\u001b[0;32m   3365\u001b[0m         \u001b[1;32mif\u001b[0m \u001b[0mis_scalar\u001b[0m\u001b[1;33m(\u001b[0m\u001b[0mkey\u001b[0m\u001b[1;33m)\u001b[0m \u001b[1;32mand\u001b[0m \u001b[0misna\u001b[0m\u001b[1;33m(\u001b[0m\u001b[0mkey\u001b[0m\u001b[1;33m)\u001b[0m \u001b[1;32mand\u001b[0m \u001b[1;32mnot\u001b[0m \u001b[0mself\u001b[0m\u001b[1;33m.\u001b[0m\u001b[0mhasnans\u001b[0m\u001b[1;33m:\u001b[0m\u001b[1;33m\u001b[0m\u001b[1;33m\u001b[0m\u001b[0m\n",
      "\u001b[1;31mKeyError\u001b[0m: 'Question'"
     ]
    }
   ],
   "source": [
    "def checkNullOrSpace():\n",
    "    count: int = 0\n",
    "    checkDict: Dict[str, List[str]] = {\n",
    "        \"datasets\": getFileNameFromDir(\"datasets\"),\n",
    "        \"segments\": getFileNameFromDir(\"segments\"),\n",
    "        \"pos\": getFileNameFromDir(\"pos\"),\n",
    "        \"entity-tag\": getFileNameFromDir(\"entity-tag\"),\n",
    "    }\n",
    "\n",
    "    for direc, v in checkDict.items():\n",
    "        for filename in v:\n",
    "            data = pd.read_csv(\"{}/{}\".format(direc, filename))\n",
    "            if data.isnull().any().any():\n",
    "                print(\"{} file of direc {} have null at:\".format(filename, direc))\n",
    "                print(data[data[\"Question\"].isnull()])\n",
    "                count += 1\n",
    "\n",
    "    if count == 0:\n",
    "        print(\"No null sentence in any files detected\")\n",
    "\n",
    "\n",
    "checkNullOrSpace()"
   ]
  },
  {
   "cell_type": "markdown",
   "metadata": {
    "collapsed": false,
    "pycharm": {
     "name": "#%% md\n"
    }
   },
   "source": [
    "## Compare Ner length, POS length, and SEG Length"
   ]
  },
  {
   "cell_type": "code",
   "execution_count": 6,
   "metadata": {
    "collapsed": false,
    "pycharm": {
     "name": "#%%\n"
    }
   },
   "outputs": [],
   "source": [
    "from pandas import DataFrame\n",
    "\n",
    "\n",
    "# def findDiffLengthSentence(allSegDataset: DataFrame, allEntityDataset: DataFrame, allPosDataset: DataFrame):\n",
    "#     myTempDict = {}\n",
    "#     indexs = allEntityDataset.index.tolist()\n",
    "#     segs = allSegDataset[\"Question\"].to_list()\n",
    "#     tags = allSegDataset[\"Intent\"].to_list()\n",
    "#     ents = allEntityDataset[\"Question\"].to_list()\n",
    "#     poss = allPosDataset[\"Question\"].to_list()\n",
    "#\n",
    "#     for seg, tag, ent, pos, index in zip(segs, tags, ents, poss, indexs):\n",
    "#         if len(str(seg).split()) is not len(str(pos).split()) is not len(str(ent).split()):\n",
    "#             myTempDict.setdefault(\"index\", []).append(index)\n",
    "#             myTempDict.setdefault(\"intent\", []).append(tag)\n",
    "#             myTempDict.setdefault(\"length_seg\", []).append(len(str(seg).split()))\n",
    "#             myTempDict.setdefault(\"length_pos\", []).append(len(str(pos).split()))\n",
    "#             myTempDict.setdefault(\"length_ent\", []).append(len(str(ent).split()))\n",
    "#             myTempDict.setdefault(\"seg\", []).append(seg)\n",
    "#             myTempDict.setdefault(\"pos\", []).append(pos)\n",
    "#             myTempDict.setdefault(\"ent\", []).append(ent)\n",
    "#\n",
    "#     errorPd = pd.DataFrame.from_dict(myTempDict)\n",
    "#     errorPd.to_csv(\"all_data/diff_length_sentences.csv\", index=False)"
   ]
  },
  {
   "cell_type": "code",
   "execution_count": 7,
   "metadata": {
    "collapsed": false,
    "pycharm": {
     "name": "#%%\n"
    }
   },
   "outputs": [
    {
     "data": {
      "text/plain": [
       "Question    0\n",
       "Intent      0\n",
       "dtype: int64"
      ]
     },
     "execution_count": 7,
     "metadata": {},
     "output_type": "execute_result"
    }
   ],
   "source": [
    "temp = pd.read_csv(\"POS/AskWhereHRRoomIs.csv\")\n",
    "# temp.head()\n",
    "temp.isna().sum()"
   ]
  },
  {
   "cell_type": "code",
   "execution_count": 11,
   "metadata": {
    "collapsed": false,
    "pycharm": {
     "name": "#%%\n"
    }
<<<<<<< HEAD
   },
   "outputs": [
    {
     "name": "stdout",
     "output_type": "stream",
     "text": [
      "AskAboutAcademicFee\n",
      "AskAboutAge\n",
      "AskAboutClubInfo\n",
      "AskAboutCompetition\n",
      "AskAboutInterest\n",
      "AskAboutLocation\n",
      "AskAboutMinistry\n",
      "AskAboutParkingPrice\n",
      "AskAboutProvince\n",
      "AskAboutSchoolMajors\n",
      "AskWhereHRRoomIs\n",
      "FindAnnouncementInfo\n"
     ]
    },
    {
     "ename": "KeyError",
     "evalue": "'Question'",
     "output_type": "error",
     "traceback": [
      "\u001b[1;31m---------------------------------------------------------------------------\u001b[0m",
      "\u001b[1;31mKeyError\u001b[0m                                  Traceback (most recent call last)",
      "File \u001b[1;32mc:\\Users\\Hong\\anaconda3\\lib\\site-packages\\pandas\\core\\indexes\\base.py:3621\u001b[0m, in \u001b[0;36mIndex.get_loc\u001b[1;34m(self, key, method, tolerance)\u001b[0m\n\u001b[0;32m   3620\u001b[0m \u001b[39mtry\u001b[39;00m:\n\u001b[1;32m-> 3621\u001b[0m     \u001b[39mreturn\u001b[39;00m \u001b[39mself\u001b[39;49m\u001b[39m.\u001b[39;49m_engine\u001b[39m.\u001b[39;49mget_loc(casted_key)\n\u001b[0;32m   3622\u001b[0m \u001b[39mexcept\u001b[39;00m \u001b[39mKeyError\u001b[39;00m \u001b[39mas\u001b[39;00m err:\n",
      "File \u001b[1;32mc:\\Users\\Hong\\anaconda3\\lib\\site-packages\\pandas\\_libs\\index.pyx:136\u001b[0m, in \u001b[0;36mpandas._libs.index.IndexEngine.get_loc\u001b[1;34m()\u001b[0m\n",
      "File \u001b[1;32mc:\\Users\\Hong\\anaconda3\\lib\\site-packages\\pandas\\_libs\\index.pyx:163\u001b[0m, in \u001b[0;36mpandas._libs.index.IndexEngine.get_loc\u001b[1;34m()\u001b[0m\n",
      "File \u001b[1;32mpandas\\_libs\\hashtable_class_helper.pxi:5198\u001b[0m, in \u001b[0;36mpandas._libs.hashtable.PyObjectHashTable.get_item\u001b[1;34m()\u001b[0m\n",
      "File \u001b[1;32mpandas\\_libs\\hashtable_class_helper.pxi:5206\u001b[0m, in \u001b[0;36mpandas._libs.hashtable.PyObjectHashTable.get_item\u001b[1;34m()\u001b[0m\n",
      "\u001b[1;31mKeyError\u001b[0m: 'Question'",
      "\nThe above exception was the direct cause of the following exception:\n",
      "\u001b[1;31mKeyError\u001b[0m                                  Traceback (most recent call last)",
      "\u001b[1;32mc:\\Users\\Hong\\Desktop\\test\\G2---Intent_classification-Group\\analysis.ipynb Cell 14\u001b[0m in \u001b[0;36m<cell line: 9>\u001b[1;34m()\u001b[0m\n\u001b[0;32m     <a href='vscode-notebook-cell:/c%3A/Users/Hong/Desktop/test/G2---Intent_classification-Group/analysis.ipynb#X16sZmlsZQ%3D%3D?line=15'>16</a>\u001b[0m segs \u001b[39m=\u001b[39m allSegDataset[\u001b[39m\"\u001b[39m\u001b[39mQuestion\u001b[39m\u001b[39m\"\u001b[39m]\u001b[39m.\u001b[39mto_list()\n\u001b[0;32m     <a href='vscode-notebook-cell:/c%3A/Users/Hong/Desktop/test/G2---Intent_classification-Group/analysis.ipynb#X16sZmlsZQ%3D%3D?line=16'>17</a>\u001b[0m tags \u001b[39m=\u001b[39m allSegDataset[\u001b[39m\"\u001b[39m\u001b[39mIntent\u001b[39m\u001b[39m\"\u001b[39m]\u001b[39m.\u001b[39mto_list()\n\u001b[1;32m---> <a href='vscode-notebook-cell:/c%3A/Users/Hong/Desktop/test/G2---Intent_classification-Group/analysis.ipynb#X16sZmlsZQ%3D%3D?line=17'>18</a>\u001b[0m ents \u001b[39m=\u001b[39m allEntityDataset[\u001b[39m\"\u001b[39;49m\u001b[39mQuestion\u001b[39;49m\u001b[39m\"\u001b[39;49m]\u001b[39m.\u001b[39mto_list()\n\u001b[0;32m     <a href='vscode-notebook-cell:/c%3A/Users/Hong/Desktop/test/G2---Intent_classification-Group/analysis.ipynb#X16sZmlsZQ%3D%3D?line=18'>19</a>\u001b[0m poss \u001b[39m=\u001b[39m allPosDataset[\u001b[39m\"\u001b[39m\u001b[39mQuestion\u001b[39m\u001b[39m\"\u001b[39m]\u001b[39m.\u001b[39mto_list()\n\u001b[0;32m     <a href='vscode-notebook-cell:/c%3A/Users/Hong/Desktop/test/G2---Intent_classification-Group/analysis.ipynb#X16sZmlsZQ%3D%3D?line=20'>21</a>\u001b[0m \u001b[39m# loop through the csv to find wrong sentence length\u001b[39;00m\n",
      "File \u001b[1;32mc:\\Users\\Hong\\anaconda3\\lib\\site-packages\\pandas\\core\\frame.py:3505\u001b[0m, in \u001b[0;36mDataFrame.__getitem__\u001b[1;34m(self, key)\u001b[0m\n\u001b[0;32m   3503\u001b[0m \u001b[39mif\u001b[39;00m \u001b[39mself\u001b[39m\u001b[39m.\u001b[39mcolumns\u001b[39m.\u001b[39mnlevels \u001b[39m>\u001b[39m \u001b[39m1\u001b[39m:\n\u001b[0;32m   3504\u001b[0m     \u001b[39mreturn\u001b[39;00m \u001b[39mself\u001b[39m\u001b[39m.\u001b[39m_getitem_multilevel(key)\n\u001b[1;32m-> 3505\u001b[0m indexer \u001b[39m=\u001b[39m \u001b[39mself\u001b[39;49m\u001b[39m.\u001b[39;49mcolumns\u001b[39m.\u001b[39;49mget_loc(key)\n\u001b[0;32m   3506\u001b[0m \u001b[39mif\u001b[39;00m is_integer(indexer):\n\u001b[0;32m   3507\u001b[0m     indexer \u001b[39m=\u001b[39m [indexer]\n",
      "File \u001b[1;32mc:\\Users\\Hong\\anaconda3\\lib\\site-packages\\pandas\\core\\indexes\\base.py:3623\u001b[0m, in \u001b[0;36mIndex.get_loc\u001b[1;34m(self, key, method, tolerance)\u001b[0m\n\u001b[0;32m   3621\u001b[0m     \u001b[39mreturn\u001b[39;00m \u001b[39mself\u001b[39m\u001b[39m.\u001b[39m_engine\u001b[39m.\u001b[39mget_loc(casted_key)\n\u001b[0;32m   3622\u001b[0m \u001b[39mexcept\u001b[39;00m \u001b[39mKeyError\u001b[39;00m \u001b[39mas\u001b[39;00m err:\n\u001b[1;32m-> 3623\u001b[0m     \u001b[39mraise\u001b[39;00m \u001b[39mKeyError\u001b[39;00m(key) \u001b[39mfrom\u001b[39;00m \u001b[39merr\u001b[39;00m\n\u001b[0;32m   3624\u001b[0m \u001b[39mexcept\u001b[39;00m \u001b[39mTypeError\u001b[39;00m:\n\u001b[0;32m   3625\u001b[0m     \u001b[39m# If we have a listlike key, _check_indexing_error will raise\u001b[39;00m\n\u001b[0;32m   3626\u001b[0m     \u001b[39m#  InvalidIndexError. Otherwise we fall through and re-raise\u001b[39;00m\n\u001b[0;32m   3627\u001b[0m     \u001b[39m#  the TypeError.\u001b[39;00m\n\u001b[0;32m   3628\u001b[0m     \u001b[39mself\u001b[39m\u001b[39m.\u001b[39m_check_indexing_error(key)\n",
      "\u001b[1;31mKeyError\u001b[0m: 'Question'"
     ]
    }
   ],
=======
   }
  },
  {
   "cell_type": "code",
   "execution_count": 34,
   "outputs": [],
>>>>>>> 407d1dabfb22bad4710f2192d088068ca0d4c69d
   "source": [
    "allSegFileName = getFileNameFromDir(direc=\"segments\")\n",
    "# allPosFileName = getFileNameFromDir(direc=\"pos\")\n",
    "# allEntityFileName = getFileNameFromDir(direc=\"entity-tag\")\n",
    "\n",
    "myTempDict = {}\n",
    "text = \"\"\n",
    "\n",
    "# Loop Through each file name to read csv\n",
    "for file in allSegFileName:\n",
    "    file = file.replace(\" \", \"\")\n",
    "    allEntityDataset = pd.read_csv(\"entity-tag/{}\".format(file))\n",
    "    allPosDataset = pd.read_csv(\"POS/{}\".format(file))\n",
    "    allSegDataset = pd.read_csv(\"segments/{}\".format(file))\n",
    "\n",
    "    indexs = allEntityDataset.index.tolist()\n",
    "    segs = allSegDataset[\"Question\"].to_list()\n",
    "    tags = allSegDataset[\"Intent\"].to_list()\n",
    "    ents = allEntityDataset[\"Question\"].to_list()\n",
    "    poss = allPosDataset[\"Question\"].to_list()\n",
    "\n",
    "    # loop through the csv to find wrong sentence length\n",
    "    for seg, tag, ent, pos, index in zip(segs, tags, ents, poss, indexs):\n",
    "        lengthEnt = len(str(ent).split())\n",
    "        lengthSeg = len(str(seg).split())\n",
    "        lengthPos = len(str(seg).split())\n",
    "        if tag !=text:\n",
    "            text = tag\n",
    "            print(text)\n",
    "        if lengthSeg != lengthPos or lengthSeg!= lengthEnt:\n",
    "            myTempDict.setdefault(\"index\", []).append(index)\n",
    "            myTempDict.setdefault(\"intent\", []).append(tag)\n",
    "            myTempDict.setdefault(\"length_seg\", []).append(len(str(seg).split()))\n",
    "            myTempDict.setdefault(\"length_pos\", []).append(len(str(pos).split()))\n",
    "            myTempDict.setdefault(\"length_ent\", []).append(len(str(ent).split()))\n",
    "            myTempDict.setdefault(\"seg\", []).append(seg)\n",
    "            myTempDict.setdefault(\"pos\", []).append(pos)\n",
    "            myTempDict.setdefault(\"ent\", []).append(ent)\n",
    "\n",
    "errorPd = pd.DataFrame.from_dict(myTempDict)\n",
    "errorPd.to_csv(\"all_data/diff_length_sentences.csv\", index=False)"
   ]
  },
  {
   "cell_type": "code",
   "execution_count": 5,
   "metadata": {
    "collapsed": false,
    "pycharm": {
     "name": "#%%\n"
    }
<<<<<<< HEAD
   },
=======
   }
  },
  {
   "cell_type": "code",
   "execution_count": 35,
>>>>>>> 407d1dabfb22bad4710f2192d088068ca0d4c69d
   "outputs": [
    {
     "name": "stdout",
     "output_type": "stream",
     "text": [
      "length_seg:  890\n",
      "length_pos:  890\n",
      "length_ent:  890\n",
      "seg:  890\n",
      "pos:  890\n",
      "ent:  890\n",
      "     index             intent  length_seg  length_pos  length_ent  \\\n",
      "0        0        AskAboutAge          13          14          14   \n",
      "1        1        AskAboutAge          14          15          15   \n",
      "2        4        AskAboutAge           7           8           8   \n",
      "3        5        AskAboutAge           8           9           9   \n",
      "4        8        AskAboutAge          13          14          14   \n",
      "..     ...                ...         ...         ...         ...   \n",
      "885    460  FindTotalStudents          11          11          12   \n",
      "886    461  FindTotalStudents          10          10          11   \n",
      "887    471  FindTotalStudents          10          10          11   \n",
      "888    472  FindTotalStudents          11          11          12   \n",
      "889    473  FindTotalStudents          10          10          11   \n",
      "\n",
      "                                                   seg  \\\n",
      "0    តើ ថូម៉ាស ប្រាប់ បន្ដិច បាន ទេ ថា ឯង មាន ព្រះជ...   \n",
      "1    តើ ថូម៉ាស ប្រាប់ បន្ដិច បាន ទេ ថា ឯង មាន ព្រះជ...   \n",
      "2               តើ ថូម៉ាស មាន ព្រះជន្ម ប៉ុន្មាន ហេីយ ?   \n",
      "3         តើ ថូម៉ាស មាន ព្រះជន្ម ប៉ុន្មាន ឆ្នាំ ហេីយ ?   \n",
      "4    តើ ថូម៉ាស ប្រាប់ បន្ដិច បាន ទេ ថា អ្នក មាន ព្រ...   \n",
      "..                                                 ...   \n",
      "885  តើ វិទ្យាល័យ CADT ចូចូដឹង ទេ ថា មាន សិស្ស សរុប...   \n",
      "886  តើ វិទ្យាល័យ CADT ចូចូដឹង ទេ ថា មាន student ប៉...   \n",
      "887  តើ វិទ្យាល័យ CADT លីតាដឹង ទេ ថា មាន និស្សិត ប៉...   \n",
      "888  តើ វិទ្យាល័យ CADT លីតាដឹង ទេ ថា មាន សិស្ស សរុប...   \n",
      "889  តើ វិទ្យាល័យ CADT លីតាដឹង ទេ ថា មាន student ប៉...   \n",
      "\n",
      "                                                   pos  \\\n",
      "0    តើ/prt ថូម៉ាស/noun ប្រាប់/verb បន្ដិច/adj បាន/...   \n",
      "1    តើ/prt ថូម៉ាស/noun ប្រាប់/verb បន្ដិច/adj បាន/...   \n",
      "2    តើ/prt ថូម៉ាស/noun មាន/verb ព្រះ/noun ជន្ម/nou...   \n",
      "3    តើ/prt ថូម៉ាស/noun មាន/verb ព្រះ/noun ជន្ម/nou...   \n",
      "4    តើ/prt ថូម៉ាស/noun ប្រាប់/verb បន្ដិច/adj បាន/...   \n",
      "..                                                 ...   \n",
      "885  តើ/prt វិទ្យាល័យ/noun CADT/noun ចូចូដឹង/noun ទ...   \n",
      "886  តើ/prt វិទ្យាល័យ/noun CADT/noun ចូចូដឹង/noun ទ...   \n",
      "887  តើ/prt វិទ្យាល័យ/noun CADT/noun លីតាដឹង/noun ទ...   \n",
      "888  តើ/prt វិទ្យាល័យ/noun CADT/noun លីតាដឹង/noun ទ...   \n",
      "889  តើ/prt វិទ្យាល័យ/noun CADT/noun លីតាដឹង/noun ទ...   \n",
      "\n",
      "                                                   ent  \n",
      "0    តើ ថូម៉ាស/B-PER ប្រាប់ បន្ដិច បាន ទេ ថា ឯង មាន...  \n",
      "1    តើ ថូម៉ាស/B-PER ប្រាប់ បន្ដិច បាន ទេ ថា ឯង មាន...  \n",
      "2        តើ ថូម៉ាស/B-PER មាន ព្រះ ជន្ម ប៉ុន្មាន ហេីយ ?  \n",
      "3    តើ ថូម៉ាស/B-PER មាន ព្រះ ជន្ម ប៉ុន្មាន ឆ្នាំ ហ...  \n",
      "4    តើ ថូម៉ាស/B-PER ប្រាប់ បន្ដិច បាន ទេ ថា អ្នក ម...  \n",
      "..                                                 ...  \n",
      "885  តើ វិទ្យាល័យ/B-ORG CADT/I-ORG ចូចូ/B-PER ដឹង ទ...  \n",
      "886  តើ វិទ្យាល័យ/B-ORG CADT/I-ORG ចូចូ/B-PER ដឹង ទ...  \n",
      "887  តើ វិទ្យាល័យ/B-ORG CADT/I-ORG លីតា/B-PER ដឹង ទ...  \n",
      "888  តើ វិទ្យាល័យ/B-ORG CADT/I-ORG លីតា/B-PER ដឹង ទ...  \n",
      "889  តើ វិទ្យាល័យ/B-ORG CADT/I-ORG លីតា/B-PER ដឹង ទ...  \n",
      "\n",
      "[890 rows x 8 columns]\n"
     ]
    }
   ],
   "source": [
    "from pandas.errors import EmptyDataError\n",
    "\n",
    "try:\n",
    "    wrongSentence = pd.read_csv(\"all_data/diff_length_sentences.csv\")\n",
    "\n",
    "    print(\"length_seg: \", wrongSentence[\"length_seg\"].count())\n",
    "    print(\"length_pos: \", wrongSentence[\"length_pos\"].count())\n",
    "    print(\"length_ent: \", wrongSentence[\"length_ent\"].count())\n",
    "    print(\"seg: \", wrongSentence[\"seg\"].count())\n",
    "    print(\"pos: \", wrongSentence[\"pos\"].count())\n",
    "    print(\"ent: \", wrongSentence[\"ent\"].count())\n",
    "\n",
    "    print(wrongSentence)\n",
    "except EmptyDataError:\n",
    "    print(\"No Wrong Length Sentences\")\n"
   ]
  },
  {
   "cell_type": "markdown",
   "metadata": {
    "collapsed": false,
    "pycharm": {
     "name": "#%% md\n"
    }
   },
   "source": [
    "## Find Amount of Sentences per intent as well as Total"
   ]
  },
  {
   "cell_type": "code",
   "execution_count": 6,
   "metadata": {
    "collapsed": false,
    "pycharm": {
     "name": "#%%\n"
    }
   },
   "outputs": [
    {
     "data": {
      "text/html": [
       "<div>\n",
       "<style scoped>\n",
       "    .dataframe tbody tr th:only-of-type {\n",
       "        vertical-align: middle;\n",
       "    }\n",
       "\n",
       "    .dataframe tbody tr th {\n",
       "        vertical-align: top;\n",
       "    }\n",
       "\n",
       "    .dataframe thead th {\n",
       "        text-align: right;\n",
       "    }\n",
       "</style>\n",
       "<table border=\"1\" class=\"dataframe\">\n",
       "  <thead>\n",
       "    <tr style=\"text-align: right;\">\n",
       "      <th></th>\n",
       "      <th>Question</th>\n",
       "      <th>Intent</th>\n",
       "    </tr>\n",
       "  </thead>\n",
       "  <tbody>\n",
       "    <tr>\n",
       "      <th>0</th>\n",
       "      <td>តើប្រាប់ពីតម្លៃសិក្សារបស់សាលាស៉ីអេឌីធី</td>\n",
       "      <td>AskAboutAcademicFee</td>\n",
       "    </tr>\n",
       "    <tr>\n",
       "      <th>1</th>\n",
       "      <td>តើប្រាប់ពីតម្លៃសិក្សារបស់សាលាCADT</td>\n",
       "      <td>AskAboutAcademicFee</td>\n",
       "    </tr>\n",
       "    <tr>\n",
       "      <th>2</th>\n",
       "      <td>តើខ្ញុំចង់ដឹងពីតម្លៃពីតម្លៃសិក្សារបស់សាលាស៉ីអេ...</td>\n",
       "      <td>AskAboutAcademicFee</td>\n",
       "    </tr>\n",
       "    <tr>\n",
       "      <th>3</th>\n",
       "      <td>តើខ្ញុំចង់ដឹងពីតម្លៃពីតម្លៃសិក្សារបស់សាលាCADT</td>\n",
       "      <td>AskAboutAcademicFee</td>\n",
       "    </tr>\n",
       "    <tr>\n",
       "      <th>4</th>\n",
       "      <td>តើសូមប្រាប់ខ្ញុំពីតម្លៃសិក្សារបស់សាលាស៉ីអេឌីធី</td>\n",
       "      <td>AskAboutAcademicFee</td>\n",
       "    </tr>\n",
       "  </tbody>\n",
       "</table>\n",
       "</div>"
      ],
      "text/plain": [
       "                                            Question               Intent\n",
       "0             តើប្រាប់ពីតម្លៃសិក្សារបស់សាលាស៉ីអេឌីធី  AskAboutAcademicFee\n",
       "1                  តើប្រាប់ពីតម្លៃសិក្សារបស់សាលាCADT  AskAboutAcademicFee\n",
       "2  តើខ្ញុំចង់ដឹងពីតម្លៃពីតម្លៃសិក្សារបស់សាលាស៉ីអេ...  AskAboutAcademicFee\n",
       "3      តើខ្ញុំចង់ដឹងពីតម្លៃពីតម្លៃសិក្សារបស់សាលាCADT  AskAboutAcademicFee\n",
       "4     តើសូមប្រាប់ខ្ញុំពីតម្លៃសិក្សារបស់សាលាស៉ីអេឌីធី  AskAboutAcademicFee"
      ]
     },
     "execution_count": 6,
     "metadata": {},
     "output_type": "execute_result"
    }
   ],
   "source": [
    "## Find Amount of Sentences\n",
    "allDataset = pd.read_csv(\"all_data/all_data_dataset.csv\")\n",
    "allDataset.head()"
   ]
  },
  {
   "cell_type": "code",
   "execution_count": 7,
   "metadata": {
    "collapsed": false,
    "pycharm": {
     "name": "#%%\n"
    }
   },
   "outputs": [],
   "source": [
    "# For used to get Gradient color set\n",
    "\n",
    "def getPalleteAndArrangeValue(color: str, size, as_cmap:bool = False):\n",
    "    pal = sns.color_palette(color, len(size), as_cmap=as_cmap)\n",
    "\n",
    "    # First sort of list\n",
    "    rank = size.argsort()\n",
    "\n",
    "    # Second sort where we can now define which should have the brightest color\n",
    "    proper = rank.argsort()\n",
    "\n",
    "    # Convert the tuple to a list, also to arrange the the color according to the size of each index of the list\n",
    "    aray = np.array(pal)[proper]\n",
    "    return aray"
   ]
  },
  {
   "cell_type": "markdown",
   "metadata": {
    "collapsed": false,
    "pycharm": {
     "name": "#%% md\n"
    }
   },
   "source": [
    "## Find sentences total per intent and Draw BarPlot"
   ]
  },
  {
   "cell_type": "code",
   "execution_count": 8,
   "metadata": {
    "collapsed": false,
    "pycharm": {
     "name": "#%%\n"
    }
   },
   "outputs": [
    {
     "name": "stdout",
     "output_type": "stream",
     "text": [
      "Intent\n",
      "AskAboutAcademicFee       78\n",
      "AskAboutAge              120\n",
      "AskAboutClubInfo          63\n",
      "AskAboutCompetition      144\n",
      "AskAboutInterest         120\n",
      "AskAboutLocation         176\n",
      "AskAboutMinistry         105\n",
      "AskAboutParkingPrice      96\n",
      "AskAboutProvince         138\n",
      "AskAboutSchoolMajors     852\n",
      "AskWhereHRRoomIs        2520\n",
      "FindAnnouncementInfo      24\n",
      "FindCSInfo               512\n",
      "FindClub                  63\n",
      "FindClubRoom             105\n",
      "FindCurrentTime         1770\n",
      "FindECInfo               500\n",
      "FindTNInfo               512\n",
      "FindTotalStudents        504\n",
      "IsMinistryExist          336\n",
      "IsProvinceExist          138\n",
      "ListClub                  48\n",
      "ListParkingSpace          81\n",
      "dtype: int64\n",
      "-------------------------\n"
     ]
    },
    {
     "data": {
      "image/png": "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",
      "text/plain": [
       "<Figure size 432x288 with 1 Axes>"
      ]
     },
     "metadata": {},
     "output_type": "display_data"
    }
   ],
   "source": [
    "# plt.figure(figsize=(16,8))\n",
    "sns.set(style=\"whitegrid\", color_codes=True)\n",
    "\n",
    "dataCount = allDataset.groupby(\"Intent\").size()\n",
    "\n",
    "aray = getPalleteAndArrangeValue(color=\"Greens_d\", size=dataCount)\n",
    "\n",
    "ax = sns.barplot(x=dataCount.index.tolist(), y=dataCount.values.tolist(), palette=aray)\n",
    "\n",
    "plt.bar_label(ax.containers[0], padding=5, rotation=90)\n",
    "ax.set_xticklabels(ax.get_xticklabels(), rotation=90)\n",
    "\n",
    "print(dataCount)x\n",
    "print(\"-------------------------\")\n",
    "plt.show()"
   ]
  },
  {
   "cell_type": "code",
   "execution_count": 27,
   "metadata": {
    "collapsed": false,
    "pycharm": {
     "name": "#%%\n"
    }
   },
   "outputs": [
    {
     "name": "stdout",
     "output_type": "stream",
     "text": [
      "Total Sentence length:  9005\n"
     ]
    }
   ],
   "source": [
    "# Find Total\n",
    "print(\"Total Sentence length: \", allDataset.Question.count())"
   ]
  },
  {
   "cell_type": "markdown",
   "metadata": {
    "collapsed": false,
    "pycharm": {
     "name": "#%% md\n"
    }
   },
   "source": [
    "## Check amount of entities as well as for any errors"
   ]
  },
  {
   "cell_type": "code",
   "execution_count": 28,
   "metadata": {
    "collapsed": false,
    "pycharm": {
     "name": "#%%\n"
    }
   },
   "outputs": [
    {
     "name": "stdout",
     "output_type": "stream",
     "text": [
      "<class 'pandas.core.frame.DataFrame'>\n",
      "RangeIndex: 16 entries, 0 to 15\n",
      "Data columns (total 3 columns):\n",
      " #   Column        Non-Null Count  Dtype \n",
      "---  ------        --------------  ----- \n",
      " 0   Named Entity  16 non-null     object\n",
      " 1   NE Code       16 non-null     object\n",
      " 2   Remarks       14 non-null     object\n",
      "dtypes: object(3)\n",
      "memory usage: 512.0+ bytes\n"
     ]
    }
   ],
   "source": [
    "entityDataFrame = pd.read_csv(\"all_data/all_entity_dataset.csv\")\n",
    "entityFrame = pd.read_csv(\"Named Entity.csv\")\n",
    "entityFrame.info()"
   ]
  },
  {
   "cell_type": "code",
   "execution_count": 29,
   "metadata": {
    "collapsed": false,
    "pycharm": {
     "name": "#%%\n"
    }
   },
   "outputs": [],
   "source": [
    "# Remove white space from column name and apply it to csv file\n",
    "# TODO: This is still experimenting, use with caution\n",
    "\n",
    "# entityFrame = entityFrame.rename(columns={entityFrame.columns.values[1]: \"Question\"})\n",
    "# entityFrame.to_csv(\"Named Entity.csv\", index=False)"
   ]
  },
  {
   "cell_type": "code",
   "execution_count": 37,
   "metadata": {
    "collapsed": false,
    "pycharm": {
     "name": "#%%\n"
    }
   },
   "outputs": [
    {
     "name": "stdout",
     "output_type": "stream",
     "text": [
      "  Intent  Amount\n",
      "2    PER    3735\n",
      "4    ORG    2559\n",
      "0   ROOM    2520\n",
      "5  MAJOR    1521\n",
      "3    GPE     669\n",
      "1  BUILD      48\n"
     ]
    },
    {
     "data": {
      "image/png": "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",
      "text/plain": [
       "<Figure size 640x480 with 1 Axes>"
      ]
     },
     "metadata": {},
     "output_type": "display_data"
    }
   ],
   "source": [
    "# Check total amount of entity number\n",
    "myDict = {}\n",
    "errorDict = {}\n",
    "\n",
    "entityTag = entityFrame[\"NE Code\"].to_list()\n",
    "entitySentences = entityDataFrame[\"Question\"].to_list()\n",
    "\n",
    "for x in entityTag:\n",
    "    count = 0\n",
    "    for index, row in entityDataFrame.iterrows():\n",
    "        sentence = row[\"Question\"].split()\n",
    "        for c in range(len(sentence)):\n",
    "            # Matches /B-Word until space\n",
    "            if re.search(r\"/B-{}$\".format(x), sentence[c]):\n",
    "                count += 1\n",
    "                split = sentence[c].rsplit(\"/B-\", maxsplit=1)[1]\n",
    "                myDict.update({split: count})\n",
    "\n",
    "            elif re.search(r\"/B-{}\\w\".format(x), sentence[c]):\n",
    "                split = sentence[c].rsplit(\"/B-\", maxsplit=1)[1]\n",
    "                errorDict.update({split:row[\"Intent\"]})\n",
    "\n",
    "\n",
    "entityAmount = pd.DataFrame(myDict.items(), columns=[\"Intent\", \"Amount\"])\n",
    "entityAmount.sort_values(by=[\"Amount\"], inplace=True, ascending=False)\n",
    "\n",
    "# color = sns.color_palette(\"crest\", as_cmap=True)\n",
    "\n",
    "color = getPalleteAndArrangeValue(\"crest\", entityAmount[\"Amount\"])\n",
    "\n",
    "# fig,wtf, ax = plt.subplot()\n",
    "# print(\"fig: \",fig)\n",
    "# print(\"wtf: \",wtf)\n",
    "# print(\"ax: \",ax)\n",
    "plt.pie(x= entityAmount[\"Amount\"], labels=entityAmount[\"Intent\"], colors=color, autopct=\"%.2f\")\n",
    "\n",
    "# for x in autoTexts:\n",
    "#     x.set_color(\"w\")\n",
    "\n",
    "\n",
    "print(entityAmount)\n",
    "plt.show()"
   ]
  },
  {
   "cell_type": "code",
   "execution_count": null,
   "metadata": {
    "collapsed": false,
    "pycharm": {
     "name": "#%%\n"
    }
   },
   "outputs": [],
   "source": [
    "## Calculate the percentage\n",
    "\n",
    "# Sum of Intent\n",
    "totalIntentTag = sum(myDict[x] for x in myDict)\n",
    "rise = [\"{0:.2f}%\".format(myDict[x] * 100 / totalIntentTag) for x in myDict]\n",
    "\n",
    "entityAmount[\"Percentage\"] = rise\n",
    "entityAmount\n"
   ]
  },
  {
   "cell_type": "markdown",
   "metadata": {
    "collapsed": false,
    "pycharm": {
     "name": "#%% md\n"
    }
   },
   "source": [
    "## Count each word occurence"
   ]
  },
  {
   "cell_type": "code",
   "execution_count": null,
   "metadata": {
    "collapsed": false,
    "pycharm": {
     "name": "#%%\n"
    }
   },
   "outputs": [],
   "source": []
  }
 ],
 "metadata": {
  "kernelspec": {
   "display_name": "Python 3.9.12 ('base')",
   "language": "python",
   "name": "python3"
  },
  "language_info": {
   "codemirror_mode": {
    "name": "ipython",
    "version": 3
   },
   "file_extension": ".py",
   "mimetype": "text/x-python",
   "name": "python",
   "nbconvert_exporter": "python",
   "pygments_lexer": "ipython3",
   "version": "3.9.12"
  },
  "vscode": {
   "interpreter": {
    "hash": "302e4f435be69f8690ba8f81cd16dd63b60c33ccf79277409004dbea84747316"
   }
  }
 },
 "nbformat": 4,
 "nbformat_minor": 0
}
