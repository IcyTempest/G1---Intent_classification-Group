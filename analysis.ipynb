{
 "cells": [
  {
   "cell_type": "code",
   "execution_count": 1,
   "outputs": [],
   "source": [
    "import re\n",
    "\n",
    "import pandas as pd\n",
    "import numpy as np\n",
    "import os\n",
    "\n",
    "import seaborn as sns\n",
    "from matplotlib import pyplot as plt\n"
   ],
   "metadata": {
    "collapsed": false,
    "pycharm": {
     "name": "#%%\n"
    }
   }
  },
  {
   "cell_type": "markdown",
   "source": [
    "## Concatenate Dataset into one File"
   ],
   "metadata": {
    "collapsed": false,
    "pycharm": {
     "name": "#%% md\n"
    }
   }
  },
  {
   "cell_type": "code",
   "execution_count": 2,
   "outputs": [],
   "source": [
    "from typing import List, Dict\n",
    "\n",
    "\n",
    "def eraseSpace(directory: str):\n",
    "    files = getFileNameFromDir(direc=directory)\n",
    "    for file in files:\n",
    "        realFile = open(\"{}/{}\".format(directory, file), mode=\"r\", encoding=\"UTF-8\")\n",
    "        data = [f for f in realFile if f.strip()]\n",
    "        realFile.close()\n",
    "        realFile = open(\"{}/{}\".format(directory, file), mode=\"w\", encoding=\"UTF-8\")\n",
    "        realFile.writelines(data)\n",
    "        realFile.close()\n",
    "\n",
    "\n",
    "def getFileNameFromDir(direc: str) -> List[str]:\n",
    "    return [f for f in os.listdir(\"{}/\".format(direc))]\n",
    "\n",
    "\n",
    "def restructureFile(direcToScan: str, f: str):\n",
    "    data = pd.read_csv(\"{}/{}\".format(direcToScan, f), encoding=\"UTF-8\")\n",
    "    data.rename(columns=({\"Questions\": \"Question\", \"Intents\": \"Intent\"}), inplace=True)\n",
    "    print(f)\n",
    "    data[\"Question\"].dropna(inplace=True)\n",
    "    if data.isnull().any().any():\n",
    "        print(data.columns())\n",
    "        print(data.isna().sum())\n",
    "        print(data.head())\n",
    "\n",
    "    data.to_csv(\"{}/{}\".format(direcToScan, f), encoding=\"UTF-8\", index=False)\n",
    "    return data\n",
    "\n",
    "\n",
    "def myConcat(direcToScan: str, outputFilename: str, outputDirec: str = \"all_data\"):\n",
    "    files = getFileNameFromDir(direc=direcToScan)\n",
    "\n",
    "    datasets = pd.concat([restructureFile(direcToScan=direcToScan, f=f) for f in files], axis=0, ignore_index=True)\n",
    "\n",
    "    datasets.to_csv(\"{}/{}.csv\".format(outputDirec, outputFilename), index=False)"
   ],
   "metadata": {
    "collapsed": false,
    "pycharm": {
     "name": "#%%\n"
    }
   }
  },
  {
   "cell_type": "code",
   "execution_count": 3,
   "outputs": [
    {
     "name": "stdout",
     "output_type": "stream",
     "text": [
      "AskAboutAcademicFee.csv\n",
      "AskAboutAge.csv\n",
      "AskAboutClubInfo.csv\n",
      "AskAboutCompetition.csv\n",
      "AskAboutInterest.csv\n",
      "AskAboutLocation.csv\n",
      "AskAboutMinistry.csv\n",
      "AskAboutParkingPrice.csv\n",
      "AskAboutProvince.csv\n",
      "AskAboutSchoolMajors.csv\n",
      "AskWhereHRRoomIs.csv\n",
      "FindAnnouncementInfo.csv\n",
      "FindClub.csv\n",
      "FindClubRoom.csv\n",
      "FindCSInfo.csv\n",
      "FindCurrentTime.csv\n",
      "FindECInfo.csv\n",
      "FindTNInfo.csv\n",
      "FindTotalStudents.csv\n",
      "IsMinistryExist.csv\n",
      "IsProvinceExist.csv\n",
      "ListClub.csv\n",
      "ListParkingSpace.csv\n",
      "AskAboutAcademicFee.csv\n",
      "AskAboutAge.csv\n",
      "AskAboutClubInfo.csv\n",
      "AskAboutCompetition.csv\n",
      "AskAboutInterest.csv\n",
      "AskAboutLocation.csv\n",
      "AskAboutMinistry.csv\n",
      "AskAboutParkingPrice.csv\n",
      "AskAboutProvince.csv\n",
      "AskAboutSchoolMajors.csv\n",
      "AskWhereHRRoomIs.csv\n",
      "FindAnnouncementInfo.csv\n",
      "FindClub.csv\n",
      "FindClubRoom.csv\n",
      "FindCSInfo.csv\n",
      "FindCurrentTime.csv\n",
      "FindECInfo.csv\n",
      "FindTNInfo.csv\n",
      "FindTotalStudents.csv\n",
      "IsMinistryExist.csv\n",
      "IsProvinceExist.csv\n",
      "ListClub.csv\n",
      "ListParkingSpace.csv\n",
      "AskAboutAcademicFee.csv\n",
      "AskAboutAge.csv\n",
      "AskAboutClubInfo.csv\n",
      "AskAboutCompetition.csv\n",
      "AskAboutInterest.csv\n",
      "AskAboutLocation.csv\n",
      "AskAboutMinistry.csv\n",
      "AskAboutParkingPrice.csv\n",
      "AskAboutProvince.csv\n",
      "AskAboutSchoolMajors.csv\n",
      "AskWhereHRRoomIs.csv\n",
      "FindAnnouncementInfo.csv\n",
      "FindClub.csv\n",
      "FindClubRoom.csv\n",
      "FindCSInfo.csv\n",
      "FindCurrentTime.csv\n",
      "FindECInfo.csv\n",
      "FindTNInfo.csv\n",
      "FindTotalStudents.csv\n",
      "IsMinistryExist.csv\n",
      "IsProvinceExist.csv\n",
      "ListClub.csv\n",
      "ListParkingSpace.csv\n",
      "AskAboutAcademicFee.csv\n",
      "AskAboutAge.csv\n",
      "AskAboutClubInfo.csv\n",
      "AskAboutCompetition.csv\n",
      "AskAboutInterest.csv\n",
      "AskAboutLocation.csv\n",
      "AskAboutMinistry.csv\n",
      "AskAboutParkingPrice.csv\n",
      "AskAboutProvince.csv\n",
      "AskAboutSchoolMajors.csv\n",
      "AskWhereHRRoomIs.csv\n",
      "FindAnnouncementInfo.csv\n",
      "FindClub.csv\n",
      "FindClubRoom.csv\n",
      "FindCSInfo.csv\n",
      "FindCurrentTime.csv\n",
      "FindECInfo.csv\n",
      "FindTNInfo.csv\n",
      "FindTotalStudents.csv\n",
      "IsMinistryExist.csv\n",
      "IsProvinceExist.csv\n",
      "ListClub.csv\n",
      "ListParkingSpace.csv\n"
     ]
    }
   ],
   "source": [
    "## Concatenate All Dataset into one File\n",
    "myConcat(direcToScan=\"datasets\", outputFilename=\"all_data_dataset\")\n",
    "\n",
    "## Concatenate All Entity-tag Dataset into one File\n",
    "myConcat(direcToScan=\"entity-tag\", outputFilename=\"all_entity_dataset\")\n",
    "\n",
    "## Concatenate All Segmentation Dataset into one File\n",
    "myConcat(direcToScan=\"segments\", outputFilename=\"all_segment_dataset\")\n",
    "\n",
    "## Concatenate All Segmentation Dataset into one File\n",
    "myConcat(direcToScan=\"POS/\", outputFilename=\"all_pos_dataset\")"
   ],
   "metadata": {
    "collapsed": false,
    "pycharm": {
     "name": "#%%\n"
    }
   }
  },
  {
   "cell_type": "markdown",
   "source": [
    "## Erase blank from files"
   ],
   "metadata": {
    "collapsed": false,
    "pycharm": {
     "name": "#%% md\n"
    }
   }
  },
  {
   "cell_type": "code",
   "execution_count": 4,
   "outputs": [
    {
     "name": "stdout",
     "output_type": "stream",
     "text": [
      "Success\n"
     ]
    }
   ],
   "source": [
    "try:\n",
    "    eraseSpace(directory=\"datasets\")\n",
    "    eraseSpace(directory=\"entity-tag\")\n",
    "    eraseSpace(directory=\"POS\")\n",
    "    eraseSpace(directory=\"segments\")\n",
    "    print(\"Success\")\n",
    "except:\n",
    "    print(\"fail\")\n"
   ],
   "metadata": {
    "collapsed": false,
    "pycharm": {
     "name": "#%%\n"
    }
   }
  },
  {
   "cell_type": "markdown",
   "source": [
    "## Check for any null or space data"
   ],
   "metadata": {
    "collapsed": false,
    "pycharm": {
     "name": "#%% md\n"
    }
   }
  },
  {
   "cell_type": "code",
   "execution_count": 32,
   "outputs": [
    {
     "name": "stdout",
     "output_type": "stream",
     "text": [
      "AskAboutSchoolMajors.csv file of direc datasets have null at:\n",
      "    Question                Intent\n",
      "852      NaN  AskAboutSchoolMajors\n"
     ]
    }
   ],
   "source": [
    "def checkNullOrSpace():\n",
    "    count: int = 0\n",
    "    checkDict: Dict[str, List[str]] = {\n",
    "        \"datasets\": getFileNameFromDir(\"datasets\"),\n",
    "        \"segments\": getFileNameFromDir(\"segments\"),\n",
    "        \"pos\": getFileNameFromDir(\"pos\"),\n",
    "        \"entity-tag\": getFileNameFromDir(\"entity-tag\"),\n",
    "    }\n",
    "\n",
    "    for direc, v in checkDict.items():\n",
    "        for filename in v:\n",
    "            data = pd.read_csv(\"{}/{}\".format(direc, filename))\n",
    "            if data.isnull().any().any():\n",
    "                print(\"{} file of direc {} have null at:\".format(filename, direc))\n",
    "                print(data[data[\"Question\"].isnull()])\n",
    "                count += 1\n",
    "\n",
    "    if count == 0:\n",
    "        print(\"No null sentence in any files detected\")\n",
    "\n",
    "\n",
    "checkNullOrSpace()"
   ],
   "metadata": {
    "collapsed": false,
    "pycharm": {
     "name": "#%%\n"
    }
   }
  },
  {
   "cell_type": "markdown",
   "source": [
    "## Compare Ner length, POS length, and SEG Length"
   ],
   "metadata": {
    "collapsed": false,
    "pycharm": {
     "name": "#%% md\n"
    }
   }
  },
  {
   "cell_type": "code",
   "execution_count": 5,
   "outputs": [],
   "source": [
    "from pandas import DataFrame\n",
    "\n",
    "\n",
    "def findDiffLengthSentence(allSegDataset: DataFrame, allEntityDataset: DataFrame, allPosDataset: DataFrame):\n",
    "    myTempDict = {}\n",
    "    indexs = allEntityDataset.index.tolist()\n",
    "    segs = allSegDataset[\"Question\"].to_list()\n",
    "    tags = allSegDataset[\"Intent\"].to_list()\n",
    "    ents = allEntityDataset[\"Question\"].to_list()\n",
    "    poss = allPosDataset[\"Question\"].to_list()\n",
    "\n",
    "    for seg, tag, ent, pos, index in zip(segs, tags, ents, poss, indexs):\n",
    "        if len(str(seg).split()) is not len(str(pos).split()) is not len(str(ent).split()):\n",
    "            myTempDict.setdefault(\"index\", []).append(index)\n",
    "            myTempDict.setdefault(\"intent\", []).append(tag)\n",
    "            myTempDict.setdefault(\"length_seg\", []).append(len(str(seg).split()))\n",
    "            myTempDict.setdefault(\"length_pos\", []).append(len(str(pos).split()))\n",
    "            myTempDict.setdefault(\"length_ent\", []).append(len(str(ent).split()))\n",
    "            myTempDict.setdefault(\"seg\", []).append(seg)\n",
    "            myTempDict.setdefault(\"pos\", []).append(pos)\n",
    "            myTempDict.setdefault(\"ent\", []).append(ent)\n",
    "\n",
    "    errorPd = pd.DataFrame.from_dict(myTempDict)\n",
    "    errorPd.to_csv(\"all_data/diff_length_sentences.csv\", index=False)"
   ],
   "metadata": {
    "collapsed": false,
    "pycharm": {
     "name": "#%%\n"
    }
   }
  },
  {
   "cell_type": "code",
   "execution_count": 6,
   "outputs": [
    {
     "data": {
      "text/plain": "Question    0\nIntent      0\ndtype: int64"
     },
     "execution_count": 6,
     "metadata": {},
     "output_type": "execute_result"
    }
   ],
   "source": [
    "temp = pd.read_csv(\"POS/AskWhereHRRoomIs.csv\")\n",
    "# temp.head()\n",
    "temp.isna().sum()"
   ],
   "metadata": {
    "collapsed": false,
    "pycharm": {
     "name": "#%%\n"
    }
   }
  },
  {
   "cell_type": "code",
   "execution_count": 7,
   "outputs": [],
   "source": [
    "allSegFileName = getFileNameFromDir(direc=\"segments\")\n",
    "# allPosFileName = getFileNameFromDir(direc=\"pos\")\n",
    "# allEntityFileName = getFileNameFromDir(direc=\"entity-tag\")\n",
    "\n",
    "myTempDict = {}\n",
    "\n",
    "# Loop Through each file name to read csv\n",
    "for file in allSegFileName:\n",
    "    file = file.replace(\" \", \"\")\n",
    "    allEntityDataset = pd.read_csv(\"entity-tag/{}\".format(file))\n",
    "    allPosDataset = pd.read_csv(\"POS/{}\".format(file))\n",
    "    allSegDataset = pd.read_csv(\"segments/{}\".format(file))\n",
    "\n",
    "    indexs = allEntityDataset.index.tolist()\n",
    "    segs = allSegDataset[\"Question\"].to_list()\n",
    "    tags = allSegDataset[\"Intent\"].to_list()\n",
    "    ents = allEntityDataset[\"Question\"].to_list()\n",
    "    poss = allPosDataset[\"Question\"].to_list()\n",
    "\n",
    "    # loop through the csv to find wrong sentence length\n",
    "    for seg, tag, ent, pos, index in zip(segs, tags, ents, poss, indexs):\n",
    "        if len(str(seg).split()) is not len(str(pos).split()) is not len(str(ent).split()):\n",
    "            myTempDict.setdefault(\"index\", []).append(index)\n",
    "            myTempDict.setdefault(\"intent\", []).append(tag)\n",
    "            myTempDict.setdefault(\"length_seg\", []).append(len(str(seg).split()))\n",
    "            myTempDict.setdefault(\"length_pos\", []).append(len(str(pos).split()))\n",
    "            myTempDict.setdefault(\"length_ent\", []).append(len(str(ent).split()))\n",
    "            myTempDict.setdefault(\"seg\", []).append(seg)\n",
    "            myTempDict.setdefault(\"pos\", []).append(pos)\n",
    "            myTempDict.setdefault(\"ent\", []).append(ent)\n",
    "            print(\"seg\", seg)\n",
    "            print(\"pos\", pos)\n",
    "            print(\"ent\", ent)\n",
    "\n",
    "errorPd = pd.DataFrame.from_dict(myTempDict)\n",
    "errorPd.to_csv(\"all_data/diff_length_sentences.csv\", index=False)"
   ],
   "metadata": {
    "collapsed": false,
    "pycharm": {
     "name": "#%%\n"
    }
   }
  },
  {
   "cell_type": "code",
   "execution_count": 8,
   "outputs": [
    {
     "name": "stdout",
     "output_type": "stream",
     "text": [
      "No Wrong Length Sentences\n"
     ]
    }
   ],
   "source": [
    "from pandas.errors import EmptyDataError\n",
    "\n",
    "try:\n",
    "    wrongSentence = pd.read_csv(\"all_data/diff_length_sentences.csv\")\n",
    "\n",
    "    print(\"length_seg: \", wrongSentence[\"length_seg\"].count())\n",
    "    print(\"length_pos: \", wrongSentence[\"length_pos\"].count())\n",
    "    print(\"length_ent: \", wrongSentence[\"length_ent\"].count())\n",
    "    print(\"seg: \", wrongSentence[\"seg\"].count())\n",
    "    print(\"pos: \", wrongSentence[\"pos\"].count())\n",
    "    print(\"ent: \", wrongSentence[\"ent\"].count())\n",
    "\n",
    "    print(wrongSentence)\n",
    "except EmptyDataError:\n",
    "    print(\"No Wrong Length Sentences\")\n"
   ],
   "metadata": {
    "collapsed": false,
    "pycharm": {
     "name": "#%%\n"
    }
   }
  },
  {
   "cell_type": "markdown",
   "source": [
    "## Find Amount of Sentences per intent as well as Total"
   ],
   "metadata": {
    "collapsed": false,
    "pycharm": {
     "name": "#%% md\n"
    }
   }
  },
  {
   "cell_type": "code",
   "execution_count": 9,
   "outputs": [
    {
     "data": {
      "text/plain": "                                            Question               Intent\n0             តើប្រាប់ពីតម្លៃសិក្សារបស់សាលាស៉ីអេឌីធី  AskAboutAcademicFee\n1                  តើប្រាប់ពីតម្លៃសិក្សារបស់សាលាCADT  AskAboutAcademicFee\n2  តើខ្ញុំចង់ដឹងពីតម្លៃពីតម្លៃសិក្សារបស់សាលាស៉ីអេ...  AskAboutAcademicFee\n3      តើខ្ញុំចង់ដឹងពីតម្លៃពីតម្លៃសិក្សារបស់សាលាCADT  AskAboutAcademicFee\n4     តើសូមប្រាប់ខ្ញុំពីតម្លៃសិក្សារបស់សាលាស៉ីអេឌីធី  AskAboutAcademicFee",
      "text/html": "<div>\n<style scoped>\n    .dataframe tbody tr th:only-of-type {\n        vertical-align: middle;\n    }\n\n    .dataframe tbody tr th {\n        vertical-align: top;\n    }\n\n    .dataframe thead th {\n        text-align: right;\n    }\n</style>\n<table border=\"1\" class=\"dataframe\">\n  <thead>\n    <tr style=\"text-align: right;\">\n      <th></th>\n      <th>Question</th>\n      <th>Intent</th>\n    </tr>\n  </thead>\n  <tbody>\n    <tr>\n      <th>0</th>\n      <td>តើប្រាប់ពីតម្លៃសិក្សារបស់សាលាស៉ីអេឌីធី</td>\n      <td>AskAboutAcademicFee</td>\n    </tr>\n    <tr>\n      <th>1</th>\n      <td>តើប្រាប់ពីតម្លៃសិក្សារបស់សាលាCADT</td>\n      <td>AskAboutAcademicFee</td>\n    </tr>\n    <tr>\n      <th>2</th>\n      <td>តើខ្ញុំចង់ដឹងពីតម្លៃពីតម្លៃសិក្សារបស់សាលាស៉ីអេ...</td>\n      <td>AskAboutAcademicFee</td>\n    </tr>\n    <tr>\n      <th>3</th>\n      <td>តើខ្ញុំចង់ដឹងពីតម្លៃពីតម្លៃសិក្សារបស់សាលាCADT</td>\n      <td>AskAboutAcademicFee</td>\n    </tr>\n    <tr>\n      <th>4</th>\n      <td>តើសូមប្រាប់ខ្ញុំពីតម្លៃសិក្សារបស់សាលាស៉ីអេឌីធី</td>\n      <td>AskAboutAcademicFee</td>\n    </tr>\n  </tbody>\n</table>\n</div>"
     },
     "execution_count": 9,
     "metadata": {},
     "output_type": "execute_result"
    }
   ],
   "source": [
    "## Find Amount of Sentences\n",
    "allDataset = pd.read_csv(\"all_data/all_data_dataset.csv\")\n",
    "allDataset.head()"
   ],
   "metadata": {
    "collapsed": false,
    "pycharm": {
     "name": "#%%\n"
    }
   }
  },
  {
   "cell_type": "code",
   "execution_count": 10,
   "outputs": [],
   "source": [
    "# For used to get Gradient color set\n",
    "\n",
    "def getPalleteAndArrangeValue(color: str, size):\n",
    "    pal = sns.color_palette(color, len(size))\n",
    "\n",
    "    # First sort of list\n",
    "    rank = dataCount.argsort()\n",
    "\n",
    "    # Second sort where we can now define which should have the brightest color\n",
    "    proper = rank.argsort()\n",
    "\n",
    "    # Convert the tuple to a list, also to arrange the the color according to the size of each index of the list\n",
    "    aray = np.array(pal)[proper]\n",
    "    return aray"
   ],
   "metadata": {
    "collapsed": false,
    "pycharm": {
     "name": "#%%\n"
    }
   }
  },
  {
   "cell_type": "markdown",
   "source": [
    "## Find sentences total per intent and Draw BarPlot"
   ],
   "metadata": {
    "collapsed": false,
    "pycharm": {
     "name": "#%% md\n"
    }
   }
  },
  {
   "cell_type": "code",
   "execution_count": 33,
   "outputs": [
    {
     "name": "stdout",
     "output_type": "stream",
     "text": [
      "Intent\n",
      "AskAboutAcademicFee       78\n",
      "AskAboutAge              120\n",
      "AskAboutClubInfo          63\n",
      "AskAboutCompetition      144\n",
      "AskAboutInterest         120\n",
      "AskAboutLocation         176\n",
      "AskAboutMinistry         105\n",
      "AskAboutParkingPrice      96\n",
      "AskAboutProvince         138\n",
      "AskAboutSchoolMajors     852\n",
      "AskWhereHRRoomIs        2520\n",
      "FindAnnouncementInfo      24\n",
      "FindCSInfo               512\n",
      "FindClub                  63\n",
      "FindClubRoom             105\n",
      "FindCurrentTime         1770\n",
      "FindECInfo               500\n",
      "FindTNInfo               512\n",
      "FindTotalStudents        504\n",
      "IsMinistryExist          336\n",
      "IsProvinceExist          138\n",
      "ListClub                  48\n",
      "ListParkingSpace          81\n",
      "dtype: int64\n",
      "-------------------------\n"
     ]
    },
    {
     "data": {
      "text/plain": "<Figure size 640x480 with 1 Axes>",
      "image/png": "[encoded data removed]"
     },
     "metadata": {},
     "output_type": "display_data"
    }
   ],
   "source": [
    "# plt.figure(figsize=(16,8))\n",
    "sns.set(style=\"whitegrid\", color_codes=True)\n",
    "\n",
    "dataCount = allDataset.groupby(\"Intent\").size()\n",
    "\n",
    "\n",
    "aray = getPalleteAndArrangeValue(color=\"Greens_d\", size=dataCount)\n",
    "\n",
    "ax = sns.barplot(x=dataCount.index.tolist(), y=dataCount.values.tolist(), palette=aray)\n",
    "\n",
    "plt.bar_label(ax.containers[0], padding=5, rotation=90)\n",
    "ax.set_xticklabels(ax.get_xticklabels(), rotation=90)\n",
    "\n",
    "print(dataCount)\n",
    "print(\"-------------------------\")\n",
    "plt.show()"
   ],
   "metadata": {
    "collapsed": false,
    "pycharm": {
     "name": "#%%\n"
    }
   }
  },
  {
   "cell_type": "code",
   "execution_count": 12,
   "outputs": [
    {
     "name": "stdout",
     "output_type": "stream",
     "text": [
      "Total Sentence length:  9005\n"
     ]
    }
   ],
   "source": [
    "# Find Total\n",
    "print(\"Total Sentence length: \", allDataset.Question.count())"
   ],
   "metadata": {
    "collapsed": false,
    "pycharm": {
     "name": "#%%\n"
    }
   }
  },
  {
   "cell_type": "markdown",
   "source": [
    "## Check amount of entities as well as for any errors"
   ],
   "metadata": {
    "collapsed": false,
    "pycharm": {
     "name": "#%% md\n"
    }
   }
  },
  {
   "cell_type": "code",
   "execution_count": 13,
   "outputs": [
    {
     "name": "stdout",
     "output_type": "stream",
     "text": [
      "<class 'pandas.core.frame.DataFrame'>\n",
      "RangeIndex: 16 entries, 0 to 15\n",
      "Data columns (total 3 columns):\n",
      " #   Column        Non-Null Count  Dtype \n",
      "---  ------        --------------  ----- \n",
      " 0   Named Entity  16 non-null     object\n",
      " 1   NE Code       16 non-null     object\n",
      " 2   Remarks       14 non-null     object\n",
      "dtypes: object(3)\n",
      "memory usage: 512.0+ bytes\n"
     ]
    }
   ],
   "source": [
    "entityDataFrame = pd.read_csv(\"all_data/all_entity_dataset.csv\")\n",
    "entityFrame = pd.read_csv(\"Named Entity.csv\")\n",
    "entityFrame.info()"
   ],
   "metadata": {
    "collapsed": false,
    "pycharm": {
     "name": "#%%\n"
    }
   }
  },
  {
   "cell_type": "code",
   "execution_count": 14,
   "outputs": [],
   "source": [
    "# Remove white space from column name and apply it to csv file\n",
    "# TODO: This is still experimenting, use with caution\n",
    "\n",
    "# entityFrame = entityFrame.rename(columns={entityFrame.columns.values[1]: \"Question\"})\n",
    "# entityFrame.to_csv(\"Named Entity.csv\", index=False)"
   ],
   "metadata": {
    "collapsed": false,
    "pycharm": {
     "name": "#%%\n"
    }
   }
  },
  {
   "cell_type": "code",
   "execution_count": 15,
   "outputs": [
    {
     "data": {
      "text/plain": "{'ROOM': 2520,\n 'BUILD': 48,\n 'PER': 3735,\n 'GPE': 669,\n 'ORG': 2559,\n 'MAJOR': 1524,\n 'MAJORរៀន': 1142,\n 'MAJORសិក្សា': 1253}"
     },
     "execution_count": 15,
     "metadata": {},
     "output_type": "execute_result"
    }
   ],
   "source": [
    "# Check total amount of entity number\n",
    "myDict = {}\n",
    "entityTag = entityFrame[\"NE Code\"].to_list()\n",
    "entitySentences = entityDataFrame[\"Question\"].to_list()\n",
    "\n",
    "for x in entityTag:\n",
    "    count = 0\n",
    "    for j in entitySentences:\n",
    "        sentence = j.split()\n",
    "        for c in range(len(sentence)):\n",
    "            # Matches /B-Word until space\n",
    "            if re.search(r\"/B-{}\\w*\".format(x), sentence[c]):\n",
    "                count += 1\n",
    "                split = sentence[c].rsplit(\"/B-\", maxsplit=1)[1]\n",
    "                myDict.update({split: count})\n",
    "\n",
    "entityAmount = pd.DataFrame(myDict.items(), columns=[\"Intent\", \"Amount\"])\n",
    "# entityAmount\n",
    "myDict"
   ],
   "metadata": {
    "collapsed": false,
    "pycharm": {
     "name": "#%%\n"
    }
   }
  },
  {
   "cell_type": "code",
   "execution_count": 16,
   "outputs": [
    {
     "data": {
      "text/plain": "        Intent  Amount Percentage\n0         ROOM    2520     18.74%\n1        BUILD      48      0.36%\n2          PER    3735     27.77%\n3          GPE     669      4.97%\n4          ORG    2559     19.03%\n5        MAJOR    1524     11.33%\n6     MAJORរៀន    1142      8.49%\n7  MAJORសិក្សា    1253      9.32%",
      "text/html": "<div>\n<style scoped>\n    .dataframe tbody tr th:only-of-type {\n        vertical-align: middle;\n    }\n\n    .dataframe tbody tr th {\n        vertical-align: top;\n    }\n\n    .dataframe thead th {\n        text-align: right;\n    }\n</style>\n<table border=\"1\" class=\"dataframe\">\n  <thead>\n    <tr style=\"text-align: right;\">\n      <th></th>\n      <th>Intent</th>\n      <th>Amount</th>\n      <th>Percentage</th>\n    </tr>\n  </thead>\n  <tbody>\n    <tr>\n      <th>0</th>\n      <td>ROOM</td>\n      <td>2520</td>\n      <td>18.74%</td>\n    </tr>\n    <tr>\n      <th>1</th>\n      <td>BUILD</td>\n      <td>48</td>\n      <td>0.36%</td>\n    </tr>\n    <tr>\n      <th>2</th>\n      <td>PER</td>\n      <td>3735</td>\n      <td>27.77%</td>\n    </tr>\n    <tr>\n      <th>3</th>\n      <td>GPE</td>\n      <td>669</td>\n      <td>4.97%</td>\n    </tr>\n    <tr>\n      <th>4</th>\n      <td>ORG</td>\n      <td>2559</td>\n      <td>19.03%</td>\n    </tr>\n    <tr>\n      <th>5</th>\n      <td>MAJOR</td>\n      <td>1524</td>\n      <td>11.33%</td>\n    </tr>\n    <tr>\n      <th>6</th>\n      <td>MAJORរៀន</td>\n      <td>1142</td>\n      <td>8.49%</td>\n    </tr>\n    <tr>\n      <th>7</th>\n      <td>MAJORសិក្សា</td>\n      <td>1253</td>\n      <td>9.32%</td>\n    </tr>\n  </tbody>\n</table>\n</div>"
     },
     "execution_count": 16,
     "metadata": {},
     "output_type": "execute_result"
    }
   ],
   "source": [
    "## Calculate the percentage\n",
    "\n",
    "# Sum of Intent\n",
    "totalIntentTag = sum(myDict[x] for x in myDict)\n",
    "rise = [\"{0:.2f}%\".format(myDict[x] * 100 / totalIntentTag) for x in myDict]\n",
    "\n",
    "entityAmount[\"Percentage\"] = rise\n",
    "entityAmount"
   ],
   "metadata": {
    "collapsed": false,
    "pycharm": {
     "name": "#%%\n"
    }
   }
  },
  {
   "cell_type": "markdown",
   "source": [
    "## Count each word occurence"
   ],
   "metadata": {
    "collapsed": false,
    "pycharm": {
     "name": "#%% md\n"
    }
   }
  },
  {
   "cell_type": "code",
   "execution_count": 17,
   "outputs": [],
   "source": [],
   "metadata": {
    "collapsed": false,
    "pycharm": {
     "name": "#%%\n"
    }
   }
  }
 ],
 "metadata": {
  "kernelspec": {
   "display_name": "Python 3",
   "language": "python",
   "name": "python3"
  },
  "language_info": {
   "codemirror_mode": {
    "name": "ipython",
    "version": 2
   },
   "file_extension": ".py",
   "mimetype": "text/x-python",
   "name": "python",
   "nbconvert_exporter": "python",
   "pygments_lexer": "ipython2",
   "version": "2.7.6"
  }
 },
 "nbformat": 4,
 "nbformat_minor": 0
}