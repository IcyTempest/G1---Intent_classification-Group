{
 "cells": [
  {
   "cell_type": "code",
   "execution_count": 98,
   "outputs": [],
   "source": [
    "import re\n",
    "\n",
    "import pandas as pd\n",
    "import numpy as np\n",
    "import os\n",
    "\n",
    "import seaborn as sns\n"
   ],
   "metadata": {
    "collapsed": false,
    "pycharm": {
     "name": "#%%\n"
    }
   }
  },
  {
   "cell_type": "markdown",
   "source": [
    "## Concatenate Dataset into one File"
   ],
   "metadata": {
    "collapsed": false,
    "pycharm": {
     "name": "#%% md\n"
    }
   }
  },
  {
   "cell_type": "code",
   "execution_count": 99,
   "outputs": [],
   "source": [
    "from typing import List\n",
    "\n",
    "\n",
    "def eraseSpace(directory: str):\n",
    "    files = getFileNameFromDir(direc=directory)\n",
    "    for file in files:\n",
    "        realFile = open(\"{}/{}\".format(directory, file), mode=\"r\", encoding=\"UTF-8\")\n",
    "        data = [f for f in realFile if f.strip()]\n",
    "        realFile.close()\n",
    "        realFile = open(\"{}/{}\".format(directory, file), mode=\"w\", encoding=\"UTF-8\")\n",
    "        realFile.writelines(data)\n",
    "        realFile.close()\n",
    "\n",
    "\n",
    "def getFileNameFromDir(direc: str) -> List[str]:\n",
    "    return [f for f in os.listdir(\"{}/\".format(direc))]\n",
    "\n",
    "\n",
    "def myConcat(direcToScan: str, outputFilename: str, outputDirec: str = \"all_data\"):\n",
    "    files = getFileNameFromDir(direc=direcToScan)\n",
    "    datasets = pd.concat([pd.read_csv(\"{}/{}\".format(direcToScan, f)) for f in files], axis=0, ignore_index=True)\n",
    "\n",
    "    datasets.to_csv(\"{}/{}.csv\".format(outputDirec, outputFilename), index=False)"
   ],
   "metadata": {
    "collapsed": false,
    "pycharm": {
     "name": "#%%\n"
    }
   }
  },
  {
   "cell_type": "code",
   "execution_count": 100,
   "outputs": [],
   "source": [
    "## Concatenate All Dataset into one File\n",
    "myConcat(direcToScan=\"datasets\", outputFilename=\"all_data_dataset\")\n",
    "\n",
    "## Concatenate All Entity-tag Dataset into one File\n",
    "myConcat(direcToScan=\"entity-tag\", outputFilename=\"all_entity_dataset\")\n",
    "\n",
    "## Concatenate All Segmentation Dataset into one File\n",
    "myConcat(direcToScan=\"segments\", outputFilename=\"all_segment_dataset\")\n",
    "\n",
    "## Concatenate All Segmentation Dataset into one File\n",
    "myConcat(direcToScan=\"POS/\", outputFilename=\"all_pos_dataset\")"
   ],
   "metadata": {
    "collapsed": false,
    "pycharm": {
     "name": "#%%\n"
    }
   }
  },
  {
   "cell_type": "markdown",
   "source": [
    "## Erase blank from files"
   ],
   "metadata": {
    "collapsed": false,
    "pycharm": {
     "name": "#%% md\n"
    }
   }
  },
  {
   "cell_type": "code",
   "execution_count": 101,
   "outputs": [],
   "source": [
    "# try:\n",
    "#     eraseSpace(directory=\"datasets\")\n",
    "#     eraseSpace(directory=\"entity-tag\")\n",
    "#     eraseSpace(directory=\"POS\")\n",
    "#     eraseSpace(directory=\"segments\")\n",
    "#     print(\"Success\")\n",
    "# except:\n",
    "#     print(\"fail\")\n"
   ],
   "metadata": {
    "collapsed": false,
    "pycharm": {
     "name": "#%%\n"
    }
   }
  },
  {
   "cell_type": "markdown",
   "source": [
    "## Compare Ner length, POS length, and SEG Length"
   ],
   "metadata": {
    "collapsed": false,
    "pycharm": {
     "name": "#%% md\n"
    }
   }
  },
  {
   "cell_type": "code",
   "execution_count": 103,
   "outputs": [
    {
     "ename": "KeyError",
     "evalue": "'length_seg'",
     "output_type": "error",
     "traceback": [
      "\u001B[1;31m---------------------------------------------------------------------------\u001B[0m",
      "\u001B[1;31mKeyError\u001B[0m                                  Traceback (most recent call last)",
      "\u001B[1;32m~\\AppData\\Local\\Temp\\ipykernel_16536\\342066695.py\u001B[0m in \u001B[0;36m<module>\u001B[1;34m\u001B[0m\n\u001B[0;32m     24\u001B[0m         \u001B[0mmyDict\u001B[0m\u001B[1;33m.\u001B[0m\u001B[0msetdefault\u001B[0m\u001B[1;33m(\u001B[0m\u001B[1;34m\"ent\"\u001B[0m\u001B[1;33m,\u001B[0m \u001B[1;33m[\u001B[0m\u001B[1;33m]\u001B[0m\u001B[1;33m)\u001B[0m\u001B[1;33m.\u001B[0m\u001B[0mappend\u001B[0m\u001B[1;33m(\u001B[0m\u001B[0ment\u001B[0m\u001B[1;33m)\u001B[0m\u001B[1;33m\u001B[0m\u001B[1;33m\u001B[0m\u001B[0m\n\u001B[0;32m     25\u001B[0m \u001B[1;33m\u001B[0m\u001B[0m\n\u001B[1;32m---> 26\u001B[1;33m \u001B[0mprint\u001B[0m\u001B[1;33m(\u001B[0m\u001B[1;34m\"length_seg: \"\u001B[0m\u001B[1;33m,\u001B[0m \u001B[0mlen\u001B[0m\u001B[1;33m(\u001B[0m\u001B[0mmyDict\u001B[0m\u001B[1;33m[\u001B[0m\u001B[1;34m\"length_seg\"\u001B[0m\u001B[1;33m]\u001B[0m\u001B[1;33m)\u001B[0m\u001B[1;33m)\u001B[0m\u001B[1;33m\u001B[0m\u001B[1;33m\u001B[0m\u001B[0m\n\u001B[0m\u001B[0;32m     27\u001B[0m \u001B[0mprint\u001B[0m\u001B[1;33m(\u001B[0m\u001B[1;34m\"length_pos: \"\u001B[0m\u001B[1;33m,\u001B[0m \u001B[0mlen\u001B[0m\u001B[1;33m(\u001B[0m\u001B[0mmyDict\u001B[0m\u001B[1;33m[\u001B[0m\u001B[1;34m\"length_pos\"\u001B[0m\u001B[1;33m]\u001B[0m\u001B[1;33m)\u001B[0m\u001B[1;33m)\u001B[0m\u001B[1;33m\u001B[0m\u001B[1;33m\u001B[0m\u001B[0m\n\u001B[0;32m     28\u001B[0m \u001B[0mprint\u001B[0m\u001B[1;33m(\u001B[0m\u001B[1;34m\"length_ent: \"\u001B[0m\u001B[1;33m,\u001B[0m \u001B[0mlen\u001B[0m\u001B[1;33m(\u001B[0m\u001B[0mmyDict\u001B[0m\u001B[1;33m[\u001B[0m\u001B[1;34m\"length_ent\"\u001B[0m\u001B[1;33m]\u001B[0m\u001B[1;33m)\u001B[0m\u001B[1;33m)\u001B[0m\u001B[1;33m\u001B[0m\u001B[1;33m\u001B[0m\u001B[0m\n",
      "\u001B[1;31mKeyError\u001B[0m: 'length_seg'"
     ]
    }
   ],
   "source": [
    "allEntityDataset = pd.read_csv(\"all_data/all_entity_dataset.csv\")\n",
    "allPosDataset = pd.read_csv(\"all_data/all_pos_dataset.csv\")\n",
    "allSegDataset = pd.read_csv(\"all_data/all_segment_dataset.csv\")\n",
    "\n",
    "# error = [1 for seg, entity, ent, pos in\n",
    "#          zip(allSegDataset.items(), allEntityDataset[\"Question\"].items(), allPosDataset[\"Question\"].items()) if\n",
    "#          len(seg) != len(ent) != len(pos)]\n",
    "myDict = {}\n",
    "indexs = allEntityDataset.index.tolist()\n",
    "segs = allSegDataset[\"Question\"].to_list()\n",
    "tags = allSegDataset[\"Intent\"].to_list()\n",
    "ents = allEntityDataset[\"Question\"].to_list()\n",
    "poss = allPosDataset[\"Question\"].to_list()\n",
    "\n",
    "for seg, tag, ent, pos, index in zip(segs, tags, ents, poss, indexs):\n",
    "    if len(str(seg).split()) is not len(str(pos).split()) is not len(str(ent).split()):\n",
    "        myDict.setdefault(\"index\", []).append(index)\n",
    "        myDict.setdefault(\"intent\", []).append(tag)\n",
    "        myDict.setdefault(\"length_seg\", []).append(len(str(seg).split()))\n",
    "        myDict.setdefault(\"length_pos\", []).append(len(str(pos).split()))\n",
    "        myDict.setdefault(\"length_ent\", []).append(len(str(ent).split()))\n",
    "        myDict.setdefault(\"seg\", []).append(seg)\n",
    "        myDict.setdefault(\"pos\", []).append(pos)\n",
    "        myDict.setdefault(\"ent\", []).append(ent)\n",
    "\n",
    "print(\"length_seg: \", len(myDict[\"length_seg\"]))\n",
    "print(\"length_pos: \", len(myDict[\"length_pos\"]))\n",
    "print(\"length_ent: \", len(myDict[\"length_ent\"]))\n",
    "print(\"seg: \", len(myDict[\"seg\"]))\n",
    "print(\"pos: \", len(myDict[\"pos\"]))\n",
    "print(\"ent: \", len(myDict[\"ent\"]))\n",
    "\n",
    "# errorPd = pd.DataFrame.from_dict(myDict)\n",
    "# # errorPd = errorPd.transpose()\n",
    "# errorPd.to_csv(\"all_data/diff_length_sentences.csv\")\n",
    "# errorPd\n",
    "print(myDict)"
   ],
   "metadata": {
    "collapsed": false,
    "pycharm": {
     "name": "#%%\n"
    }
   }
  },
  {
   "cell_type": "markdown",
   "source": [
    "## Find Amount of Sentences per intent as well as Total"
   ],
   "metadata": {
    "collapsed": false,
    "pycharm": {
     "name": "#%% md\n"
    }
   }
  },
  {
   "cell_type": "code",
   "execution_count": null,
   "outputs": [],
   "source": [
    "## Find Amount of Sentences\n",
    "allDataset = pd.read_csv(\"all_data/all_data_dataset.csv\")\n",
    "allDataset.head()"
   ],
   "metadata": {
    "collapsed": false,
    "pycharm": {
     "name": "#%%\n"
    }
   }
  },
  {
   "cell_type": "code",
   "execution_count": null,
   "outputs": [],
   "source": [
    "allDataset.groupby(allDataset[\"Intent\"]).count()"
   ],
   "metadata": {
    "collapsed": false,
    "pycharm": {
     "name": "#%%\n"
    }
   }
  },
  {
   "cell_type": "code",
   "execution_count": null,
   "outputs": [],
   "source": [
    "# Find Total\n",
    "print(\"Total Sentence length: \", allDataset.Question.count())"
   ],
   "metadata": {
    "collapsed": false,
    "pycharm": {
     "name": "#%%\n"
    }
   }
  },
  {
   "cell_type": "markdown",
   "source": [
    "## Check amount of entities as well as for any errors"
   ],
   "metadata": {
    "collapsed": false,
    "pycharm": {
     "name": "#%% md\n"
    }
   }
  },
  {
   "cell_type": "code",
   "execution_count": null,
   "outputs": [],
   "source": [
    "entityDataFrame = pd.read_csv(\"all_data/all_entity_dataset.csv\")\n",
    "entityFrame = pd.read_csv(\"Named Entity.csv\")"
   ],
   "metadata": {
    "collapsed": false,
    "pycharm": {
     "name": "#%%\n"
    }
   }
  },
  {
   "cell_type": "markdown",
   "source": [],
   "metadata": {
    "collapsed": false,
    "pycharm": {
     "name": "#%% md\n"
    }
   }
  },
  {
   "cell_type": "code",
   "execution_count": null,
   "outputs": [],
   "source": [
    "entityFrame.info()"
   ],
   "metadata": {
    "collapsed": false,
    "pycharm": {
     "name": "#%%\n"
    }
   }
  },
  {
   "cell_type": "markdown",
   "source": [],
   "metadata": {
    "collapsed": false,
    "pycharm": {
     "name": "#%% md\n"
    }
   }
  },
  {
   "cell_type": "code",
   "execution_count": null,
   "outputs": [],
   "source": [
    "# Remove white space from column name and apply it to csv file\n",
    "entityFrame = entityFrame.rename(columns={entityFrame.columns.values[1]: entityFrame.columns.values[1].strip()})\n",
    "entityFrame.to_csv(\"Named Entity.csv\")"
   ],
   "metadata": {
    "collapsed": false,
    "pycharm": {
     "name": "#%%\n"
    }
   }
  },
  {
   "cell_type": "code",
   "execution_count": null,
   "outputs": [],
   "source": [
    "myDict = {}\n",
    "entityTag = entityFrame[\"NE Code\"].to_list()\n",
    "entitySentences = entityDataFrame[\"Question\"].to_list()\n",
    "\n",
    "for x in entityTag:\n",
    "    count = 0\n",
    "    for j in entitySentences:\n",
    "        sentence = j.split()\n",
    "        for c in range(len(sentence)):\n",
    "            # Matches /B-Word until space\n",
    "            if re.search(r\"/B-{}\\w*\".format(x), sentence[c]):\n",
    "                count += 1\n",
    "                split = sentence[c].rsplit(\"/B-\", maxsplit=1)[1]\n",
    "                myDict.update({split: count})\n",
    "\n",
    "entityAmount = pd.DataFrame(myDict.items(), columns=[\"Intent\", \"Amount\"])\n",
    "# entityAmount\n",
    "myDict"
   ],
   "metadata": {
    "collapsed": false,
    "pycharm": {
     "name": "#%%\n"
    }
   }
  },
  {
   "cell_type": "code",
   "execution_count": null,
   "outputs": [],
   "source": [
    "## Calculate the percentage\n",
    "\n",
    "# Sum of Intent\n",
    "totalIntentTag = sum(myDict[x] for x in myDict)\n",
    "rise = [\"{0:.2f}%\".format(myDict[x] * 100 / totalIntentTag) for x in myDict]\n",
    "\n",
    "# array = np.asarray(rise)\n",
    "#\n",
    "# arrayV2 = np.fromiter((\"{0:.2f}%\".format(myDict[x]*100/totalIntentTag) for x in myDict), dtype=str)\n",
    "\n",
    "entityAmount[\"Percentage\"] = rise\n",
    "entityAmount"
   ],
   "metadata": {
    "collapsed": false,
    "pycharm": {
     "name": "#%%\n"
    }
   }
  },
  {
   "cell_type": "markdown",
   "source": [
    "## Count each word occurence"
   ],
   "metadata": {
    "collapsed": false,
    "pycharm": {
     "name": "#%% md\n"
    }
   }
  },
  {
   "cell_type": "code",
   "execution_count": null,
   "outputs": [],
   "source": [
    "# TODO: DO THIS\n",
    "\n",
    "# myDict = {}\n",
    "#\n",
    "# for x in entityTag:\n",
    "#     for j in entitySentences:\n",
    "#         for i in j.split():\n",
    "#             if re.search(r\"/\", i):\n",
    "#                 word, entity = [split for split in i.split(\"/\", maxsplit=1)]\n",
    "#\n"
   ],
   "metadata": {
    "collapsed": false,
    "pycharm": {
     "name": "#%%\n"
    }
   }
  },
  {
   "cell_type": "markdown",
   "source": [
    "## Find Different sentence length"
   ],
   "metadata": {
    "collapsed": false,
    "pycharm": {
     "name": "#%% md\n"
    }
   }
  },
  {
   "cell_type": "code",
   "execution_count": null,
   "outputs": [],
   "source": [
    "segmentData = pd.read_csv(\"all_data/all_segment_dataset.csv\")\n",
    "posData = pd.read_csv(\"all_data/all_pos_dataset.csv\")\n",
    "posData.drop(columns=[\"Intent\"], inplace=True)\n",
    "posData.rename(columns={\"Intents\": \"Intent\"}, inplace=True)\n",
    "\n",
    "different_length = [1 if len(str(input)) != len(str(output)) else 0 for input, output in\n",
    "                    zip(segmentData[\"Question\"].tolist(), posData[\"Question\"].tolist())]\n",
    "print(\"{} sentences have different length.\".format(sum(different_length)))"
   ],
   "metadata": {
    "collapsed": false,
    "pycharm": {
     "name": "#%%\n"
    }
   }
  },
  {
   "cell_type": "code",
   "execution_count": null,
   "outputs": [],
   "source": [],
   "metadata": {
    "collapsed": false,
    "pycharm": {
     "name": "#%%\n"
    }
   }
  },
  {
   "cell_type": "code",
   "execution_count": null,
   "outputs": [],
   "source": [
    "mydict = {}\n",
    "mydict.update({\"intent\": 1})"
   ],
   "metadata": {
    "collapsed": false,
    "pycharm": {
     "name": "#%%\n"
    }
   }
  },
  {
   "cell_type": "code",
   "execution_count": null,
   "outputs": [],
   "source": [],
   "metadata": {
    "collapsed": false,
    "pycharm": {
     "name": "#%%\n"
    }
   }
  }
 ],
 "metadata": {
  "kernelspec": {
   "display_name": "Python 3",
   "language": "python",
   "name": "python3"
  },
  "language_info": {
   "codemirror_mode": {
    "name": "ipython",
    "version": 2
   },
   "file_extension": ".py",
   "mimetype": "text/x-python",
   "name": "python",
   "nbconvert_exporter": "python",
   "pygments_lexer": "ipython2",
   "version": "2.7.6"
  }
 },
 "nbformat": 4,
 "nbformat_minor": 0
}